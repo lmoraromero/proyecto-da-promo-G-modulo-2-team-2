{
 "cells": [
  {
   "cell_type": "code",
   "execution_count": null,
   "metadata": {},
   "outputs": [],
   "source": [
    "import pandas as pd\n",
    "\n",
    "import requests\n",
    "\n",
    "pd.set_option('display.max_columns', None)\n",
    "\n",
    "import json\n",
    "\n",
    "from tqdm import tqdm"
   ]
  },
  {
   "cell_type": "code",
   "execution_count": null,
   "metadata": {},
   "outputs": [],
   "source": [
    "genres = [\"Drama\", \"Comedy\", \"Action\"]\n",
    "lista_pelis = []\n",
    "\n",
    "for genre in genres:\n",
    "    for year in tqdm(range(2010,2014)):\n",
    "        for page in tqdm(range(1, 20)):\n",
    "                querystring = {\"genre\":genre,\"titleType\":\"movie\",\"year\": year, \"page\":page,\"limit\":\"50\"}\n",
    "                url = \"https://moviesdatabase.p.rapidapi.com/titles\"\n",
    "                headers = {\n",
    "                \"X-RapidAPI-Key\": \"600295e169msh9cf6b785b5b61cep134f8bjsn9aa642a83b89\",\n",
    "                \"X-RapidAPI-Host\": \"moviesdatabase.p.rapidapi.com\"\n",
    "                }\n",
    "                response = requests.get(url, headers=headers, params=querystring)\n",
    "                print(response.json())\n",
    "                print(f\"He descargado del genero {genre} del año {year} para la página {page}\")\n",
    "                response = requests.get(url, headers=headers, params=querystring)\n",
    "                response_json = response.json()\n",
    "\n",
    "                for pelicula in response_json['results']:\n",
    "                    tipo = pelicula['titleType']['text']\n",
    "                    titulo = pelicula['titleText']['text']\n",
    "                    estreno_a = pelicula['releaseYear']['year']\n",
    "                    estreno_m = pelicula['releaseDate']['month'] if pelicula['releaseDate'] else None\n",
    "                    id_pel = pelicula['id']\n",
    "\n",
    "                    tupla_pelis = (tipo, titulo, estreno_a, estreno_m, id_pel)\n",
    "                    lista_pelis.append(tupla_pelis)\n",
    "print(lista_pelis)"
   ]
  },
  {
   "cell_type": "code",
   "execution_count": null,
   "metadata": {},
   "outputs": [],
   "source": [
    "with open('lista_pelis_2010_2013.json', 'w') as archivo:\n",
    "    json.dump(lista_pelis, archivo)"
   ]
  },
  {
   "cell_type": "code",
   "execution_count": null,
   "metadata": {},
   "outputs": [],
   "source": [
    "df_pelis = pd.DataFrame(lista_pelis, columns=['Tipo', 'Título', 'Año de estreno', 'Mes de estreno', 'ID'])"
   ]
  },
  {
   "cell_type": "code",
   "execution_count": null,
   "metadata": {},
   "outputs": [],
   "source": [
    "df_pelis.to_csv('tabla-pelis-2010-2013.csv')"
   ]
  }
 ],
 "metadata": {
  "language_info": {
   "name": "python"
  }
 },
 "nbformat": 4,
 "nbformat_minor": 2
}
