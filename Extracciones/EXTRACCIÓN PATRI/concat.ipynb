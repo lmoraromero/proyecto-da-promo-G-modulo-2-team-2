{
 "cells": [
  {
   "cell_type": "code",
   "execution_count": 2,
   "metadata": {},
   "outputs": [],
   "source": [
    "import pandas as pd\n",
    "import glob\n"
   ]
  },
  {
   "cell_type": "code",
   "execution_count": 2,
   "metadata": {},
   "outputs": [],
   "source": [
    "archivos_csv = [\"total/1_patri_films_total.csv\", \"total/2_patri_films_total.csv\", \"total/3_patri_films_total.csv\", \"total/14_patri_films_total.csv\", \"total/21_patri_films_total.csv\", \"total/9_patri_films_total.csv\", \"total/13_patri_films_total.csv\",\"total/20_patri_films_total.csv\",\"total/11_patri_films_total.csv\",\"total/12_patri_films_total.csv\",\"total/18_patri_films_total.csv\"]"
   ]
  },
  {
   "cell_type": "code",
   "execution_count": 3,
   "metadata": {},
   "outputs": [],
   "source": [
    "df_combinado = pd.concat((pd.read_csv(archivo) for archivo in archivos_csv), ignore_index=True)"
   ]
  },
  {
   "cell_type": "code",
   "execution_count": 4,
   "metadata": {},
   "outputs": [],
   "source": [
    "df_combinado = df_combinado.drop_duplicates()"
   ]
  },
  {
   "cell_type": "code",
   "execution_count": 5,
   "metadata": {},
   "outputs": [],
   "source": [
    "df_combinado.to_csv('concat/pelis_21-23_limpias.csv')\n"
   ]
  },
  {
   "cell_type": "code",
   "execution_count": 17,
   "metadata": {},
   "outputs": [
    {
     "name": "stdout",
     "output_type": "stream",
     "text": [
      "15077\n",
      "11227\n"
     ]
    }
   ],
   "source": [
    "new_df_no_duplicate = pd.read_csv('Concat/pelis_21-23_limpias.csv')\n",
    "\n",
    "new_df_no_duplicate = new_df_no_duplicate.drop(columns=\"Unnamed: 0\")\n",
    "new_df_no_duplicate = new_df_no_duplicate.drop(columns=\"Unnamed: 0.1\")\n",
    "\n",
    "print(len(new_df_no_duplicate.index))\n",
    "\n",
    "new_df_no_duplicate = new_df_no_duplicate.drop_duplicates()\n",
    "\n",
    "print(len(new_df_no_duplicate.index))\n",
    "\n",
    "new_df_no_duplicate.to_csv('concat/r_pelis_limpias.csv')\n",
    "\n"
   ]
  }
 ],
 "metadata": {
  "kernelspec": {
   "display_name": "base",
   "language": "python",
   "name": "python3"
  },
  "language_info": {
   "codemirror_mode": {
    "name": "ipython",
    "version": 3
   },
   "file_extension": ".py",
   "mimetype": "text/x-python",
   "name": "python",
   "nbconvert_exporter": "python",
   "pygments_lexer": "ipython3",
   "version": "3.9.7"
  }
 },
 "nbformat": 4,
 "nbformat_minor": 2
}
