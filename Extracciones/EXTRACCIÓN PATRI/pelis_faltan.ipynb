{
 "cells": [
  {
   "cell_type": "code",
   "execution_count": 1,
   "metadata": {},
   "outputs": [],
   "source": [
    "import pandas as pd\n",
    "\n",
    "import json"
   ]
  },
  {
   "cell_type": "code",
   "execution_count": 2,
   "metadata": {},
   "outputs": [
    {
     "data": {
      "text/plain": [
       "11227"
      ]
     },
     "execution_count": 2,
     "metadata": {},
     "output_type": "execute_result"
    }
   ],
   "source": [
    "df_pelis_limpias = pd.read_csv('concat/r_pelis_limpias.csv')  # pd.read_csv(\"concat/pelis_21-23_limpias.csv\")\n",
    "len(df_pelis_limpias.index)"
   ]
  },
  {
   "cell_type": "code",
   "execution_count": 3,
   "metadata": {},
   "outputs": [
    {
     "data": {
      "text/plain": [
       "25382"
      ]
     },
     "execution_count": 3,
     "metadata": {},
     "output_type": "execute_result"
    }
   ],
   "source": [
    "df_20212023 = pd.read_csv(\"../INFO_PELIS/peliculas_2021_2023.csv\")\n",
    "len(df_20212023.index)"
   ]
  },
  {
   "cell_type": "code",
   "execution_count": 9,
   "metadata": {},
   "outputs": [
    {
     "data": {
      "text/plain": [
       "13953"
      ]
     },
     "execution_count": 9,
     "metadata": {},
     "output_type": "execute_result"
    }
   ],
   "source": [
    "missing_films_ids = []\n",
    "for peli in df_20212023.itertuples():\n",
    "    if peli[4] not in [peli_limpia[7] for peli_limpia in df_pelis_limpias.itertuples()]:\n",
    "        missing_films_ids.append(peli[7])\n",
    "\n",
    "len(missing_films_ids)"
   ]
  },
  {
   "cell_type": "code",
   "execution_count": 6,
   "metadata": {},
   "outputs": [
    {
     "data": {
      "text/plain": [
       "22618"
      ]
     },
     "execution_count": 6,
     "metadata": {},
     "output_type": "execute_result"
    }
   ],
   "source": [
    "pelis_faltan = set()\n",
    "\n",
    "for row in df_20212023.itertuples():\n",
    "   nombre_en_pelistotales = row[4]\n",
    "   for row_limpio in df_pelis_limpias.itertuples():\n",
    "      film_name=row_limpio[7]\n",
    "  \n",
    "      if nombre_en_pelistotales != film_name:\n",
    "         pelis_faltan.add(row[7])\n",
    "   \n",
    "len(list(pelis_faltan))\n",
    "\n",
    "# with open (\"peliculas_que_faltan.json\", \"w\") as fichero: \n",
    "#    json.dump(pelis_faltan, fichero)\n",
    "       \n",
    "\n"
   ]
  },
  {
   "cell_type": "code",
   "execution_count": 64,
   "metadata": {},
   "outputs": [
    {
     "data": {
      "text/plain": [
       "22618"
      ]
     },
     "execution_count": 64,
     "metadata": {},
     "output_type": "execute_result"
    }
   ],
   "source": [
    "len(pelis_faltan)"
   ]
  },
  {
   "cell_type": "code",
   "execution_count": 10,
   "metadata": {},
   "outputs": [],
   "source": [
    "pelis_fatan_lista = list(pelis_faltan)\n",
    "\n",
    "with open (\"peliculas_que_faltan.json\", \"w\") as fichero: \n",
    "   json.dump(missing_films_ids, fichero)"
   ]
  },
  {
   "cell_type": "code",
   "execution_count": 5,
   "metadata": {},
   "outputs": [
    {
     "name": "stdout",
     "output_type": "stream",
     "text": [
      "Pandas(Index=0, _1=0, Puntuacion_IMDB='6.2', Dirección=\"['Martin Bourboulon']\", Guionistas='DESCONOCIDO', Argumento=\"The government is asking Eiffel to design something spectacular for the 1889 Paris World Fair, but Eiffel simply wants to design the subway. Suddenly, everything changes when Eiffel crosses paths with a mysterious woman from Arun's past.\", Duración='1h 48m', _7='Eiffel')\n"
     ]
    }
   ],
   "source": [
    "for row in df_pelis_limpias.itertuples():\n",
    "    print(row)\n",
    "    break"
   ]
  }
 ],
 "metadata": {
  "kernelspec": {
   "display_name": "base",
   "language": "python",
   "name": "python3"
  },
  "language_info": {
   "codemirror_mode": {
    "name": "ipython",
    "version": 3
   },
   "file_extension": ".py",
   "mimetype": "text/x-python",
   "name": "python",
   "nbconvert_exporter": "python",
   "pygments_lexer": "ipython3",
   "version": "3.9.7"
  }
 },
 "nbformat": 4,
 "nbformat_minor": 2
}
