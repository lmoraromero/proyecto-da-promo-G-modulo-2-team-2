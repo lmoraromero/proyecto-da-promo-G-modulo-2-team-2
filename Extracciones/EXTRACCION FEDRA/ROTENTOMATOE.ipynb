{
 "cells": [
  {
   "cell_type": "code",
   "execution_count": 1,
   "metadata": {},
   "outputs": [
    {
     "name": "stderr",
     "output_type": "stream",
     "text": [
      "C:\\Users\\femes\\AppData\\Local\\Temp\\ipykernel_19860\\3104618795.py:2: DeprecationWarning: \n",
      "Pyarrow will become a required dependency of pandas in the next major release of pandas (pandas 3.0),\n",
      "(to allow more performant data types, such as the Arrow string type, and better interoperability with other libraries)\n",
      "but was not found to be installed on your system.\n",
      "If this would cause problems for you,\n",
      "please provide us feedback at https://github.com/pandas-dev/pandas/issues/54466\n",
      "        \n",
      "  import pandas as pd\n"
     ]
    }
   ],
   "source": [
    "# Importar librerías para tratamiento de datos\n",
    "import pandas as pd  \n",
    "\n",
    "# Importar librerías para web scraping y manipulación de datos\n",
    "from bs4 import BeautifulSoup\n",
    "import requests\n",
    "import re\n",
    "import random\n",
    "\n",
    "# Importar librerías para automatización de navegadores web con Selenium\n",
    "from selenium import webdriver  \n",
    "from selenium.webdriver.common.by import By\n",
    "from webdriver_manager.chrome import ChromeDriverManager  \n",
    "from selenium.webdriver.common.keys import Keys  \n",
    "from selenium.webdriver.support.ui import Select  \n",
    "\n",
    "# Importar librerías para pausar la ejecución\n",
    "from time import sleep  \n",
    "\n",
    "# Configuraciones\n",
    "pd.set_option('display.max_columns', None)  # Establece una opción de Pandas para mostrar todas las columnas de un DataFrame.\n",
    "\n",
    "import warnings\n",
    "warnings.filterwarnings('ignore')"
   ]
  },
  {
   "cell_type": "code",
   "execution_count": 2,
   "metadata": {},
   "outputs": [],
   "source": [
    "rotten = pd.read_csv(\"../INFO_PELIS/lista_pelis_2014_2020.csv\", index_col = 0)"
   ]
  },
  {
   "cell_type": "code",
   "execution_count": 3,
   "metadata": {},
   "outputs": [
    {
     "data": {
      "text/html": [
       "<div>\n",
       "<style scoped>\n",
       "    .dataframe tbody tr th:only-of-type {\n",
       "        vertical-align: middle;\n",
       "    }\n",
       "\n",
       "    .dataframe tbody tr th {\n",
       "        vertical-align: top;\n",
       "    }\n",
       "\n",
       "    .dataframe thead th {\n",
       "        text-align: right;\n",
       "    }\n",
       "</style>\n",
       "<table border=\"1\" class=\"dataframe\">\n",
       "  <thead>\n",
       "    <tr style=\"text-align: right;\">\n",
       "      <th></th>\n",
       "      <th>Genero</th>\n",
       "      <th>Tipo</th>\n",
       "      <th>Titulo</th>\n",
       "      <th>Año de estreno</th>\n",
       "      <th>Mes de estreno</th>\n",
       "      <th>ID</th>\n",
       "    </tr>\n",
       "  </thead>\n",
       "  <tbody>\n",
       "    <tr>\n",
       "      <th>72221</th>\n",
       "      <td>Action</td>\n",
       "      <td>Movie</td>\n",
       "      <td>Trapped</td>\n",
       "      <td>2020</td>\n",
       "      <td>3.0</td>\n",
       "      <td>tt30293906</td>\n",
       "    </tr>\n",
       "    <tr>\n",
       "      <th>72222</th>\n",
       "      <td>Action</td>\n",
       "      <td>Movie</td>\n",
       "      <td>Hridoy Jurey</td>\n",
       "      <td>2020</td>\n",
       "      <td>2.0</td>\n",
       "      <td>tt30613966</td>\n",
       "    </tr>\n",
       "    <tr>\n",
       "      <th>72223</th>\n",
       "      <td>Action</td>\n",
       "      <td>Movie</td>\n",
       "      <td>The call of the wild</td>\n",
       "      <td>2020</td>\n",
       "      <td>2.0</td>\n",
       "      <td>tt30701148</td>\n",
       "    </tr>\n",
       "    <tr>\n",
       "      <th>72224</th>\n",
       "      <td>Action</td>\n",
       "      <td>Movie</td>\n",
       "      <td>Special ops</td>\n",
       "      <td>2020</td>\n",
       "      <td>3.0</td>\n",
       "      <td>tt30877640</td>\n",
       "    </tr>\n",
       "    <tr>\n",
       "      <th>72225</th>\n",
       "      <td>Action</td>\n",
       "      <td>Movie</td>\n",
       "      <td>House of Stone</td>\n",
       "      <td>2020</td>\n",
       "      <td>12.0</td>\n",
       "      <td>tt31451622</td>\n",
       "    </tr>\n",
       "  </tbody>\n",
       "</table>\n",
       "</div>"
      ],
      "text/plain": [
       "       Genero   Tipo                Titulo  Año de estreno  Mes de estreno  \\\n",
       "72221  Action  Movie               Trapped            2020             3.0   \n",
       "72222  Action  Movie          Hridoy Jurey            2020             2.0   \n",
       "72223  Action  Movie  The call of the wild            2020             2.0   \n",
       "72224  Action  Movie           Special ops            2020             3.0   \n",
       "72225  Action  Movie        House of Stone            2020            12.0   \n",
       "\n",
       "               ID  \n",
       "72221  tt30293906  \n",
       "72222  tt30613966  \n",
       "72223  tt30701148  \n",
       "72224  tt30877640  \n",
       "72225  tt31451622  "
      ]
     },
     "execution_count": 3,
     "metadata": {},
     "output_type": "execute_result"
    }
   ],
   "source": [
    "rotten.tail()"
   ]
  },
  {
   "cell_type": "code",
   "execution_count": 4,
   "metadata": {},
   "outputs": [],
   "source": [
    "lista_titulos= rotten[\"Titulo\"].to_list()"
   ]
  },
  {
   "cell_type": "code",
   "execution_count": 5,
   "metadata": {},
   "outputs": [],
   "source": [
    "lista_años= rotten[\"Año de estreno\"].to_list()"
   ]
  },
  {
   "cell_type": "code",
   "execution_count": 6,
   "metadata": {},
   "outputs": [],
   "source": [
    "list_busqueda_rotten = []\n",
    "for titulo,año in zip(lista_titulos,lista_años):\n",
    "    list_busqueda_rotten.append({titulo:año})"
   ]
  },
  {
   "cell_type": "code",
   "execution_count": null,
   "metadata": {},
   "outputs": [],
   "source": []
  },
  {
   "cell_type": "code",
   "execution_count": 7,
   "metadata": {},
   "outputs": [],
   "source": [
    "## Extraccion datos Rotten Tomatoes\n",
    "\n",
    "url= \"https://www.google.es/\"\n",
    "\n",
    "\n",
    "options = webdriver.FirefoxOptions()\n",
    "options.page_load_strategy = \"eager\"\n",
    "driver = webdriver.Firefox(options)\n",
    "\n",
    "driver.get(url)\n",
    "\n",
    "driver.maximize_window()\n",
    "\n",
    "# Aceptar las cookies de GOOGLE\n",
    "driver.find_element(\"css selector\", \"#L2AGLb > div\").click()\n",
    "sleep(3)\n",
    "\n",
    "puntuacion_tomatoes = {}\n",
    "contador = 68933\n",
    "maximo = 69933\n",
    "\n",
    "for peli in list_busqueda_rotten[contador:maximo]:\n",
    "    for titulo,año in peli.items():\n",
    "         \n",
    "        busqueda = f\"TOMATOMETER title: {titulo} - year: {año}\"\n",
    "        # print(busqueda)\n",
    "        \n",
    "        try:\n",
    "                       \n",
    "            buscador = driver.find_element(\"css selector\",'#APjFqb')\n",
    "            buscador.clear()\n",
    "            buscador.send_keys(busqueda, Keys.ENTER)\n",
    "            sleep(random.randint(4,6))\n",
    "\n",
    "            try:\n",
    "                puntuacion_tomatoes[titulo]=driver.find_element(\"css selector\",\"#rso > div:first-child > div > div > div > div:nth-child(3) > div > span:nth-child(2)\").text\n",
    "                                \n",
    "            except:\n",
    "                puntuacion_completa= driver.find_element(\"css selector\",'#rso > div:nth-child(1) > div > div > div:nth-child(3) > div').text\n",
    "                puntuacion = re.search(r'\\b(\\d+)%', puntuacion_completa)\n",
    "                puntuacion_tomatoes[titulo]=puntuacion.group()\n",
    "        \n",
    "        except:\n",
    "            puntuacion_tomatoes[titulo]=\"No existe puntuacion\"\n",
    "\n",
    "\n",
    "\n",
    "df_tomatoes = pd.Series(puntuacion_tomatoes,name=\"puntuacion\")\n",
    "df_tomatoes.index.name=\"titulo\"\n",
    "df_tomatoes.reset_index()\n",
    "df_tomatoes.to_csv(f\"{contador}_{maximo}_puntuacion_tomates_fedra.csv\")"
   ]
  }
 ],
 "metadata": {
  "kernelspec": {
   "display_name": "Python 3",
   "language": "python",
   "name": "python3"
  },
  "language_info": {
   "codemirror_mode": {
    "name": "ipython",
    "version": 3
   },
   "file_extension": ".py",
   "mimetype": "text/x-python",
   "name": "python",
   "nbconvert_exporter": "python",
   "pygments_lexer": "ipython3",
   "version": "3.11.8"
  }
 },
 "nbformat": 4,
 "nbformat_minor": 2
}
