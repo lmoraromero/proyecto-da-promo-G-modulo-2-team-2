{
 "cells": [
  {
   "cell_type": "code",
   "execution_count": 24,
   "metadata": {},
   "outputs": [],
   "source": [
    "# Importar librería para la conexión con MySQL\n",
    "# -----------------------------------------------------------------------\n",
    "import mysql.connector\n",
    "from mysql.connector import errorcode\n",
    "\n",
    "\n",
    "# Importar librerías para manipulación y análisis de datos\n",
    "# -----------------------------------------------------------------------\n",
    "import pandas as pd\n",
    "import numpy as np\n",
    "\n",
    "from tqdm import tqdm"
   ]
  },
  {
   "cell_type": "code",
   "execution_count": 25,
   "metadata": {},
   "outputs": [
    {
     "name": "stdout",
     "output_type": "stream",
     "text": [
      "1007 (HY000): Can't create database 'pruebas_cine'; database exists\n",
      "Error Code: 1007\n",
      "SQLSTATE HY000\n",
      "Message Can't create database 'pruebas_cine'; database exists\n"
     ]
    }
   ],
   "source": [
    "#Creo la BBDD:\n",
    "\n",
    "cnx = mysql.connector.connect(user='root', password='AlumnaAdalab',\n",
    "                              host='127.0.0.1')\n",
    "\n",
    "\n",
    "mycursor = cnx.cursor()\n",
    "try:\n",
    "    mycursor.execute(\"CREATE DATABASE pruebas_cine\")\n",
    "    print(mycursor)\n",
    "except mysql.connector.Error as err:\n",
    "    print(err)\n",
    "    print(\"Error Code:\", err.errno)\n",
    "    print(\"SQLSTATE\", err.sqlstate)\n",
    "    print(\"Message\", err.msg)"
   ]
  },
  {
   "cell_type": "code",
   "execution_count": 26,
   "metadata": {},
   "outputs": [
    {
     "name": "stdout",
     "output_type": "stream",
     "text": [
      "Tabla creada correctamente.\n"
     ]
    }
   ],
   "source": [
    "# Creo la tabla para las películas\n",
    "\n",
    "cnx = mysql.connector.connect(\n",
    "    user='root', password='AlumnaAdalab',\n",
    "    host='127.0.0.1', database='pruebas_cine'\n",
    ")\n",
    "\n",
    "mycursor = cnx.cursor()\n",
    "\n",
    "\n",
    "crear_tabla = \"\"\"\n",
    "CREATE TABLE IF NOT EXISTS peliculas3 (\n",
    "    Genero VARCHAR(255),\n",
    "    Tipo VARCHAR(255),\n",
    "    Titulo VARCHAR(255),\n",
    "    Anio_de_estreno INT,\n",
    "    Mes_de_estreno FLOAT,\n",
    "    ID VARCHAR(255)\n",
    ")\n",
    "\"\"\"\n",
    "\n",
    "# Ejecuta la instrucción SQL para crear la tabla\n",
    "try:\n",
    "    mycursor.execute(crear_tabla)\n",
    "    print(\"Tabla creada correctamente.\")\n",
    "except mysql.connector.Error as err:\n",
    "    print(\"Error al crear la tabla:\", err)\n",
    "\n",
    "# Cierra el cursor y la conexión a la base de datos\n",
    "mycursor.close()\n",
    "cnx.close()"
   ]
  },
  {
   "cell_type": "code",
   "execution_count": 27,
   "metadata": {},
   "outputs": [
    {
     "name": "stderr",
     "output_type": "stream",
     "text": [
      "Insertando registros: 100%|██████████| 10/10 [00:00<00:00, 347.69it/s]\n"
     ]
    }
   ],
   "source": [
    "# Insertar información de las películas\n",
    "\n",
    "cnx = mysql.connector.connect(\n",
    "    user='root', password='AlumnaAdalab',\n",
    "    host='127.0.0.1', database='pruebas_cine'\n",
    ")\n",
    "\n",
    "mycursor = cnx.cursor()\n",
    "\n",
    "# Lee el archivo CSV\n",
    "df = pd.read_csv(\"pelis_ordenadas.csv\")\n",
    "df.drop(df.columns[0], axis=1, inplace=True) #elimina la primera columna\n",
    "\n",
    "# Define el rango de filas sobre el cual iterar\n",
    "inicio = 0  \n",
    "fin = 10   \n",
    "\n",
    "# Itera sobre el rango de filas especificado del DataFrame\n",
    "for index in tqdm(range(inicio, fin), desc=\"Insertando registros\"):\n",
    "    row = df.iloc[index]  # Obtén la fila en el índice actual\n",
    "    sql = \"INSERT INTO peliculas3 (Genero, Tipo, Titulo, Anio_de_estreno, Mes_de_estreno, ID) VALUES (%s, %s, %s, %s, %s, %s)\"\n",
    "    # Convierte el año de estreno y el mes a tipo int\n",
    "    año_de_estreno = int(row['Año de estreno']) if not pd.isnull(row['Año de estreno']) else None\n",
    "    mes_de_estreno = float(row['Mes de estreno']) if not pd.isnull(row['Mes de estreno']) else None\n",
    "    val = (row['Genero'], row['Tipo'], row['Titulo'], año_de_estreno, mes_de_estreno, row['ID'])\n",
    "    try:\n",
    "        mycursor.execute(sql, val)\n",
    "        cnx.commit()  # Confirma la transacción\n",
    "    except mysql.connector.Error as err:\n",
    "        cnx.rollback()  # Revierte la transacción si hay un error\n",
    "        print(\"Error al insertar registro:\", err)\n",
    "\n",
    "# Cierra el cursor y la conexión a la base de datos\n",
    "mycursor.close()\n",
    "cnx.close()"
   ]
  },
  {
   "cell_type": "code",
   "execution_count": 30,
   "metadata": {},
   "outputs": [
    {
     "name": "stdout",
     "output_type": "stream",
     "text": [
      "Tabla creada correctamente.\n"
     ]
    }
   ],
   "source": [
    "# Creo la tabla para IMDB\n",
    "\n",
    "cnx = mysql.connector.connect(\n",
    "    user='root', password='AlumnaAdalab',\n",
    "    host='127.0.0.1', database='pruebas_cine'\n",
    ")\n",
    "\n",
    "mycursor = cnx.cursor()\n",
    "\n",
    "\n",
    "crear_tabla = \"\"\"\n",
    "CREATE TABLE IF NOT EXISTS info_imdb2 (\n",
    "    Puntuacion_IMDB VARCHAR(255),\n",
    "    Direccion VARCHAR(255),\n",
    "    Guionistas VARCHAR(255),\n",
    "    Argumento TEXT,\n",
    "    Duracion VARCHAR(255),\n",
    "    Nombre_pelicula VARCHAR(255)\n",
    ")\n",
    "\"\"\"\n",
    "# Puntuacion_IMDB, Direccion, Guionistas, Argumento, Duracion, Nombre_de_la_pelicula\n",
    "\n",
    "try:\n",
    "    mycursor.execute(crear_tabla)\n",
    "    print(\"Tabla creada correctamente.\")\n",
    "except mysql.connector.Error as err:\n",
    "    print(\"Error al crear la tabla:\", err)\n",
    "\n",
    "\n",
    "mycursor.close()\n",
    "cnx.close()"
   ]
  },
  {
   "cell_type": "code",
   "execution_count": 31,
   "metadata": {},
   "outputs": [
    {
     "name": "stderr",
     "output_type": "stream",
     "text": [
      "Insertando registros: 100%|██████████| 10/10 [00:00<00:00, 300.21it/s]\n"
     ]
    }
   ],
   "source": [
    "#Insertar información IMDB\n",
    "\n",
    "cnx = mysql.connector.connect(\n",
    "    user='root', password='AlumnaAdalab',\n",
    "    host='127.0.0.1', database='pruebas_cine'\n",
    ")\n",
    "\n",
    "mycursor = cnx.cursor()\n",
    "\n",
    "\n",
    "df = pd.read_csv(\"2007_laura_films_total.csv\")\n",
    "df.drop(df.columns[0], axis=1, inplace=True)\n",
    "\n",
    "\n",
    "inicio = 0  \n",
    "fin = 10   \n",
    "\n",
    "\n",
    "for index in tqdm(range(inicio, fin), desc=\"Insertando registros\"):\n",
    "    row = df.iloc[index]  \n",
    "    sql = \"INSERT INTO info_imdb2 (Puntuacion_IMDB, Direccion, Guionistas, Argumento, Duracion, Nombre_pelicula) VALUES (%s, %s, %s, %s, %s, %s)\"\n",
    "   \n",
    "    try:\n",
    "        mycursor.execute(sql, (str(row['Puntuacion_IMDB']), str(row['Dirección']), str(row['Guionistas']), str(row['Argumento']), str(row['Duración']), str(row['Nombre de la película'])))\n",
    "        cnx.commit()  \n",
    "    except mysql.connector.Error as err:\n",
    "        cnx.rollback()  \n",
    "        print(\"Error al insertar registro:\", err)\n",
    "\n",
    "\n",
    "mycursor.close()\n",
    "cnx.close()"
   ]
  },
  {
   "cell_type": "code",
   "execution_count": 35,
   "metadata": {},
   "outputs": [
    {
     "name": "stdout",
     "output_type": "stream",
     "text": [
      "Tabla creada correctamente.\n"
     ]
    }
   ],
   "source": [
    "# Creo la tabla actores\n",
    "\n",
    "cnx = mysql.connector.connect(\n",
    "    user='root', password='AlumnaAdalab',\n",
    "    host='127.0.0.1', database='pruebas_cine'\n",
    ")\n",
    "\n",
    "mycursor = cnx.cursor()\n",
    "\n",
    "\n",
    "crear_tabla = \"\"\"\n",
    "CREATE TABLE IF NOT EXISTS info_actores (\n",
    "    Nombre VARCHAR(255),\n",
    "    Nacimiento VARCHAR(255),\n",
    "    Conocido VARCHAR(255),\n",
    "    Que_hace TEXT,\n",
    "    Premios VARCHAR(255),\n",
    "    Oscar VARCHAR(255)\n",
    ")\n",
    "\"\"\"\n",
    "# Nombre,Nacimiento,Conocido,Que hace,Premios,Oscar\n",
    "\n",
    "try:\n",
    "    mycursor.execute(crear_tabla)\n",
    "    print(\"Tabla creada correctamente.\")\n",
    "except mysql.connector.Error as err:\n",
    "    print(\"Error al crear la tabla:\", err)\n",
    "\n",
    "\n",
    "mycursor.close()\n",
    "cnx.close()"
   ]
  },
  {
   "cell_type": "code",
   "execution_count": 37,
   "metadata": {},
   "outputs": [
    {
     "name": "stderr",
     "output_type": "stream",
     "text": [
      "100%|██████████| 4/4 [00:00<00:00, 442.20it/s]\n"
     ]
    }
   ],
   "source": [
    "#Insertar información IMDB\n",
    "\n",
    "cnx = mysql.connector.connect(\n",
    "    user='root', password='AlumnaAdalab',\n",
    "    host='127.0.0.1', database='pruebas_cine'\n",
    ")\n",
    "\n",
    "mycursor = cnx.cursor()\n",
    "\n",
    "\n",
    "df = pd.read_csv(\"df_actores_info_42826_45826.csv\")\n",
    "df.drop(df.columns[0], axis=1, inplace=True)\n",
    "\n",
    "inicio = 11  \n",
    "fin = 15 \n",
    "\n",
    "\n",
    "for index in tqdm(range(inicio, fin)):\n",
    "   \n",
    "    row = df.iloc[index]\n",
    "    \n",
    "    sql = \"INSERT INTO info_actores (Nombre, Nacimiento, Conocido, Que_hace, Premios, Oscar) VALUES (%s, %s, %s, %s, %s, %s)\"\n",
    "    \n",
    "    try:\n",
    "        mycursor.execute(sql, (str(row['Nombre']), str(row['Nacimiento']), str(row['Conocido']), str(row['Que hace']), str(row['Premios']), str(row['Oscar'])))\n",
    "        cnx.commit() \n",
    "    except mysql.connector.Error as err:\n",
    "        cnx.rollback()  \n",
    "        print(\"Error al insertar registro:\", err)\n",
    "\n",
    "\n",
    "mycursor.close()\n",
    "cnx.close()"
   ]
  }
 ],
 "metadata": {
  "kernelspec": {
   "display_name": "Python 3",
   "language": "python",
   "name": "python3"
  },
  "language_info": {
   "codemirror_mode": {
    "name": "ipython",
    "version": 3
   },
   "file_extension": ".py",
   "mimetype": "text/x-python",
   "name": "python",
   "nbconvert_exporter": "python",
   "pygments_lexer": "ipython3",
   "version": "3.11.8"
  }
 },
 "nbformat": 4,
 "nbformat_minor": 2
}
