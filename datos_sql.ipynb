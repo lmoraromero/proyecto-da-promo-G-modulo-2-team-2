{
 "cells": [
  {
   "cell_type": "code",
   "execution_count": 2,
   "metadata": {},
   "outputs": [
    {
     "name": "stderr",
     "output_type": "stream",
     "text": [
      "C:\\Users\\laura\\AppData\\Local\\Temp\\ipykernel_22032\\101696790.py:9: DeprecationWarning: \n",
      "Pyarrow will become a required dependency of pandas in the next major release of pandas (pandas 3.0),\n",
      "(to allow more performant data types, such as the Arrow string type, and better interoperability with other libraries)\n",
      "but was not found to be installed on your system.\n",
      "If this would cause problems for you,\n",
      "please provide us feedback at https://github.com/pandas-dev/pandas/issues/54466\n",
      "        \n",
      "  import pandas as pd\n"
     ]
    }
   ],
   "source": [
    "# Importar librería para la conexión con MySQL\n",
    "# -----------------------------------------------------------------------\n",
    "import mysql.connector\n",
    "from mysql.connector import errorcode\n",
    "\n",
    "\n",
    "# Importar librerías para manipulación y análisis de datos\n",
    "# -----------------------------------------------------------------------\n",
    "import pandas as pd\n",
    "import numpy as np\n",
    "\n",
    "from tqdm import tqdm"
   ]
  },
  {
   "cell_type": "code",
   "execution_count": null,
   "metadata": {},
   "outputs": [],
   "source": [
    "#Creo la BBDD:\n",
    "\n",
    "cnx = mysql.connector.connect(user='root', password='AlumnaAdalab',\n",
    "                              host='127.0.0.1')\n",
    "\n",
    "\n",
    "mycursor = cnx.cursor()\n",
    "try:\n",
    "    mycursor.execute(\"CREATE DATABASE proyecto_cine\")\n",
    "    print(mycursor)\n",
    "except mysql.connector.Error as err:\n",
    "    print(err)\n",
    "    print(\"Error Code:\", err.errno)\n",
    "    print(\"SQLSTATE\", err.sqlstate)\n",
    "    print(\"Message\", err.msg)"
   ]
  },
  {
   "cell_type": "markdown",
   "metadata": {},
   "source": [
    "----\n",
    "**API**"
   ]
  },
  {
   "cell_type": "code",
   "execution_count": 4,
   "metadata": {},
   "outputs": [
    {
     "name": "stdout",
     "output_type": "stream",
     "text": [
      "Tabla creada correctamente.\n"
     ]
    }
   ],
   "source": [
    "# Creo la tabla para las películas\n",
    "\n",
    "cnx = mysql.connector.connect(\n",
    "    user='root', password='AlumnaAdalab',\n",
    "    host='127.0.0.1', database='proyecto_cine'\n",
    ")\n",
    "\n",
    "mycursor = cnx.cursor()\n",
    "\n",
    "\n",
    "crear_tabla = \"\"\"\n",
    "CREATE TABLE IF NOT EXISTS peliculas (\n",
    "    Genero VARCHAR(255),\n",
    "    Tipo VARCHAR(255),\n",
    "    Titulo VARCHAR(255),\n",
    "    Anio_de_estreno INT,\n",
    "    Mes_de_estreno FLOAT,\n",
    "    ID VARCHAR(255) PRIMARY KEY\n",
    ")\n",
    "\"\"\"\n",
    "\n",
    "# Ejecuta la instrucción SQL para crear la tabla\n",
    "try:\n",
    "    mycursor.execute(crear_tabla)\n",
    "    print(\"Tabla creada correctamente.\")\n",
    "except mysql.connector.Error as err:\n",
    "    print(\"Error al crear la tabla:\", err)\n",
    "\n",
    "# Cierra el cursor y la conexión a la base de datos\n",
    "mycursor.close()\n",
    "cnx.close()"
   ]
  },
  {
   "cell_type": "code",
   "execution_count": 3,
   "metadata": {},
   "outputs": [
    {
     "name": "stderr",
     "output_type": "stream",
     "text": [
      "Insertando registros:   0%|          | 1114/581694 [00:02<17:35, 550.15it/s]"
     ]
    },
    {
     "name": "stdout",
     "output_type": "stream",
     "text": [
      "Error al insertar registro: 1062 (23000): Duplicate entry 'tt0249588' for key 'peliculas.PRIMARY'\n",
      "Error al insertar registro: 1062 (23000): Duplicate entry 'tt0255189' for key 'peliculas.PRIMARY'\n",
      "Error al insertar registro: 1062 (23000): Duplicate entry 'tt0255019' for key 'peliculas.PRIMARY'\n",
      "Error al insertar registro: 1062 (23000): Duplicate entry 'tt0256375' for key 'peliculas.PRIMARY'\n",
      "Error al insertar registro: 1062 (23000): Duplicate entry 'tt0259023' for key 'peliculas.PRIMARY'\n",
      "Error al insertar registro: 1062 (23000): Duplicate entry 'tt0231956' for key 'peliculas.PRIMARY'\n",
      "Error al insertar registro: 1062 (23000): Duplicate entry 'tt0232079' for key 'peliculas.PRIMARY'\n",
      "Error al insertar registro: 1062 (23000): Duplicate entry 'tt0236027' for key 'peliculas.PRIMARY'\n",
      "Error al insertar registro: 1062 (23000): Duplicate entry 'tt0233600' for key 'peliculas.PRIMARY'\n",
      "Error al insertar registro: 1062 (23000): Duplicate entry 'tt0239655' for key 'peliculas.PRIMARY'\n",
      "Error al insertar registro: 1062 (23000): Duplicate entry 'tt0242519' for key 'peliculas.PRIMARY'\n",
      "Error al insertar registro: 1062 (23000): Duplicate entry 'tt0243573' for key 'peliculas.PRIMARY'\n",
      "Error al insertar registro: 1062 (23000): Duplicate entry 'tt0243876' for key 'peliculas.PRIMARY'\n",
      "Error al insertar registro: 1062 (23000): Duplicate entry 'tt0282843' for key 'peliculas.PRIMARY'\n",
      "Error al insertar registro: 1062 (23000): Duplicate entry 'tt0284878' for key 'peliculas.PRIMARY'\n",
      "Error al insertar registro: 1062 (23000): Duplicate entry 'tt0285005' for key 'peliculas.PRIMARY'\n",
      "Error al insertar registro: 1062 (23000): Duplicate entry 'tt0274541' for key 'peliculas.PRIMARY'\n",
      "Error al insertar registro: 1062 (23000): Duplicate entry 'tt0263256' for key 'peliculas.PRIMARY'\n",
      "Error al insertar registro: 1062 (23000): Duplicate entry 'tt0269217' for key 'peliculas.PRIMARY'\n",
      "Error al insertar registro: 1062 (23000): Duplicate entry 'tt0270880' for key 'peliculas.PRIMARY'\n",
      "Error al insertar registro: 1062 (23000): Duplicate entry 'tt0271701' for key 'peliculas.PRIMARY'\n",
      "Error al insertar registro: 1062 (23000): Duplicate entry 'tt0271748' for key 'peliculas.PRIMARY'\n"
     ]
    },
    {
     "name": "stderr",
     "output_type": "stream",
     "text": [
      "Insertando registros:   0%|          | 1225/581694 [00:02<18:05, 534.99it/s]"
     ]
    },
    {
     "name": "stdout",
     "output_type": "stream",
     "text": [
      "Error al insertar registro: 1062 (23000): Duplicate entry 'tt0179987' for key 'peliculas.PRIMARY'\n",
      "Error al insertar registro: 1062 (23000): Duplicate entry 'tt0181836' for key 'peliculas.PRIMARY'\n",
      "Error al insertar registro: 1062 (23000): Duplicate entry 'tt0183869' for key 'peliculas.PRIMARY'\n",
      "Error al insertar registro: 1062 (23000): Duplicate entry 'tt0184894' for key 'peliculas.PRIMARY'\n",
      "Error al insertar registro: 1062 (23000): Duplicate entry 'tt0113092' for key 'peliculas.PRIMARY'\n",
      "Error al insertar registro: 1062 (23000): Duplicate entry 'tt0213127' for key 'peliculas.PRIMARY'\n",
      "Error al insertar registro: 1062 (23000): Duplicate entry 'tt0212346' for key 'peliculas.PRIMARY'\n",
      "Error al insertar registro: 1062 (23000): Duplicate entry 'tt0211938' for key 'peliculas.PRIMARY'\n",
      "Error al insertar registro: 1062 (23000): Duplicate entry 'tt0212879' for key 'peliculas.PRIMARY'\n",
      "Error al insertar registro: 1062 (23000): Duplicate entry 'tt0214683' for key 'peliculas.PRIMARY'\n",
      "Error al insertar registro: 1062 (23000): Duplicate entry 'tt0221197' for key 'peliculas.PRIMARY'\n",
      "Error al insertar registro: 1062 (23000): Duplicate entry 'tt0208003' for key 'peliculas.PRIMARY'\n",
      "Error al insertar registro: 1062 (23000): Duplicate entry 'tt0193701' for key 'peliculas.PRIMARY'\n",
      "Error al insertar registro: 1062 (23000): Duplicate entry 'tt0198970' for key 'peliculas.PRIMARY'\n",
      "Error al insertar registro: 1062 (23000): Duplicate entry 'tt0201519' for key 'peliculas.PRIMARY'\n"
     ]
    },
    {
     "name": "stderr",
     "output_type": "stream",
     "text": [
      "Insertando registros:   0%|          | 1331/581694 [00:02<20:12, 478.77it/s]"
     ]
    },
    {
     "name": "stdout",
     "output_type": "stream",
     "text": [
      "Error al insertar registro: 1062 (23000): Duplicate entry 'tt0204499' for key 'peliculas.PRIMARY'\n",
      "Error al insertar registro: 1062 (23000): Duplicate entry 'tt2180441' for key 'peliculas.PRIMARY'\n"
     ]
    },
    {
     "name": "stderr",
     "output_type": "stream",
     "text": [
      "Insertando registros:   0%|          | 1380/581694 [00:02<20:41, 467.36it/s]"
     ]
    },
    {
     "name": "stdout",
     "output_type": "stream",
     "text": [
      "Error al insertar registro: 1062 (23000): Duplicate entry 'tt9486348' for key 'peliculas.PRIMARY'\n",
      "Error al insertar registro: 1062 (23000): Duplicate entry 'tt4794734' for key 'peliculas.PRIMARY'\n",
      "Error al insertar registro: 1062 (23000): Duplicate entry 'tt0344499' for key 'peliculas.PRIMARY'\n",
      "Error al insertar registro: 1062 (23000): Duplicate entry 'tt0347512' for key 'peliculas.PRIMARY'\n",
      "Error al insertar registro: 1062 (23000): Duplicate entry 'tt0347547' for key 'peliculas.PRIMARY'\n",
      "Error al insertar registro: 1062 (23000): Duplicate entry 'tt0347757' for key 'peliculas.PRIMARY'\n"
     ]
    },
    {
     "name": "stderr",
     "output_type": "stream",
     "text": [
      "Insertando registros:   0%|          | 1536/581694 [00:03<19:17, 501.35it/s]"
     ]
    },
    {
     "name": "stdout",
     "output_type": "stream",
     "text": [
      "Error al insertar registro: 1062 (23000): Duplicate entry 'tt0311413' for key 'peliculas.PRIMARY'\n",
      "Error al insertar registro: 1062 (23000): Duplicate entry 'tt0311582' for key 'peliculas.PRIMARY'\n",
      "Error al insertar registro: 1062 (23000): Duplicate entry 'tt0336675' for key 'peliculas.PRIMARY'\n",
      "Error al insertar registro: 1062 (23000): Duplicate entry 'tt0337134' for key 'peliculas.PRIMARY'\n",
      "Error al insertar registro: 1062 (23000): Duplicate entry 'tt0343388' for key 'peliculas.PRIMARY'\n",
      "Error al insertar registro: 1062 (23000): Duplicate entry 'tt0325181' for key 'peliculas.PRIMARY'\n",
      "Error al insertar registro: 1062 (23000): Duplicate entry 'tt0810396' for key 'peliculas.PRIMARY'\n",
      "Error al insertar registro: 1062 (23000): Duplicate entry 'tt0814243' for key 'peliculas.PRIMARY'\n"
     ]
    },
    {
     "name": "stderr",
     "output_type": "stream",
     "text": [
      "Insertando registros:   0%|          | 1538/581694 [00:03<19:13, 503.09it/s]\n"
     ]
    },
    {
     "ename": "KeyboardInterrupt",
     "evalue": "",
     "output_type": "error",
     "traceback": [
      "\u001b[1;31m---------------------------------------------------------------------------\u001b[0m",
      "\u001b[1;31mKeyboardInterrupt\u001b[0m                         Traceback (most recent call last)",
      "Cell \u001b[1;32mIn[3], line 28\u001b[0m\n\u001b[0;32m     26\u001b[0m \u001b[38;5;28;01mtry\u001b[39;00m:\n\u001b[0;32m     27\u001b[0m     mycursor\u001b[38;5;241m.\u001b[39mexecute(sql, val)\n\u001b[1;32m---> 28\u001b[0m     \u001b[43mcnx\u001b[49m\u001b[38;5;241;43m.\u001b[39;49m\u001b[43mcommit\u001b[49m\u001b[43m(\u001b[49m\u001b[43m)\u001b[49m  \u001b[38;5;66;03m# Confirma la transacción\u001b[39;00m\n\u001b[0;32m     29\u001b[0m \u001b[38;5;28;01mexcept\u001b[39;00m mysql\u001b[38;5;241m.\u001b[39mconnector\u001b[38;5;241m.\u001b[39mError \u001b[38;5;28;01mas\u001b[39;00m err:\n\u001b[0;32m     30\u001b[0m     cnx\u001b[38;5;241m.\u001b[39mrollback()  \u001b[38;5;66;03m# Revierte la transacción si hay un error\u001b[39;00m\n",
      "File \u001b[1;32m~\\AppData\\Local\\Packages\\PythonSoftwareFoundation.Python.3.11_qbz5n2kfra8p0\\LocalCache\\local-packages\\Python311\\site-packages\\mysql\\connector\\connection.py:1283\u001b[0m, in \u001b[0;36mMySQLConnection.commit\u001b[1;34m(self)\u001b[0m\n\u001b[0;32m   1281\u001b[0m \u001b[38;5;28;01mdef\u001b[39;00m \u001b[38;5;21mcommit\u001b[39m(\u001b[38;5;28mself\u001b[39m) \u001b[38;5;241m-\u001b[39m\u001b[38;5;241m>\u001b[39m \u001b[38;5;28;01mNone\u001b[39;00m:\n\u001b[0;32m   1282\u001b[0m \u001b[38;5;250m    \u001b[39m\u001b[38;5;124;03m\"\"\"Commit current transaction\"\"\"\u001b[39;00m\n\u001b[1;32m-> 1283\u001b[0m     \u001b[38;5;28;43mself\u001b[39;49m\u001b[38;5;241;43m.\u001b[39;49m\u001b[43m_execute_query\u001b[49m\u001b[43m(\u001b[49m\u001b[38;5;124;43m\"\u001b[39;49m\u001b[38;5;124;43mCOMMIT\u001b[39;49m\u001b[38;5;124;43m\"\u001b[39;49m\u001b[43m)\u001b[49m\n",
      "File \u001b[1;32m~\\AppData\\Local\\Packages\\PythonSoftwareFoundation.Python.3.11_qbz5n2kfra8p0\\LocalCache\\local-packages\\Python311\\site-packages\\mysql\\connector\\connection.py:1302\u001b[0m, in \u001b[0;36mMySQLConnection._execute_query\u001b[1;34m(self, query)\u001b[0m\n\u001b[0;32m   1293\u001b[0m \u001b[38;5;250m\u001b[39m\u001b[38;5;124;03m\"\"\"Execute a query\u001b[39;00m\n\u001b[0;32m   1294\u001b[0m \n\u001b[0;32m   1295\u001b[0m \u001b[38;5;124;03mThis method simply calls cmd_query() after checking for unread\u001b[39;00m\n\u001b[1;32m   (...)\u001b[0m\n\u001b[0;32m   1299\u001b[0m \u001b[38;5;124;03mReturns a dict()\u001b[39;00m\n\u001b[0;32m   1300\u001b[0m \u001b[38;5;124;03m\"\"\"\u001b[39;00m\n\u001b[0;32m   1301\u001b[0m \u001b[38;5;28mself\u001b[39m\u001b[38;5;241m.\u001b[39mhandle_unread_result()\n\u001b[1;32m-> 1302\u001b[0m \u001b[38;5;28;43mself\u001b[39;49m\u001b[38;5;241;43m.\u001b[39;49m\u001b[43mcmd_query\u001b[49m\u001b[43m(\u001b[49m\u001b[43mquery\u001b[49m\u001b[43m)\u001b[49m\n",
      "File \u001b[1;32m~\\AppData\\Local\\Packages\\PythonSoftwareFoundation.Python.3.11_qbz5n2kfra8p0\\LocalCache\\local-packages\\Python311\\site-packages\\mysql\\connector\\opentelemetry\\context_propagation.py:74\u001b[0m, in \u001b[0;36mwith_context_propagation.<locals>.wrapper\u001b[1;34m(cnx, *args, **kwargs)\u001b[0m\n\u001b[0;32m     72\u001b[0m \u001b[38;5;250m\u001b[39m\u001b[38;5;124;03m\"\"\"Context propagation decorator.\"\"\"\u001b[39;00m\n\u001b[0;32m     73\u001b[0m \u001b[38;5;28;01mif\u001b[39;00m \u001b[38;5;129;01mnot\u001b[39;00m OTEL_ENABLED \u001b[38;5;129;01mor\u001b[39;00m \u001b[38;5;129;01mnot\u001b[39;00m cnx\u001b[38;5;241m.\u001b[39motel_context_propagation:\n\u001b[1;32m---> 74\u001b[0m     \u001b[38;5;28;01mreturn\u001b[39;00m \u001b[43mmethod\u001b[49m\u001b[43m(\u001b[49m\u001b[43mcnx\u001b[49m\u001b[43m,\u001b[49m\u001b[43m \u001b[49m\u001b[38;5;241;43m*\u001b[39;49m\u001b[43margs\u001b[49m\u001b[43m,\u001b[49m\u001b[43m \u001b[49m\u001b[38;5;241;43m*\u001b[39;49m\u001b[38;5;241;43m*\u001b[39;49m\u001b[43mkwargs\u001b[49m\u001b[43m)\u001b[49m\n\u001b[0;32m     76\u001b[0m current_span \u001b[38;5;241m=\u001b[39m trace\u001b[38;5;241m.\u001b[39mget_current_span()\n\u001b[0;32m     77\u001b[0m tp_header \u001b[38;5;241m=\u001b[39m \u001b[38;5;28;01mNone\u001b[39;00m\n",
      "File \u001b[1;32m~\\AppData\\Local\\Packages\\PythonSoftwareFoundation.Python.3.11_qbz5n2kfra8p0\\LocalCache\\local-packages\\Python311\\site-packages\\mysql\\connector\\connection.py:855\u001b[0m, in \u001b[0;36mMySQLConnection.cmd_query\u001b[1;34m(self, query, raw, buffered, raw_as_string)\u001b[0m\n\u001b[0;32m    853\u001b[0m query \u001b[38;5;241m=\u001b[39m \u001b[38;5;28mbytes\u001b[39m(packet)\n\u001b[0;32m    854\u001b[0m \u001b[38;5;28;01mtry\u001b[39;00m:\n\u001b[1;32m--> 855\u001b[0m     result \u001b[38;5;241m=\u001b[39m \u001b[38;5;28mself\u001b[39m\u001b[38;5;241m.\u001b[39m_handle_result(\u001b[38;5;28;43mself\u001b[39;49m\u001b[38;5;241;43m.\u001b[39;49m\u001b[43m_send_cmd\u001b[49m\u001b[43m(\u001b[49m\u001b[43mServerCmd\u001b[49m\u001b[38;5;241;43m.\u001b[39;49m\u001b[43mQUERY\u001b[49m\u001b[43m,\u001b[49m\u001b[43m \u001b[49m\u001b[43mquery\u001b[49m\u001b[43m)\u001b[49m)\n\u001b[0;32m    856\u001b[0m \u001b[38;5;28;01mexcept\u001b[39;00m ProgrammingError \u001b[38;5;28;01mas\u001b[39;00m err:\n\u001b[0;32m    857\u001b[0m     \u001b[38;5;28;01mif\u001b[39;00m err\u001b[38;5;241m.\u001b[39merrno \u001b[38;5;241m==\u001b[39m \u001b[38;5;241m3948\u001b[39m \u001b[38;5;129;01mand\u001b[39;00m \u001b[38;5;124m\"\u001b[39m\u001b[38;5;124mLoading local data is disabled\u001b[39m\u001b[38;5;124m\"\u001b[39m \u001b[38;5;129;01min\u001b[39;00m err\u001b[38;5;241m.\u001b[39mmsg:\n",
      "File \u001b[1;32m~\\AppData\\Local\\Packages\\PythonSoftwareFoundation.Python.3.11_qbz5n2kfra8p0\\LocalCache\\local-packages\\Python311\\site-packages\\mysql\\connector\\connection.py:474\u001b[0m, in \u001b[0;36mMySQLConnection._send_cmd\u001b[1;34m(self, command, argument, packet_number, packet, expect_response, compressed_packet_number)\u001b[0m\n\u001b[0;32m    471\u001b[0m \u001b[38;5;28;01mexcept\u001b[39;00m \u001b[38;5;167;01mAttributeError\u001b[39;00m \u001b[38;5;28;01mas\u001b[39;00m err:\n\u001b[0;32m    472\u001b[0m     \u001b[38;5;28;01mraise\u001b[39;00m OperationalError(\u001b[38;5;124m\"\u001b[39m\u001b[38;5;124mMySQL Connection not available\u001b[39m\u001b[38;5;124m\"\u001b[39m) \u001b[38;5;28;01mfrom\u001b[39;00m \u001b[38;5;21;01merr\u001b[39;00m\n\u001b[1;32m--> 474\u001b[0m \u001b[38;5;28;01mreturn\u001b[39;00m \u001b[38;5;28;43mself\u001b[39;49m\u001b[38;5;241;43m.\u001b[39;49m\u001b[43m_socket\u001b[49m\u001b[38;5;241;43m.\u001b[39;49m\u001b[43mrecv\u001b[49m\u001b[43m(\u001b[49m\u001b[43m)\u001b[49m \u001b[38;5;28;01mif\u001b[39;00m expect_response \u001b[38;5;28;01melse\u001b[39;00m \u001b[38;5;28;01mNone\u001b[39;00m\n",
      "File \u001b[1;32m~\\AppData\\Local\\Packages\\PythonSoftwareFoundation.Python.3.11_qbz5n2kfra8p0\\LocalCache\\local-packages\\Python311\\site-packages\\mysql\\connector\\network.py:637\u001b[0m, in \u001b[0;36mMySQLSocket.recv\u001b[1;34m(self)\u001b[0m\n\u001b[0;32m    635\u001b[0m \u001b[38;5;28;01mdef\u001b[39;00m \u001b[38;5;21mrecv\u001b[39m(\u001b[38;5;28mself\u001b[39m) \u001b[38;5;241m-\u001b[39m\u001b[38;5;241m>\u001b[39m \u001b[38;5;28mbytearray\u001b[39m:\n\u001b[0;32m    636\u001b[0m \u001b[38;5;250m    \u001b[39m\u001b[38;5;124;03m\"\"\"Get packet from the MySQL server comm channel.\"\"\"\u001b[39;00m\n\u001b[1;32m--> 637\u001b[0m     \u001b[38;5;28;01mreturn\u001b[39;00m \u001b[38;5;28;43mself\u001b[39;49m\u001b[38;5;241;43m.\u001b[39;49m\u001b[43m_netbroker\u001b[49m\u001b[38;5;241;43m.\u001b[39;49m\u001b[43mrecv\u001b[49m\u001b[43m(\u001b[49m\u001b[38;5;28;43mself\u001b[39;49m\u001b[38;5;241;43m.\u001b[39;49m\u001b[43msock\u001b[49m\u001b[43m,\u001b[49m\u001b[43m \u001b[49m\u001b[38;5;28;43mself\u001b[39;49m\u001b[38;5;241;43m.\u001b[39;49m\u001b[43maddress\u001b[49m\u001b[43m)\u001b[49m\n",
      "File \u001b[1;32m~\\AppData\\Local\\Packages\\PythonSoftwareFoundation.Python.3.11_qbz5n2kfra8p0\\LocalCache\\local-packages\\Python311\\site-packages\\mysql\\connector\\network.py:229\u001b[0m, in \u001b[0;36mNetworkBrokerPlain.recv\u001b[1;34m(self, sock, address)\u001b[0m\n\u001b[0;32m    226\u001b[0m \u001b[38;5;250m\u001b[39m\u001b[38;5;124;03m\"\"\"Receive `one` packet from the MySQL server.\"\"\"\u001b[39;00m\n\u001b[0;32m    227\u001b[0m \u001b[38;5;28;01mtry\u001b[39;00m:\n\u001b[0;32m    228\u001b[0m     \u001b[38;5;66;03m# Read the header of the MySQL packet\u001b[39;00m\n\u001b[1;32m--> 229\u001b[0m     header \u001b[38;5;241m=\u001b[39m \u001b[38;5;28;43mself\u001b[39;49m\u001b[38;5;241;43m.\u001b[39;49m\u001b[43m_recv_chunk\u001b[49m\u001b[43m(\u001b[49m\u001b[43msock\u001b[49m\u001b[43m,\u001b[49m\u001b[43m \u001b[49m\u001b[43msize\u001b[49m\u001b[38;5;241;43m=\u001b[39;49m\u001b[43mPACKET_HEADER_LENGTH\u001b[49m\u001b[43m)\u001b[49m\n\u001b[0;32m    231\u001b[0m     \u001b[38;5;66;03m# Pull the payload length and sequence id\u001b[39;00m\n\u001b[0;32m    232\u001b[0m     payload_len, \u001b[38;5;28mself\u001b[39m\u001b[38;5;241m.\u001b[39m_pktnr \u001b[38;5;241m=\u001b[39m (\n\u001b[0;32m    233\u001b[0m         struct\u001b[38;5;241m.\u001b[39munpack(\u001b[38;5;124m\"\u001b[39m\u001b[38;5;124m<I\u001b[39m\u001b[38;5;124m\"\u001b[39m, header[\u001b[38;5;241m0\u001b[39m:\u001b[38;5;241m3\u001b[39m] \u001b[38;5;241m+\u001b[39m \u001b[38;5;124mb\u001b[39m\u001b[38;5;124m\"\u001b[39m\u001b[38;5;130;01m\\x00\u001b[39;00m\u001b[38;5;124m\"\u001b[39m)[\u001b[38;5;241m0\u001b[39m],\n\u001b[0;32m    234\u001b[0m         header[\u001b[38;5;241m3\u001b[39m],\n\u001b[0;32m    235\u001b[0m     )\n",
      "File \u001b[1;32m~\\AppData\\Local\\Packages\\PythonSoftwareFoundation.Python.3.11_qbz5n2kfra8p0\\LocalCache\\local-packages\\Python311\\site-packages\\mysql\\connector\\network.py:174\u001b[0m, in \u001b[0;36mNetworkBrokerPlain._recv_chunk\u001b[1;34m(self, sock, size)\u001b[0m\n\u001b[0;32m    172\u001b[0m pkt_view \u001b[38;5;241m=\u001b[39m \u001b[38;5;28mmemoryview\u001b[39m(pkt)\n\u001b[0;32m    173\u001b[0m \u001b[38;5;28;01mwhile\u001b[39;00m size:\n\u001b[1;32m--> 174\u001b[0m     read \u001b[38;5;241m=\u001b[39m \u001b[43msock\u001b[49m\u001b[38;5;241;43m.\u001b[39;49m\u001b[43mrecv_into\u001b[49m\u001b[43m(\u001b[49m\u001b[43mpkt_view\u001b[49m\u001b[43m,\u001b[49m\u001b[43m \u001b[49m\u001b[43msize\u001b[49m\u001b[43m)\u001b[49m\n\u001b[0;32m    175\u001b[0m     \u001b[38;5;28;01mif\u001b[39;00m read \u001b[38;5;241m==\u001b[39m \u001b[38;5;241m0\u001b[39m \u001b[38;5;129;01mand\u001b[39;00m size \u001b[38;5;241m>\u001b[39m \u001b[38;5;241m0\u001b[39m:\n\u001b[0;32m    176\u001b[0m         \u001b[38;5;28;01mraise\u001b[39;00m InterfaceError(errno\u001b[38;5;241m=\u001b[39m\u001b[38;5;241m2013\u001b[39m)\n",
      "File \u001b[1;32mC:\\Program Files\\WindowsApps\\PythonSoftwareFoundation.Python.3.11_3.11.2288.0_x64__qbz5n2kfra8p0\\Lib\\ssl.py:1314\u001b[0m, in \u001b[0;36mSSLSocket.recv_into\u001b[1;34m(self, buffer, nbytes, flags)\u001b[0m\n\u001b[0;32m   1310\u001b[0m     \u001b[38;5;28;01mif\u001b[39;00m flags \u001b[38;5;241m!=\u001b[39m \u001b[38;5;241m0\u001b[39m:\n\u001b[0;32m   1311\u001b[0m         \u001b[38;5;28;01mraise\u001b[39;00m \u001b[38;5;167;01mValueError\u001b[39;00m(\n\u001b[0;32m   1312\u001b[0m           \u001b[38;5;124m\"\u001b[39m\u001b[38;5;124mnon-zero flags not allowed in calls to recv_into() on \u001b[39m\u001b[38;5;132;01m%s\u001b[39;00m\u001b[38;5;124m\"\u001b[39m \u001b[38;5;241m%\u001b[39m\n\u001b[0;32m   1313\u001b[0m           \u001b[38;5;28mself\u001b[39m\u001b[38;5;241m.\u001b[39m\u001b[38;5;18m__class__\u001b[39m)\n\u001b[1;32m-> 1314\u001b[0m     \u001b[38;5;28;01mreturn\u001b[39;00m \u001b[38;5;28;43mself\u001b[39;49m\u001b[38;5;241;43m.\u001b[39;49m\u001b[43mread\u001b[49m\u001b[43m(\u001b[49m\u001b[43mnbytes\u001b[49m\u001b[43m,\u001b[49m\u001b[43m \u001b[49m\u001b[43mbuffer\u001b[49m\u001b[43m)\u001b[49m\n\u001b[0;32m   1315\u001b[0m \u001b[38;5;28;01melse\u001b[39;00m:\n\u001b[0;32m   1316\u001b[0m     \u001b[38;5;28;01mreturn\u001b[39;00m \u001b[38;5;28msuper\u001b[39m()\u001b[38;5;241m.\u001b[39mrecv_into(buffer, nbytes, flags)\n",
      "File \u001b[1;32mC:\\Program Files\\WindowsApps\\PythonSoftwareFoundation.Python.3.11_3.11.2288.0_x64__qbz5n2kfra8p0\\Lib\\ssl.py:1166\u001b[0m, in \u001b[0;36mSSLSocket.read\u001b[1;34m(self, len, buffer)\u001b[0m\n\u001b[0;32m   1164\u001b[0m \u001b[38;5;28;01mtry\u001b[39;00m:\n\u001b[0;32m   1165\u001b[0m     \u001b[38;5;28;01mif\u001b[39;00m buffer \u001b[38;5;129;01mis\u001b[39;00m \u001b[38;5;129;01mnot\u001b[39;00m \u001b[38;5;28;01mNone\u001b[39;00m:\n\u001b[1;32m-> 1166\u001b[0m         \u001b[38;5;28;01mreturn\u001b[39;00m \u001b[38;5;28;43mself\u001b[39;49m\u001b[38;5;241;43m.\u001b[39;49m\u001b[43m_sslobj\u001b[49m\u001b[38;5;241;43m.\u001b[39;49m\u001b[43mread\u001b[49m\u001b[43m(\u001b[49m\u001b[38;5;28;43mlen\u001b[39;49m\u001b[43m,\u001b[49m\u001b[43m \u001b[49m\u001b[43mbuffer\u001b[49m\u001b[43m)\u001b[49m\n\u001b[0;32m   1167\u001b[0m     \u001b[38;5;28;01melse\u001b[39;00m:\n\u001b[0;32m   1168\u001b[0m         \u001b[38;5;28;01mreturn\u001b[39;00m \u001b[38;5;28mself\u001b[39m\u001b[38;5;241m.\u001b[39m_sslobj\u001b[38;5;241m.\u001b[39mread(\u001b[38;5;28mlen\u001b[39m)\n",
      "\u001b[1;31mKeyboardInterrupt\u001b[0m: "
     ]
    }
   ],
   "source": [
    "# Insertar información de las películas\n",
    "\n",
    "cnx = mysql.connector.connect(\n",
    "    user='root', password='AlumnaAdalab',\n",
    "    host='127.0.0.1', database='proyecto_cine'\n",
    ")\n",
    "\n",
    "mycursor = cnx.cursor()\n",
    "\n",
    "# Lee el archivo CSV\n",
    "df = pd.read_csv(\"pelis_ordenadas.csv\")\n",
    "df.drop(df.columns[0], axis=1, inplace=True) #elimina la primera columna\n",
    "\n",
    "# Define el rango de filas sobre el cual iterar\n",
    "inicio = 0  \n",
    "fin = 581694   \n",
    "\n",
    "# Itera sobre el rango de filas especificado del DataFrame\n",
    "for index in tqdm(range(inicio, fin), desc=\"Insertando registros\"):\n",
    "    row = df.iloc[index]  # Obtén la fila en el índice actual\n",
    "    sql = \"INSERT INTO peliculas (Genero, Tipo, Titulo, Anio_de_estreno, Mes_de_estreno, ID) VALUES (%s, %s, %s, %s, %s, %s)\"\n",
    "    # Convierte el año de estreno y el mes a tipo int\n",
    "    año_de_estreno = int(row['Año de estreno']) if not pd.isnull(row['Año de estreno']) else None\n",
    "    mes_de_estreno = float(row['Mes de estreno']) if not pd.isnull(row['Mes de estreno']) else None\n",
    "    val = (row['Genero'], row['Tipo'], row['Titulo'], año_de_estreno, mes_de_estreno, row['ID'])\n",
    "    try:\n",
    "        mycursor.execute(sql, val)\n",
    "        cnx.commit()  # Confirma la transacción\n",
    "    except mysql.connector.Error as err:\n",
    "        cnx.rollback()  # Revierte la transacción si hay un error\n",
    "        print(\"Error al insertar registro:\", err)\n",
    "\n",
    "# Cierra el cursor y la conexión a la base de datos\n",
    "mycursor.close()\n",
    "cnx.close()"
   ]
  },
  {
   "cell_type": "markdown",
   "metadata": {},
   "source": [
    "----\n",
    "**IMDB Y ROTTEN**"
   ]
  },
  {
   "cell_type": "code",
   "execution_count": 5,
   "metadata": {},
   "outputs": [
    {
     "name": "stdout",
     "output_type": "stream",
     "text": [
      "Tabla creada correctamente.\n"
     ]
    }
   ],
   "source": [
    "# Creo la tabla para IMDB\n",
    "\n",
    "cnx = mysql.connector.connect(\n",
    "    user='root', password='AlumnaAdalab',\n",
    "    host='127.0.0.1', database='proyecto_cine'\n",
    ")\n",
    "\n",
    "mycursor = cnx.cursor()\n",
    "\n",
    "\n",
    "crear_tabla = \"\"\"\n",
    "CREATE TABLE IF NOT EXISTS peliculas_info (\n",
    "    Titulo VARCHAR(255),\n",
    "    ID VARCHAR(255),\n",
    "    Puntuacion_IMDB VARCHAR(255),\n",
    "    Direccion VARCHAR(255),\n",
    "    Guionistas VARCHAR(255),\n",
    "    Argumento TEXT,\n",
    "    Duracion VARCHAR(255),\n",
    "    Puntuacion_Rotten VARCHAR(255),\n",
    "    FOREIGN KEY (ID) REFERENCES peliculas (ID) ON DELETE CASCADE ON UPDATE CASCADE\n",
    ")\n",
    "\"\"\"\n",
    "# Puntuacion_IMDB, Direccion, Guionistas, Argumento, Duracion, Nombre_de_la_pelicula\n",
    "\n",
    "try:\n",
    "    mycursor.execute(crear_tabla)\n",
    "    print(\"Tabla creada correctamente.\")\n",
    "except mysql.connector.Error as err:\n",
    "    print(\"Error al crear la tabla:\", err)\n",
    "\n",
    "\n",
    "mycursor.close()\n",
    "cnx.close()"
   ]
  },
  {
   "cell_type": "code",
   "execution_count": 31,
   "metadata": {},
   "outputs": [
    {
     "name": "stderr",
     "output_type": "stream",
     "text": [
      "Insertando registros: 100%|██████████| 10/10 [00:00<00:00, 300.21it/s]\n"
     ]
    }
   ],
   "source": [
    "#Insertar información IMDB\n",
    "\n",
    "cnx = mysql.connector.connect(\n",
    "    user='root', password='AlumnaAdalab',\n",
    "    host='127.0.0.1', database='proyecto_cine'\n",
    ")\n",
    "\n",
    "mycursor = cnx.cursor()\n",
    "\n",
    "\n",
    "df = pd.read_csv(\"2007_laura_films_total.csv\")\n",
    "df.drop(df.columns[0], axis=1, inplace=True)\n",
    "\n",
    "\n",
    "inicio = 0  \n",
    "fin = 10   \n",
    "\n",
    "\n",
    "for index in tqdm(range(inicio, fin), desc=\"Insertando registros\"):\n",
    "    row = df.iloc[index]  \n",
    "    sql = \"INSERT INTO info_imdb2 (Puntuacion_IMDB, Direccion, Guionistas, Argumento, Duracion, Nombre_pelicula) VALUES (%s, %s, %s, %s, %s, %s, %s, %s)\"\n",
    "   \n",
    "    try:\n",
    "        mycursor.execute(sql, (str(row['Titulo']), str(row['ID']), str(row['Puntuacion_IMDB']), str(row['Dirección']), str(row['Guionistas']), str(row['Argumento']), str(row['Duración']), str(row['Puntuacion_Rotten']),))\n",
    "        cnx.commit()  \n",
    "    except mysql.connector.Error as err:\n",
    "        cnx.rollback()  \n",
    "        print(\"Error al insertar registro:\", err)\n",
    "\n",
    "\n",
    "mycursor.close()\n",
    "cnx.close()"
   ]
  },
  {
   "cell_type": "markdown",
   "metadata": {},
   "source": [
    "-----\n",
    "**ACTORES**"
   ]
  },
  {
   "cell_type": "code",
   "execution_count": 35,
   "metadata": {},
   "outputs": [
    {
     "name": "stdout",
     "output_type": "stream",
     "text": [
      "Tabla creada correctamente.\n"
     ]
    }
   ],
   "source": [
    "# Creo la tabla actores\n",
    "\n",
    "cnx = mysql.connector.connect(\n",
    "    user='root', password='AlumnaAdalab',\n",
    "    host='127.0.0.1', database='proyecto_cine'\n",
    ")\n",
    "\n",
    "mycursor = cnx.cursor()\n",
    "\n",
    "\n",
    "crear_tabla = \"\"\"\n",
    "CREATE TABLE IF NOT EXISTS info_actores (\n",
    "    Nombre VARCHAR(255),\n",
    "    Nacimiento VARCHAR(255),\n",
    "    Conocido VARCHAR(255),\n",
    "    Que_hace TEXT,\n",
    "    Premios VARCHAR(255),\n",
    "    Oscar VARCHAR(255)\n",
    ")\n",
    "\"\"\"\n",
    "# Nombre,Nacimiento,Conocido,Que hace,Premios,Oscar\n",
    "\n",
    "try:\n",
    "    mycursor.execute(crear_tabla)\n",
    "    print(\"Tabla creada correctamente.\")\n",
    "except mysql.connector.Error as err:\n",
    "    print(\"Error al crear la tabla:\", err)\n",
    "\n",
    "\n",
    "mycursor.close()\n",
    "cnx.close()"
   ]
  },
  {
   "cell_type": "code",
   "execution_count": 37,
   "metadata": {},
   "outputs": [
    {
     "name": "stderr",
     "output_type": "stream",
     "text": [
      "100%|██████████| 4/4 [00:00<00:00, 442.20it/s]\n"
     ]
    }
   ],
   "source": [
    "#Insertar información IMDB\n",
    "\n",
    "cnx = mysql.connector.connect(\n",
    "    user='root', password='AlumnaAdalab',\n",
    "    host='127.0.0.1', database='proyecto_cine'\n",
    ")\n",
    "\n",
    "mycursor = cnx.cursor()\n",
    "\n",
    "\n",
    "df = pd.read_csv(\"df_actores_info_42826_45826.csv\")\n",
    "df.drop(df.columns[0], axis=1, inplace=True)\n",
    "\n",
    "inicio = 11  \n",
    "fin = 15 \n",
    "\n",
    "\n",
    "for index in tqdm(range(inicio, fin)):\n",
    "   \n",
    "    row = df.iloc[index]\n",
    "    \n",
    "    sql = \"INSERT INTO info_actores (Nombre, Nacimiento, Conocido, Que_hace, Premios, Oscar) VALUES (%s, %s, %s, %s, %s, %s)\"\n",
    "    \n",
    "    try:\n",
    "        mycursor.execute(sql, (str(row['Nombre']), str(row['Nacimiento']), str(row['Conocido']), str(row['Que hace']), str(row['Premios']), str(row['Oscar'])))\n",
    "        cnx.commit() \n",
    "    except mysql.connector.Error as err:\n",
    "        cnx.rollback()  \n",
    "        print(\"Error al insertar registro:\", err)\n",
    "\n",
    "\n",
    "mycursor.close()\n",
    "cnx.close()"
   ]
  }
 ],
 "metadata": {
  "kernelspec": {
   "display_name": "Python 3",
   "language": "python",
   "name": "python3"
  },
  "language_info": {
   "codemirror_mode": {
    "name": "ipython",
    "version": 3
   },
   "file_extension": ".py",
   "mimetype": "text/x-python",
   "name": "python",
   "nbconvert_exporter": "python",
   "pygments_lexer": "ipython3",
   "version": "3.11.8"
  }
 },
 "nbformat": 4,
 "nbformat_minor": 2
}
