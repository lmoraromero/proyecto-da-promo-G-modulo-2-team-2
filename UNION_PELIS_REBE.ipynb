{
 "cells": [
  {
   "cell_type": "code",
   "execution_count": 1,
   "metadata": {},
   "outputs": [],
   "source": [
    "# Importar librerías para tratamiento de datos\n",
    "import pandas as pd  \n",
    "\n",
    "# Importar librerías para web scraping y manipulación de datos\n",
    "from bs4 import BeautifulSoup\n",
    "import requests\n",
    "import re\n",
    "import random\n",
    "\n",
    "# Importar librerías para automatización de navegadores web con Selenium\n",
    "from selenium import webdriver  \n",
    "from selenium.webdriver.common.by import By\n",
    "from webdriver_manager.chrome import ChromeDriverManager  \n",
    "from selenium.webdriver.common.keys import Keys  \n",
    "from selenium.webdriver.support.ui import Select  \n",
    "\n",
    "# Importar librerías para pausar la ejecución\n",
    "from time import sleep  \n",
    "\n",
    "# Configuraciones\n",
    "pd.set_option('display.max_columns', None)  # Establece una opción de Pandas para mostrar todas las columnas de un DataFrame.\n",
    "\n",
    "import warnings\n",
    "warnings.filterwarnings('ignore')"
   ]
  },
  {
   "cell_type": "markdown",
   "metadata": {},
   "source": [
    "# PELICULAS IMBD"
   ]
  },
  {
   "cell_type": "code",
   "execution_count": 4,
   "metadata": {},
   "outputs": [],
   "source": [
    "# Union Peliculas IMBD\n",
    "df_1 = pd.read_csv(\"EXTRACCION REBE/1_pelis_rebe_0_49_.csv\", index_col = 0)\n",
    "df_2 = pd.read_csv(\"EXTRACCION REBE/2_pelis_rebe_50_93_.csv\", index_col = 0)\n",
    "df_3 = pd.read_csv(\"EXTRACCION REBE/3_pelis_rebe_94_534_.csv\", index_col = 0)\n",
    "df_4 = pd.read_csv(\"EXTRACCION REBE/4_pelis_rebe_136_534_.csv\", index_col = 0)\n",
    "df_5 = pd.read_csv(\"EXTRACCION REBE/5_pelis_rebe_535_6000_.csv\", index_col = 0)\n",
    "df_6 = pd.read_csv(\"EXTRACCION REBE/6_pelis_rebe_6000_8000_.csv\", index_col = 0)\n",
    "df_7 = pd.read_csv(\"EXTRACCION REBE/7_pelis_rebe_8000_10000_.csv\", index_col = 0)\n",
    "df_8 = pd.read_csv(\"EXTRACCION REBE/8_pelis_rebe_10000_12661_.csv\", index_col = 0)\n",
    "df_9 = pd.read_csv(\"EXTRACCION REBE/9__rebe_films_total_14600_18500.csv\", index_col = 0)\n",
    "df_10 = pd.read_csv(\"EXTRACCION REBE/10_rebe_films_total_18500_21400.csv\", index_col = 0)\n",
    "df_11 = pd.read_csv(\"EXTRACCION REBE/11_rebe_films_21400_28300.csv\", index_col = 0)\n",
    "df_12 = pd.read_csv(\"EXTRACCION REBE/12_rebe_films_28300_38300.csv\", index_col = 0)\n",
    "df_13 = pd.read_csv(\"EXTRACCION REBE/13_rebe_films_38300_48300.csv\", index_col = 0)"
   ]
  },
  {
   "cell_type": "code",
   "execution_count": 24,
   "metadata": {},
   "outputs": [],
   "source": [
    "# Guardar pelis IMBD en unico archivo\n",
    "df_peliculas_rebe = pd.concat([df_1,df_2,df_3,df_4,df_5,df_6,df_7,df_8,df_9,df_10,df_11,df_12,df_13], axis=0)\n",
    "df_peliculas_rebe.to_csv(\"EXTRACCION REBE/total_pelis_rebe.csv\")\n"
   ]
  },
  {
   "cell_type": "markdown",
   "metadata": {},
   "source": [
    "# Puntuacion Rotten Tomatoes"
   ]
  },
  {
   "cell_type": "code",
   "execution_count": 28,
   "metadata": {},
   "outputs": [],
   "source": [
    "# Union puntuacion ROTTEN TOMATOES\n",
    "tomatoes_1 = pd.read_csv(\"EXTRACCION REBE/rotten/0_200_puntuacion_tomates_rebe.csv\", index_col = 0)\n",
    "tomatoes_2 = pd.read_csv(\"EXTRACCION REBE/rotten/201_1000_puntuacion_tomates_rebe.csv\", index_col = 0)\n",
    "tomatoes_3 = pd.read_csv(\"EXTRACCION REBE/rotten/1001_4000_puntuacion_tomates_rebe.csv\", index_col = 0)\n",
    "tomatoes_4 = pd.read_csv(\"EXTRACCION REBE/rotten/4001_10000_puntuacion_tomates_rebe.csv\", index_col = 0)\n",
    "tomatoes_5 = pd.read_csv(\"EXTRACCION REBE/rotten/10001_20000_puntuacion_tomates_rebe.csv\", index_col = 0)\n",
    "tomatoes_6 = pd.read_csv(\"EXTRACCION REBE/rotten/20001_30000_puntuacion_tomates_rebe.csv\", index_col = 0)\n",
    "\n",
    "\n",
    "df_tomatoes_rebe = pd.concat([tomatoes_1,tomatoes_2,tomatoes_3,tomatoes_4,tomatoes_5,tomatoes_6], axis=0)\n",
    "df_tomatoes_rebe.to_csv(\"EXTRACCION REBE/total_tomatoes_rebe.csv\")"
   ]
  },
  {
   "cell_type": "markdown",
   "metadata": {},
   "source": [
    "# Actores"
   ]
  },
  {
   "cell_type": "code",
   "execution_count": 31,
   "metadata": {},
   "outputs": [],
   "source": [
    "#Union actores\n",
    "\n",
    "df_actor_1 = pd.read_csv(\"EXTRACCION REBE/actores/2_rebe_actors_total.csv\", index_col = 0)\n",
    "df_actor_2 = pd.read_csv(\"EXTRACCION REBE/actores/3_rebe_actors_total.csv\", index_col = 0)\n",
    "df_actor_3 = pd.read_csv(\"EXTRACCION REBE/actores/4_rebe_actors_total.csv\", index_col = 0)\n",
    "df_actor_4 = pd.read_csv(\"EXTRACCION REBE/actores/5_rebe_actors_total.csv\", index_col = 0)\n",
    "df_actor_5 = pd.read_csv(\"EXTRACCION REBE/actores/6_rebe_actors_total.csv\", index_col = 0)\n",
    "df_actor_6 = pd.read_csv(\"EXTRACCION REBE/actores/actores_rebe_0_50.csv\", index_col = 0)\n",
    "df_actor_7 = pd.read_csv(\"EXTRACCION REBE/actores/actores_rebe_50_93.csv\", index_col = 0)\n",
    "df_actor_8 = pd.read_csv(\"EXTRACCION REBE/actores/actores_rebe_94_136.csv\", index_col = 0)\n",
    "df_actor_9 = pd.read_csv(\"EXTRACCION REBE/actores/actores_rebe_136_398.csv\", index_col = 0)\n",
    "df_actor_10 = pd.read_csv(\"EXTRACCION REBE/actores/actores_rebe_535_6000.csv\", index_col = 0)\n",
    "df_actor_11 = pd.read_csv(\"EXTRACCION REBE/actores/actores_rebe_6000_8000.csv\", index_col = 0)\n",
    "df_actor_12 = pd.read_csv(\"EXTRACCION REBE/actores/actores_rebe_8000_10000.csv\", index_col = 0)\n",
    "df_actor_12 = pd.read_csv(\"EXTRACCION REBE/actores/actores_rebe_10000_12661.csv\", index_col = 0)\n",
    "df_actor_13 = pd.read_csv(\"EXTRACCION REBE/actores/rebe_actors_21400_28300.csv\", index_col = 0)\n",
    "\n",
    "df_actores_rebe = pd.concat([df_actor_1,df_actor_2,df_actor_3,df_actor_4,df_actor_5,df_actor_6,df_actor_7,df_actor_8,df_actor_9,df_actor_10,df_actor_11,df_actor_12,df_actor_13], axis=0)\n",
    "df_actores_rebe.to_csv(\"EXTRACCION REBE/total_actores_rebe.csv\")\n"
   ]
  },
  {
   "cell_type": "code",
   "execution_count": null,
   "metadata": {},
   "outputs": [],
   "source": [
    "pd.concat(join=)"
   ]
  }
 ],
 "metadata": {
  "kernelspec": {
   "display_name": "base",
   "language": "python",
   "name": "python3"
  },
  "language_info": {
   "codemirror_mode": {
    "name": "ipython",
    "version": 3
   },
   "file_extension": ".py",
   "mimetype": "text/x-python",
   "name": "python",
   "nbconvert_exporter": "python",
   "pygments_lexer": "ipython3",
   "version": "3.11.5"
  }
 },
 "nbformat": 4,
 "nbformat_minor": 2
}
