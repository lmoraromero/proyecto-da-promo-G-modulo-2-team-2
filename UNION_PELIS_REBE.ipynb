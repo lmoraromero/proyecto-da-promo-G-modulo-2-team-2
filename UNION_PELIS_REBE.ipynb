{
 "cells": [
  {
   "cell_type": "code",
   "execution_count": 1,
   "metadata": {},
   "outputs": [],
   "source": [
    "# Importar librerías para tratamiento de datos\n",
    "import pandas as pd  \n",
    "\n",
    "# Importar librerías para web scraping y manipulación de datos\n",
    "from bs4 import BeautifulSoup\n",
    "import requests\n",
    "import re\n",
    "import random\n",
    "\n",
    "# Importar librerías para automatización de navegadores web con Selenium\n",
    "from selenium import webdriver  \n",
    "from selenium.webdriver.common.by import By\n",
    "from webdriver_manager.chrome import ChromeDriverManager  \n",
    "from selenium.webdriver.common.keys import Keys  \n",
    "from selenium.webdriver.support.ui import Select  \n",
    "\n",
    "# Importar librerías para pausar la ejecución\n",
    "from time import sleep  \n",
    "\n",
    "# Configuraciones\n",
    "pd.set_option('display.max_columns', None)  # Establece una opción de Pandas para mostrar todas las columnas de un DataFrame.\n",
    "\n",
    "import warnings\n",
    "warnings.filterwarnings('ignore')"
   ]
  },
  {
   "cell_type": "markdown",
   "metadata": {},
   "source": [
    "# PELICULAS IMBD"
   ]
  },
  {
   "cell_type": "code",
   "execution_count": 2,
   "metadata": {},
   "outputs": [],
   "source": [
    "# Union Peliculas IMBD\n",
    "df_1 = pd.read_csv(\"EXTRACCION REBE/1_pelis_rebe_0_49_.csv\", index_col = 0)\n",
    "df_2 = pd.read_csv(\"EXTRACCION REBE/2_pelis_rebe_50_93_.csv\", index_col = 0)\n",
    "df_3 = pd.read_csv(\"EXTRACCION REBE/3_pelis_rebe_94_534_.csv\", index_col = 0)\n",
    "df_4 = pd.read_csv(\"EXTRACCION REBE/4_pelis_rebe_136_534_.csv\", index_col = 0)\n",
    "df_5 = pd.read_csv(\"EXTRACCION REBE/5_pelis_rebe_535_6000_.csv\", index_col = 0)\n",
    "df_6 = pd.read_csv(\"EXTRACCION REBE/6_pelis_rebe_6000_8000_.csv\", index_col = 0)\n",
    "df_7 = pd.read_csv(\"EXTRACCION REBE/7_pelis_rebe_8000_10000_.csv\", index_col = 0)\n",
    "df_8 = pd.read_csv(\"EXTRACCION REBE/8_pelis_rebe_10000_12661_.csv\", index_col = 0)\n",
    "df_9 = pd.read_csv(\"EXTRACCION REBE/9__rebe_films_total_14600_18500.csv\", index_col = 0)\n",
    "df_10 = pd.read_csv(\"EXTRACCION REBE/10_rebe_films_total_18500_21400.csv\", index_col = 0)\n",
    "df_11 = pd.read_csv(\"EXTRACCION REBE/11_rebe_films_21400_28300.csv\", index_col = 0)\n",
    "df_12 = pd.read_csv(\"EXTRACCION REBE/12_rebe_films_28300_38300.csv\", index_col = 0)\n",
    "df_13 = pd.read_csv(\"EXTRACCION REBE/13_rebe_films_38300_48300.csv\", index_col = 0)"
   ]
  },
  {
   "cell_type": "code",
   "execution_count": 3,
   "metadata": {},
   "outputs": [],
   "source": [
    "# Guardar pelis IMBD en unico archivo\n",
    "df_peliculas_rebe = pd.concat([df_1,df_2,df_3,df_4,df_5,df_6,df_7,df_8,df_9,df_10,df_11,df_12,df_13], axis=0)\n",
    "df_peliculas_rebe.to_csv(\"EXTRACCION REBE/total_pelis_rebe.csv\")\n"
   ]
  },
  {
   "cell_type": "code",
   "execution_count": 4,
   "metadata": {},
   "outputs": [
    {
     "data": {
      "text/html": [
       "<div>\n",
       "<style scoped>\n",
       "    .dataframe tbody tr th:only-of-type {\n",
       "        vertical-align: middle;\n",
       "    }\n",
       "\n",
       "    .dataframe tbody tr th {\n",
       "        vertical-align: top;\n",
       "    }\n",
       "\n",
       "    .dataframe thead th {\n",
       "        text-align: right;\n",
       "    }\n",
       "</style>\n",
       "<table border=\"1\" class=\"dataframe\">\n",
       "  <thead>\n",
       "    <tr style=\"text-align: right;\">\n",
       "      <th></th>\n",
       "      <th>Puntuacion_IMDB</th>\n",
       "      <th>Dirección</th>\n",
       "      <th>Guionistas</th>\n",
       "      <th>Argumento</th>\n",
       "      <th>Duración</th>\n",
       "      <th>Nombre de la película</th>\n",
       "    </tr>\n",
       "  </thead>\n",
       "  <tbody>\n",
       "    <tr>\n",
       "      <th>0</th>\n",
       "      <td>--</td>\n",
       "      <td>['Marcos Manhães Marins']</td>\n",
       "      <td>['Marcos Manhães Marins']</td>\n",
       "      <td>NaN</td>\n",
       "      <td>15min</td>\n",
       "      <td>Chateaubriand - Cabeça de Paraíba</td>\n",
       "    </tr>\n",
       "    <tr>\n",
       "      <th>1</th>\n",
       "      <td>6,3</td>\n",
       "      <td>['Patricia Ferreira']</td>\n",
       "      <td>DESCONOCIDO</td>\n",
       "      <td>Paloma is a young psychiatrist, who is hired t...</td>\n",
       "      <td>1h 40min</td>\n",
       "      <td>Sé quién eres</td>\n",
       "    </tr>\n",
       "    <tr>\n",
       "      <th>2</th>\n",
       "      <td>5,1</td>\n",
       "      <td>['Marie-Christine Questerbert']</td>\n",
       "      <td>['Marie-Christine Questerbert']</td>\n",
       "      <td>In the fourteenth century, the young Aliénor m...</td>\n",
       "      <td>1h 47min</td>\n",
       "      <td>La chambre obscure</td>\n",
       "    </tr>\n",
       "    <tr>\n",
       "      <th>3</th>\n",
       "      <td>7,2</td>\n",
       "      <td>['Ann Hu']</td>\n",
       "      <td>DESCONOCIDO</td>\n",
       "      <td>Beijing, 1902: an enterprising young portrait ...</td>\n",
       "      <td>1h 56min</td>\n",
       "      <td>Xi yang jing</td>\n",
       "    </tr>\n",
       "    <tr>\n",
       "      <th>4</th>\n",
       "      <td>8,3</td>\n",
       "      <td>['Will Wallace']</td>\n",
       "      <td>['Jerry Sticker', 'Will Wallace']</td>\n",
       "      <td>NaN</td>\n",
       "      <td>1h 30min</td>\n",
       "      <td>A Christmas Tree and a Wedding</td>\n",
       "    </tr>\n",
       "  </tbody>\n",
       "</table>\n",
       "</div>"
      ],
      "text/plain": [
       "  Puntuacion_IMDB                        Dirección  \\\n",
       "0              --        ['Marcos Manhães Marins']   \n",
       "1             6,3            ['Patricia Ferreira']   \n",
       "2             5,1  ['Marie-Christine Questerbert']   \n",
       "3             7,2                       ['Ann Hu']   \n",
       "4             8,3                 ['Will Wallace']   \n",
       "\n",
       "                          Guionistas  \\\n",
       "0          ['Marcos Manhães Marins']   \n",
       "1                        DESCONOCIDO   \n",
       "2    ['Marie-Christine Questerbert']   \n",
       "3                        DESCONOCIDO   \n",
       "4  ['Jerry Sticker', 'Will Wallace']   \n",
       "\n",
       "                                           Argumento  Duración  \\\n",
       "0                                                NaN     15min   \n",
       "1  Paloma is a young psychiatrist, who is hired t...  1h 40min   \n",
       "2  In the fourteenth century, the young Aliénor m...  1h 47min   \n",
       "3  Beijing, 1902: an enterprising young portrait ...  1h 56min   \n",
       "4                                                NaN  1h 30min   \n",
       "\n",
       "               Nombre de la película  \n",
       "0  Chateaubriand - Cabeça de Paraíba  \n",
       "1                      Sé quién eres  \n",
       "2                 La chambre obscure  \n",
       "3                       Xi yang jing  \n",
       "4     A Christmas Tree and a Wedding  "
      ]
     },
     "execution_count": 4,
     "metadata": {},
     "output_type": "execute_result"
    }
   ],
   "source": [
    "df_peliculas_rebe.head()"
   ]
  },
  {
   "cell_type": "markdown",
   "metadata": {},
   "source": [
    "# Puntuacion Rotten Tomatoes"
   ]
  },
  {
   "cell_type": "code",
   "execution_count": 5,
   "metadata": {},
   "outputs": [],
   "source": [
    "# Union puntuacion ROTTEN TOMATOES\n",
    "tomatoes_1 = pd.read_csv(\"EXTRACCION REBE/rotten/0_200_puntuacion_tomates_rebe.csv\", index_col = 0)\n",
    "tomatoes_2 = pd.read_csv(\"EXTRACCION REBE/rotten/201_1000_puntuacion_tomates_rebe.csv\", index_col = 0)\n",
    "tomatoes_3 = pd.read_csv(\"EXTRACCION REBE/rotten/1001_4000_puntuacion_tomates_rebe.csv\", index_col = 0)\n",
    "tomatoes_4 = pd.read_csv(\"EXTRACCION REBE/rotten/4001_10000_puntuacion_tomates_rebe.csv\", index_col = 0)\n",
    "tomatoes_5 = pd.read_csv(\"EXTRACCION REBE/rotten/10001_20000_puntuacion_tomates_rebe.csv\", index_col = 0)\n",
    "tomatoes_6 = pd.read_csv(\"EXTRACCION REBE/rotten/20001_30000_puntuacion_tomates_rebe.csv\", index_col = 0)\n",
    "tomatoes_7 = pd.read_csv(\"EXTRACCION REBE/rotten/30001_48300_puntuacion_tomates_rebe.csv\", index_col = 0)\n",
    "\n",
    "df_tomatoes_rebe = pd.concat([tomatoes_1,tomatoes_2,tomatoes_3,tomatoes_4,tomatoes_5,tomatoes_6,tomatoes_7], axis=0)\n",
    "df_tomatoes_rebe.to_csv(\"EXTRACCION REBE/total_tomatoes_rebe.csv\")"
   ]
  },
  {
   "cell_type": "code",
   "execution_count": 6,
   "metadata": {},
   "outputs": [
    {
     "data": {
      "text/html": [
       "<div>\n",
       "<style scoped>\n",
       "    .dataframe tbody tr th:only-of-type {\n",
       "        vertical-align: middle;\n",
       "    }\n",
       "\n",
       "    .dataframe tbody tr th {\n",
       "        vertical-align: top;\n",
       "    }\n",
       "\n",
       "    .dataframe thead th {\n",
       "        text-align: right;\n",
       "    }\n",
       "</style>\n",
       "<table border=\"1\" class=\"dataframe\">\n",
       "  <thead>\n",
       "    <tr style=\"text-align: right;\">\n",
       "      <th></th>\n",
       "      <th>puntuacion</th>\n",
       "    </tr>\n",
       "    <tr>\n",
       "      <th>titulo</th>\n",
       "      <th></th>\n",
       "    </tr>\n",
       "  </thead>\n",
       "  <tbody>\n",
       "    <tr>\n",
       "      <th>Chateaubriand - Cabeça de Paraíba</th>\n",
       "      <td>No existe puntuacion</td>\n",
       "    </tr>\n",
       "    <tr>\n",
       "      <th>Bad boy dak gung</th>\n",
       "      <td>No existe puntuacion</td>\n",
       "    </tr>\n",
       "    <tr>\n",
       "      <th>Dead or Alive 2: Tôbôsha</th>\n",
       "      <td>100%</td>\n",
       "    </tr>\n",
       "    <tr>\n",
       "      <th>Something Between Us</th>\n",
       "      <td>No existe puntuacion</td>\n",
       "    </tr>\n",
       "    <tr>\n",
       "      <th>Fughe da fermo</th>\n",
       "      <td>No existe puntuacion</td>\n",
       "    </tr>\n",
       "  </tbody>\n",
       "</table>\n",
       "</div>"
      ],
      "text/plain": [
       "                                             puntuacion\n",
       "titulo                                                 \n",
       "Chateaubriand - Cabeça de Paraíba  No existe puntuacion\n",
       "Bad boy dak gung                   No existe puntuacion\n",
       "Dead or Alive 2: Tôbôsha                           100%\n",
       "Something Between Us               No existe puntuacion\n",
       "Fughe da fermo                     No existe puntuacion"
      ]
     },
     "execution_count": 6,
     "metadata": {},
     "output_type": "execute_result"
    }
   ],
   "source": [
    "df_tomatoes_rebe.head()"
   ]
  },
  {
   "cell_type": "markdown",
   "metadata": {},
   "source": [
    "# Actores"
   ]
  },
  {
   "cell_type": "code",
   "execution_count": 31,
   "metadata": {},
   "outputs": [],
   "source": [
    "#Union actores\n",
    "\n",
    "df_actor_1 = pd.read_csv(\"EXTRACCION REBE/actores/2_rebe_actors_total.csv\", index_col = 0)\n",
    "df_actor_2 = pd.read_csv(\"EXTRACCION REBE/actores/3_rebe_actors_total.csv\", index_col = 0)\n",
    "df_actor_3 = pd.read_csv(\"EXTRACCION REBE/actores/4_rebe_actors_total.csv\", index_col = 0)\n",
    "df_actor_4 = pd.read_csv(\"EXTRACCION REBE/actores/5_rebe_actors_total.csv\", index_col = 0)\n",
    "df_actor_5 = pd.read_csv(\"EXTRACCION REBE/actores/6_rebe_actors_total.csv\", index_col = 0)\n",
    "df_actor_6 = pd.read_csv(\"EXTRACCION REBE/actores/actores_rebe_0_50.csv\", index_col = 0)\n",
    "df_actor_7 = pd.read_csv(\"EXTRACCION REBE/actores/actores_rebe_50_93.csv\", index_col = 0)\n",
    "df_actor_8 = pd.read_csv(\"EXTRACCION REBE/actores/actores_rebe_94_136.csv\", index_col = 0)\n",
    "df_actor_9 = pd.read_csv(\"EXTRACCION REBE/actores/actores_rebe_136_398.csv\", index_col = 0)\n",
    "df_actor_10 = pd.read_csv(\"EXTRACCION REBE/actores/actores_rebe_535_6000.csv\", index_col = 0)\n",
    "df_actor_11 = pd.read_csv(\"EXTRACCION REBE/actores/actores_rebe_6000_8000.csv\", index_col = 0)\n",
    "df_actor_12 = pd.read_csv(\"EXTRACCION REBE/actores/actores_rebe_8000_10000.csv\", index_col = 0)\n",
    "df_actor_12 = pd.read_csv(\"EXTRACCION REBE/actores/actores_rebe_10000_12661.csv\", index_col = 0)\n",
    "df_actor_13 = pd.read_csv(\"EXTRACCION REBE/actores/rebe_actors_21400_28300.csv\", index_col = 0)\n",
    "\n",
    "df_actores_rebe = pd.concat([df_actor_1,df_actor_2,df_actor_3,df_actor_4,df_actor_5,df_actor_6,df_actor_7,df_actor_8,df_actor_9,df_actor_10,df_actor_11,df_actor_12,df_actor_13], axis=0)\n",
    "df_actores_rebe.to_csv(\"EXTRACCION REBE/total_actores_rebe.csv\")\n"
   ]
  },
  {
   "cell_type": "markdown",
   "metadata": {},
   "source": [
    "# Union IMDB y Rotten"
   ]
  },
  {
   "cell_type": "code",
   "execution_count": 39,
   "metadata": {},
   "outputs": [
    {
     "ename": "KeyError",
     "evalue": "\"None of ['titulo'] are in the columns\"",
     "output_type": "error",
     "traceback": [
      "\u001b[1;31m---------------------------------------------------------------------------\u001b[0m",
      "\u001b[1;31mKeyError\u001b[0m                                  Traceback (most recent call last)",
      "\u001b[1;32m~\\AppData\\Local\\Temp\\ipykernel_15928\\4205680318.py\u001b[0m in \u001b[0;36m?\u001b[1;34m()\u001b[0m\n\u001b[1;32m----> 1\u001b[1;33m \u001b[0munion_puntuacion\u001b[0m \u001b[1;33m=\u001b[0m \u001b[0mdf_peliculas_rebe\u001b[0m\u001b[1;33m.\u001b[0m\u001b[0mjoin\u001b[0m\u001b[1;33m(\u001b[0m\u001b[0mdf_tomatoes_rebe\u001b[0m\u001b[1;33m.\u001b[0m\u001b[0mset_index\u001b[0m\u001b[1;33m(\u001b[0m\u001b[1;34m\"titulo\"\u001b[0m\u001b[1;33m)\u001b[0m\u001b[1;33m,\u001b[0m \u001b[0mon\u001b[0m\u001b[1;33m=\u001b[0m\u001b[1;34m\"Nombre de la película\"\u001b[0m\u001b[1;33m,\u001b[0m\u001b[0mhow\u001b[0m\u001b[1;33m=\u001b[0m\u001b[1;34m\"left\"\u001b[0m\u001b[1;33m)\u001b[0m\u001b[1;33m\u001b[0m\u001b[1;33m\u001b[0m\u001b[0m\n\u001b[0m",
      "\u001b[1;32mc:\\ProgramData\\anaconda3\\Lib\\site-packages\\pandas\\core\\frame.py\u001b[0m in \u001b[0;36m?\u001b[1;34m(self, keys, drop, append, inplace, verify_integrity)\u001b[0m\n\u001b[0;32m   5855\u001b[0m                     \u001b[1;32mif\u001b[0m \u001b[1;32mnot\u001b[0m \u001b[0mfound\u001b[0m\u001b[1;33m:\u001b[0m\u001b[1;33m\u001b[0m\u001b[1;33m\u001b[0m\u001b[0m\n\u001b[0;32m   5856\u001b[0m                         \u001b[0mmissing\u001b[0m\u001b[1;33m.\u001b[0m\u001b[0mappend\u001b[0m\u001b[1;33m(\u001b[0m\u001b[0mcol\u001b[0m\u001b[1;33m)\u001b[0m\u001b[1;33m\u001b[0m\u001b[1;33m\u001b[0m\u001b[0m\n\u001b[0;32m   5857\u001b[0m \u001b[1;33m\u001b[0m\u001b[0m\n\u001b[0;32m   5858\u001b[0m         \u001b[1;32mif\u001b[0m \u001b[0mmissing\u001b[0m\u001b[1;33m:\u001b[0m\u001b[1;33m\u001b[0m\u001b[1;33m\u001b[0m\u001b[0m\n\u001b[1;32m-> 5859\u001b[1;33m             \u001b[1;32mraise\u001b[0m \u001b[0mKeyError\u001b[0m\u001b[1;33m(\u001b[0m\u001b[1;34mf\"None of {missing} are in the columns\"\u001b[0m\u001b[1;33m)\u001b[0m\u001b[1;33m\u001b[0m\u001b[1;33m\u001b[0m\u001b[0m\n\u001b[0m\u001b[0;32m   5860\u001b[0m \u001b[1;33m\u001b[0m\u001b[0m\n\u001b[0;32m   5861\u001b[0m         \u001b[1;32mif\u001b[0m \u001b[0minplace\u001b[0m\u001b[1;33m:\u001b[0m\u001b[1;33m\u001b[0m\u001b[1;33m\u001b[0m\u001b[0m\n\u001b[0;32m   5862\u001b[0m             \u001b[0mframe\u001b[0m \u001b[1;33m=\u001b[0m \u001b[0mself\u001b[0m\u001b[1;33m\u001b[0m\u001b[1;33m\u001b[0m\u001b[0m\n",
      "\u001b[1;31mKeyError\u001b[0m: \"None of ['titulo'] are in the columns\""
     ]
    }
   ],
   "source": [
    "union_puntuacion = df_peliculas_rebe.join(df_tomatoes_rebe.set_index(\"titulo\"), on=\"Nombre de la película\",how=\"left\")"
   ]
  }
 ],
 "metadata": {
  "kernelspec": {
   "display_name": "base",
   "language": "python",
   "name": "python3"
  },
  "language_info": {
   "codemirror_mode": {
    "name": "ipython",
    "version": 3
   },
   "file_extension": ".py",
   "mimetype": "text/x-python",
   "name": "python",
   "nbconvert_exporter": "python",
   "pygments_lexer": "ipython3",
   "version": "3.11.5"
  }
 },
 "nbformat": 4,
 "nbformat_minor": 2
}
