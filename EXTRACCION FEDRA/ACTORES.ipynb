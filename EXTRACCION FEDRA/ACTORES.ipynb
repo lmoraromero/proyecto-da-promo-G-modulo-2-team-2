{
 "cells": [
  {
   "cell_type": "code",
   "execution_count": null,
   "metadata": {},
   "outputs": [],
   "source": [
    "# Importar librerías para tratamiento de datos\n",
    "import pandas as pd  \n",
    "\n",
    "# Importar librerías para web scraping y manipulación de datos\n",
    "from bs4 import BeautifulSoup\n",
    "import requests\n",
    "import re\n",
    "import random\n",
    "\n",
    "# Importar librerías para automatización de navegadores web con Selenium\n",
    "from selenium import webdriver  \n",
    "from selenium.webdriver.common.by import By\n",
    "from webdriver_manager.chrome import ChromeDriverManager  \n",
    "from selenium.webdriver.common.keys import Keys  \n",
    "from selenium.webdriver.support.ui import Select  \n",
    "\n",
    "# Importar librerías para pausar la ejecución\n",
    "from time import sleep  \n",
    "\n",
    "# Configuraciones\n",
    "pd.set_option('display.max_columns', None)  # Establece una opción de Pandas para mostrar todas las columnas de un DataFrame.\n",
    "\n",
    "import warnings\n",
    "warnings.filterwarnings('ignore')"
   ]
  },
  {
   "cell_type": "code",
   "execution_count": null,
   "metadata": {},
   "outputs": [],
   "source": [
    "# diccionario _peliculas debe ser "
   ]
  },
  {
   "cell_type": "code",
   "execution_count": null,
   "metadata": {},
   "outputs": [],
   "source": [
    "diccionario_peliculas.keys()\n",
    "for k,v in diccionario_peliculas.items():\n",
    "    \n",
    "    print(k,len(diccionario_peliculas[k]))"
   ]
  },
  {
   "cell_type": "code",
   "execution_count": null,
   "metadata": {},
   "outputs": [],
   "source": [
    "len(dict_actores)"
   ]
  },
  {
   "cell_type": "code",
   "execution_count": null,
   "metadata": {},
   "outputs": [],
   "source": [
    "## Convertir en DF Pelis y Actores\n",
    "df_peliculas_guardar = pd.DataFrame(diccionario_peliculas)\n",
    "\n",
    "\n",
    "df_actores_guardar = pd.Series(dict_actores,name=\"url\")\n",
    "df_actores_guardar.index.name=\"nombre_actor\"\n",
    "df_actores_guardar.reset_index()"
   ]
  },
  {
   "cell_type": "code",
   "execution_count": null,
   "metadata": {},
   "outputs": [],
   "source": [
    "## GUARDAR EN CSV la info\n",
    "df_peliculas_guardar.to_csv(\"pelis_rebe_10000_12661_.csv\")\n",
    "df_actores_guardar.to_csv(\"actores_rebe_10000_12661.csv\")"
   ]
  },
  {
   "cell_type": "code",
   "execution_count": null,
   "metadata": {},
   "outputs": [],
   "source": [
    "df_actor = pd.read_csv(\"EXTRACCION REBE/actores_rebe_0_50.csv\")"
   ]
  },
  {
   "cell_type": "code",
   "execution_count": null,
   "metadata": {},
   "outputs": [],
   "source": [
    "df_actor"
   ]
  },
  {
   "cell_type": "code",
   "execution_count": null,
   "metadata": {},
   "outputs": [],
   "source": [
    "lista_url = df_actor.to_dict()"
   ]
  },
  {
   "cell_type": "code",
   "execution_count": null,
   "metadata": {},
   "outputs": [],
   "source": [
    "for indice, e in df_actor.iterrows():\n",
    "    print(e[\"nombre_actor\"])\n",
    "    break"
   ]
  },
  {
   "cell_type": "code",
   "execution_count": null,
   "metadata": {},
   "outputs": [],
   "source": [
    "for i in range(3):\n",
    "    print(df_actor.iloc[i][\"nombre_actor\"])"
   ]
  },
  {
   "cell_type": "code",
   "execution_count": null,
   "metadata": {},
   "outputs": [],
   "source": [
    "##Busqueda info actores \n",
    "options = webdriver.FirefoxOptions()\n",
    "options.page_load_strategy = \"eager\"\n",
    "driver = webdriver.Firefox(options)\n",
    "datos_actores= {\"Nombre\":[], \"Nacimiento\":[], \"Conocido\":[], \"Que hace\":[], \"Premios\":[]}\n",
    "\n",
    "contador = 0\n",
    "\n",
    "\n",
    "\n",
    "for i in range(2):\n",
    "    \n",
    "    driver.get(df_actor.iloc[i][\"url\"])\n",
    "    driver.maximize_window()\n",
    "    \n",
    "    sleep(1)\n",
    "        # Aceptar las cookies PAG IMDB\n",
    "    try:\n",
    "        driver.find_element(\"css selector\", \"#__next > div > div > div.sc-jrcTuL.bPmWiM > div > button.icb-btn.sc-bcXHqe.sc-dkrFOg.sc-iBYQkv.dcvrLS.ddtuHe.dRCGjd\").click()\n",
    "        print(\"cookies accepted\")\n",
    "\n",
    "    except:\n",
    "        print(\"cookies haven't been accepted\")\n",
    "\n",
    "    datos_actores[\"Nombre\"].append(df_actor.iloc[i][\"nombre_actor\"])\n",
    "\n",
    "        # Buscar la edad\n",
    "    try:\n",
    "        busqueda_anio = driver.find_elements(\"css selector\",'div[data-testid=\"birth-and-death-birthdate\"]:last-child > span:last-child')[-1].text\n",
    "        anio = busqueda_anio.split()\n",
    "        datos_actores[\"Nacimiento\"].append(anio[-1])\n",
    "        \n",
    "    except:\n",
    "        datos_actores[\"Nacimiento\"].append(\"Desconocido\")\n",
    "\n",
    "        #Buscamos porque es conocido\n",
    "\n",
    "    try:\n",
    "        profesion = driver.find_elements(\"css selector\",'div[data-testid=\"shoveler-items-container\"] > div')\n",
    "        for e in profesion:\n",
    "            peli= e.find_elements(\"css selector\",'div:last-child > div:first-child > a')\n",
    "\n",
    "            for x in peli:\n",
    "                print(x.text)\n",
    "\n",
    "        \n",
    "        datos_actores[\"Conocido\"].append(peli)\n",
    "        \n",
    "    except:\n",
    "        datos_actores[\"Conocido\"].append(\"Desconocido\")"
   ]
  }
 ],
 "metadata": {
  "kernelspec": {
   "display_name": "Python 3",
   "language": "python",
   "name": "python3"
  },
  "language_info": {
   "name": "python",
   "version": "3.11.8"
  }
 },
 "nbformat": 4,
 "nbformat_minor": 2
}
