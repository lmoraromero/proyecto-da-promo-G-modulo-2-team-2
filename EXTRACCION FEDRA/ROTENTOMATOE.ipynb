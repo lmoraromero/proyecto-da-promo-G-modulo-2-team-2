{
 "cells": [
  {
   "cell_type": "code",
   "execution_count": null,
   "metadata": {},
   "outputs": [],
   "source": [
    "# Importar librerías para tratamiento de datos\n",
    "import pandas as pd  \n",
    "\n",
    "# Importar librerías para web scraping y manipulación de datos\n",
    "from bs4 import BeautifulSoup\n",
    "import requests\n",
    "import re\n",
    "import random\n",
    "\n",
    "# Importar librerías para automatización de navegadores web con Selenium\n",
    "from selenium import webdriver  \n",
    "from selenium.webdriver.common.by import By\n",
    "from webdriver_manager.chrome import ChromeDriverManager  \n",
    "from selenium.webdriver.common.keys import Keys  \n",
    "from selenium.webdriver.support.ui import Select  \n",
    "\n",
    "# Importar librerías para pausar la ejecución\n",
    "from time import sleep  \n",
    "\n",
    "# Configuraciones\n",
    "pd.set_option('display.max_columns', None)  # Establece una opción de Pandas para mostrar todas las columnas de un DataFrame.\n",
    "\n",
    "import warnings\n",
    "warnings.filterwarnings('ignore')"
   ]
  },
  {
   "cell_type": "code",
   "execution_count": null,
   "metadata": {},
   "outputs": [],
   "source": [
    "rotten = pd.read_csv(\"../INFO_PELIS/lista_pelis_2014_2020.csv\", index_col = 0)"
   ]
  },
  {
   "cell_type": "code",
   "execution_count": null,
   "metadata": {},
   "outputs": [],
   "source": [
    "rotten.tail()"
   ]
  },
  {
   "cell_type": "code",
   "execution_count": null,
   "metadata": {},
   "outputs": [],
   "source": [
    "lista_titulos= rotten[\"Titulo\"].to_list()"
   ]
  },
  {
   "cell_type": "code",
   "execution_count": null,
   "metadata": {},
   "outputs": [],
   "source": [
    "lista_años= rotten[\"Año de estreno\"].to_list()"
   ]
  },
  {
   "cell_type": "code",
   "execution_count": null,
   "metadata": {},
   "outputs": [],
   "source": [
    "list_busqueda_rotten = []\n",
    "for titulo,año in zip(lista_titulos,lista_años):\n",
    "    list_busqueda_rotten.append({titulo:año})"
   ]
  },
  {
   "cell_type": "code",
   "execution_count": null,
   "metadata": {},
   "outputs": [],
   "source": []
  },
  {
   "cell_type": "code",
   "execution_count": null,
   "metadata": {},
   "outputs": [],
   "source": [
    "## Extraccion datos Rotten Tomatoes\n",
    "\n",
    "url= \"https://www.google.es/\"\n",
    "\n",
    "\n",
    "options = webdriver.FirefoxOptions()\n",
    "options.page_load_strategy = \"eager\"\n",
    "driver = webdriver.Firefox(options)\n",
    "\n",
    "driver.get(url)\n",
    "\n",
    "driver.maximize_window()\n",
    "\n",
    "# Aceptar las cookies de GOOGLE\n",
    "driver.find_element(\"css selector\", \"#L2AGLb > div\").click()\n",
    "sleep(3)\n",
    "\n",
    "puntuacion_tomatoes = {}\n",
    "contador = 0\n",
    "maximo = 5\n",
    "\n",
    "for peli in list_busqueda_rotten[contador:maximo]:\n",
    "    for titulo,año in peli.items():\n",
    "         \n",
    "        busqueda = f\"TOMATOMETER title: {titulo} - year: {año}\"\n",
    "        # print(busqueda)\n",
    "        \n",
    "        try:\n",
    "                       \n",
    "            buscador = driver.find_element(\"css selector\",'#APjFqb')\n",
    "            buscador.clear()\n",
    "            buscador.send_keys(busqueda, Keys.ENTER)\n",
    "            sleep(random.randint(4,8))\n",
    "\n",
    "            try:\n",
    "                puntuacion_tomatoes[titulo]=driver.find_element(\"css selector\",\"#rso > div:first-child > div > div > div > div:nth-child(3) > div > span:nth-child(2)\").text\n",
    "                                \n",
    "            except:\n",
    "                puntuacion_completa= driver.find_element(\"css selector\",'#rso > div:nth-child(1) > div > div > div:nth-child(3) > div').text\n",
    "                puntuacion = re.search(r'\\b(\\d+)%', puntuacion_completa)\n",
    "                puntuacion_tomatoes[titulo]=puntuacion.group()\n",
    "        \n",
    "        except:\n",
    "            puntuacion_tomatoes[titulo]=\"No existe puntuacion\"\n",
    "\n",
    "\n",
    "\n",
    "df_tomatoes = pd.Series(puntuacion_tomatoes,name=\"puntuacion\")\n",
    "df_tomatoes.index.name=\"titulo\"\n",
    "df_tomatoes.reset_index()\n",
    "df_tomatoes.to_csv(f\"{contador}_{maximo}_puntuacion_tomates_fedra.csv\")"
   ]
  }
 ],
 "metadata": {
  "kernelspec": {
   "display_name": "Python 3",
   "language": "python",
   "name": "python3"
  },
  "language_info": {
   "name": "python",
   "version": "3.11.8"
  }
 },
 "nbformat": 4,
 "nbformat_minor": 2
}
