{
 "cells": [
  {
   "cell_type": "code",
   "execution_count": 3,
   "metadata": {},
   "outputs": [],
   "source": [
    "# Importar librerías para tratamiento de datos\n",
    "import pandas as pd  \n",
    "\n",
    "# Importar librerías para web scraping y manipulación de datos\n",
    "from bs4 import BeautifulSoup\n",
    "import requests\n",
    "import re\n",
    "\n",
    "# Importar librerías para automatización de navegadores web con Selenium\n",
    "from selenium import webdriver  \n",
    "from selenium.webdriver.common.by import By\n",
    "from webdriver_manager.chrome import ChromeDriverManager  \n",
    "from selenium.webdriver.common.keys import Keys  \n",
    "from selenium.webdriver.support.ui import Select  \n",
    "# Importar librerías para pausar la ejecución\n",
    "\n",
    "from time import sleep  \n",
    "\n",
    "# Configuraciones\n",
    "pd.set_option('display.max_columns', None)  # Establece una opción de Pandas para mostrar todas las columnas de un DataFrame.\n",
    "\n",
    "import warnings\n",
    "warnings.filterwarnings('ignore')\n",
    "\n",
    "import random"
   ]
  },
  {
   "cell_type": "code",
   "execution_count": 5,
   "metadata": {},
   "outputs": [],
   "source": [
    "df_pelis = pd.read_csv(\"union_peliculas.csv\")"
   ]
  },
  {
   "cell_type": "code",
   "execution_count": 8,
   "metadata": {},
   "outputs": [],
   "source": [
    "pelicula_titulo = df_pelis['Título']"
   ]
  },
  {
   "cell_type": "code",
   "execution_count": 9,
   "metadata": {},
   "outputs": [],
   "source": [
    "pelicula_año = df_pelis['Año de estreno']"
   ]
  },
  {
   "cell_type": "code",
   "execution_count": 10,
   "metadata": {},
   "outputs": [
    {
     "data": {
      "text/plain": [
       "0         Chateaubriand - Cabeça de Paraíba\n",
       "1                                    Nights\n",
       "2                                    Caught\n",
       "3                                      Smog\n",
       "4                              Safe Journey\n",
       "                        ...                \n",
       "312759                          Snake Eater\n",
       "312760                             Boom Box\n",
       "312761                        Maudit Poulet\n",
       "312762                                I___U\n",
       "312763                          Blind-Sided\n",
       "Name: Título, Length: 312764, dtype: object"
      ]
     },
     "execution_count": 10,
     "metadata": {},
     "output_type": "execute_result"
    }
   ],
   "source": [
    "pelicula_titulo"
   ]
  },
  {
   "cell_type": "code",
   "execution_count": 14,
   "metadata": {},
   "outputs": [
    {
     "data": {
      "text/plain": [
       "0         2000\n",
       "1         2000\n",
       "2         2000\n",
       "3         2000\n",
       "4         2000\n",
       "          ... \n",
       "312759    2013\n",
       "312760    2013\n",
       "312761    2013\n",
       "312762    2013\n",
       "312763    2013\n",
       "Name: Año de estreno, Length: 312764, dtype: int64"
      ]
     },
     "execution_count": 14,
     "metadata": {},
     "output_type": "execute_result"
    }
   ],
   "source": [
    "pelicula_año"
   ]
  },
  {
   "cell_type": "code",
   "execution_count": 27,
   "metadata": {},
   "outputs": [],
   "source": [
    "peliculas = ['Titanic', 'Tiburón', 'El señor de los anillos: la comunidad del anillo', 'Forrest Gump', 'Stuart Little']"
   ]
  },
  {
   "cell_type": "code",
   "execution_count": 37,
   "metadata": {},
   "outputs": [],
   "source": [
    "titulos_peliculas = [\n",
    "    \"El Padrino\",\n",
    "    \"Titanic\",\n",
    "    \"La La Land\",\n",
    "    \"Pulp Fiction\",\n",
    "    \"El Señor de los Anillos: La Comunidad del Anillo\"\n",
    "]"
   ]
  },
  {
   "cell_type": "code",
   "execution_count": 38,
   "metadata": {},
   "outputs": [],
   "source": [
    "driver = webdriver.Chrome()\n",
    "\n",
    "url = \"https://www.google.com/\"\n",
    "\n",
    "driver.get(url)\n",
    "\n",
    "driver.maximize_window()\n",
    "\n",
    "#Aceptar las cookies\n",
    "try:\n",
    "    driver.find_element(\"css selector\", \"#L2AGLb\").click()\n",
    "except:\n",
    "    try:\n",
    "        driver.find_element(\"css selector\", \"#L2AGLb > div\").click()\n",
    "    except:\n",
    "        pass\n",
    "\n",
    "#sleep(random.randint(1,8))\n",
    "\n",
    "tomato = {'Titulo':[], 'Tomatometer': []}\n",
    "\n",
    "for peli in titulos_peliculas:\n",
    "    buscar = peli + 'Tomatometer'\n",
    "    sleep(2)\n",
    "    buscador = driver.find_element(\"css selector\",'#APjFqb')\n",
    "    buscador.clear()\n",
    "    buscador.send_keys(buscar, Keys.ENTER)\n",
    "\n",
    "    sleep(3)\n",
    "    try:\n",
    "        tomato[\"Tomatometer\"].append(driver.find_element(\"css selector\",'#rso > div:nth-child(1) > div > div > div:nth-child(3) > div > span:nth-child(2)').text)\n",
    "        tomato[\"Titulo\"].append(peli) \n",
    "        \n",
    "    except:\n",
    "        try:\n",
    "            tomato[\"Tomatometer\"].append(driver.find_element(\"css selector\",'#rso > div:nth-child(2) > div > div > div:nth-child(3) > div').text)\n",
    "            tomato[\"Titulo\"].append(peli)\n",
    "        \n",
    "        except:\n",
    "            try: \n",
    "                tomato[\"Tomatometer\"].append(driver.find_element(\"css selector\",'#rso > div:nth-child(1) > div > div > div > div:nth-child(3) > div').text)\n",
    "                tomato[\"Titulo\"].append(peli)\n",
    "            except:\n",
    "                tomato[\"Tomatometer\"].append('No encontrado')\n",
    "        \n",
    " "
   ]
  },
  {
   "cell_type": "code",
   "execution_count": 39,
   "metadata": {},
   "outputs": [
    {
     "data": {
      "text/plain": [
       "{'Titulo': ['El Padrino',\n",
       "  'Titanic',\n",
       "  'La La Land',\n",
       "  'Pulp Fiction',\n",
       "  'El Señor de los Anillos: La Comunidad del Anillo'],\n",
       " 'Tomatometer': ['Valoración: 97%',\n",
       "  'Valoración: 88%',\n",
       "  '',\n",
       "  '',\n",
       "  'Valoración: 91%']}"
      ]
     },
     "execution_count": 39,
     "metadata": {},
     "output_type": "execute_result"
    }
   ],
   "source": [
    "tomato"
   ]
  }
 ],
 "metadata": {
  "kernelspec": {
   "display_name": "Python 3",
   "language": "python",
   "name": "python3"
  },
  "language_info": {
   "codemirror_mode": {
    "name": "ipython",
    "version": 3
   },
   "file_extension": ".py",
   "mimetype": "text/x-python",
   "name": "python",
   "nbconvert_exporter": "python",
   "pygments_lexer": "ipython3",
   "version": "3.11.8"
  }
 },
 "nbformat": 4,
 "nbformat_minor": 2
}
