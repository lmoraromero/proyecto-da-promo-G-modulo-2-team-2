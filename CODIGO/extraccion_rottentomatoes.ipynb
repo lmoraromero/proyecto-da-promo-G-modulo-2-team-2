{
 "cells": [
  {
   "cell_type": "code",
   "execution_count": 1,
   "metadata": {},
   "outputs": [
    {
     "name": "stderr",
     "output_type": "stream",
     "text": [
      "C:\\Users\\laura\\AppData\\Local\\Temp\\ipykernel_4020\\3104618795.py:2: DeprecationWarning: \n",
      "Pyarrow will become a required dependency of pandas in the next major release of pandas (pandas 3.0),\n",
      "(to allow more performant data types, such as the Arrow string type, and better interoperability with other libraries)\n",
      "but was not found to be installed on your system.\n",
      "If this would cause problems for you,\n",
      "please provide us feedback at https://github.com/pandas-dev/pandas/issues/54466\n",
      "        \n",
      "  import pandas as pd\n"
     ]
    }
   ],
   "source": [
    "# Importar librerías para tratamiento de datos\n",
    "import pandas as pd  \n",
    "\n",
    "# Importar librerías para web scraping y manipulación de datos\n",
    "from bs4 import BeautifulSoup\n",
    "import requests\n",
    "import re\n",
    "import random\n",
    "\n",
    "# Importar librerías para automatización de navegadores web con Selenium\n",
    "from selenium import webdriver  \n",
    "from selenium.webdriver.common.by import By\n",
    "from webdriver_manager.chrome import ChromeDriverManager  \n",
    "from selenium.webdriver.common.keys import Keys  \n",
    "from selenium.webdriver.support.ui import Select  \n",
    "\n",
    "# Importar librerías para pausar la ejecución\n",
    "from time import sleep  \n",
    "\n",
    "# Configuraciones\n",
    "pd.set_option('display.max_columns', None)  # Establece una opción de Pandas para mostrar todas las columnas de un DataFrame.\n",
    "\n",
    "import warnings\n",
    "warnings.filterwarnings('ignore')"
   ]
  },
  {
   "cell_type": "code",
   "execution_count": 2,
   "metadata": {},
   "outputs": [],
   "source": [
    "rotten = pd.read_csv(\"INFO_PELIS/pelis_2007_2010.csv\", index_col = 0)"
   ]
  },
  {
   "cell_type": "code",
   "execution_count": 3,
   "metadata": {},
   "outputs": [
    {
     "data": {
      "text/html": [
       "<div>\n",
       "<style scoped>\n",
       "    .dataframe tbody tr th:only-of-type {\n",
       "        vertical-align: middle;\n",
       "    }\n",
       "\n",
       "    .dataframe tbody tr th {\n",
       "        vertical-align: top;\n",
       "    }\n",
       "\n",
       "    .dataframe thead th {\n",
       "        text-align: right;\n",
       "    }\n",
       "</style>\n",
       "<table border=\"1\" class=\"dataframe\">\n",
       "  <thead>\n",
       "    <tr style=\"text-align: right;\">\n",
       "      <th></th>\n",
       "      <th>Genero</th>\n",
       "      <th>Tipo</th>\n",
       "      <th>Titulo</th>\n",
       "      <th>Año de estreno</th>\n",
       "      <th>Mes de estreno</th>\n",
       "      <th>ID</th>\n",
       "    </tr>\n",
       "  </thead>\n",
       "  <tbody>\n",
       "    <tr>\n",
       "      <th>26521</th>\n",
       "      <td>Action</td>\n",
       "      <td>Movie</td>\n",
       "      <td>Principles</td>\n",
       "      <td>2010</td>\n",
       "      <td>5.0</td>\n",
       "      <td>tt21032966</td>\n",
       "    </tr>\n",
       "    <tr>\n",
       "      <th>26522</th>\n",
       "      <td>Action</td>\n",
       "      <td>Movie</td>\n",
       "      <td>Das kleine Umwelt 1x1</td>\n",
       "      <td>2010</td>\n",
       "      <td>NaN</td>\n",
       "      <td>tt22864480</td>\n",
       "    </tr>\n",
       "    <tr>\n",
       "      <th>26523</th>\n",
       "      <td>Action</td>\n",
       "      <td>Movie</td>\n",
       "      <td>Justiceiro de Rua</td>\n",
       "      <td>2010</td>\n",
       "      <td>4.0</td>\n",
       "      <td>tt25444726</td>\n",
       "    </tr>\n",
       "    <tr>\n",
       "      <th>26524</th>\n",
       "      <td>Action</td>\n",
       "      <td>Movie</td>\n",
       "      <td>Nensho batoru rowaiyaru</td>\n",
       "      <td>2010</td>\n",
       "      <td>4.0</td>\n",
       "      <td>tt29080343</td>\n",
       "    </tr>\n",
       "    <tr>\n",
       "      <th>26525</th>\n",
       "      <td>Action</td>\n",
       "      <td>Movie</td>\n",
       "      <td>The Beast</td>\n",
       "      <td>2010</td>\n",
       "      <td>9.0</td>\n",
       "      <td>tt29763659</td>\n",
       "    </tr>\n",
       "  </tbody>\n",
       "</table>\n",
       "</div>"
      ],
      "text/plain": [
       "       Genero   Tipo                   Titulo  Año de estreno  Mes de estreno  \\\n",
       "26521  Action  Movie               Principles            2010             5.0   \n",
       "26522  Action  Movie    Das kleine Umwelt 1x1            2010             NaN   \n",
       "26523  Action  Movie        Justiceiro de Rua            2010             4.0   \n",
       "26524  Action  Movie  Nensho batoru rowaiyaru            2010             4.0   \n",
       "26525  Action  Movie                The Beast            2010             9.0   \n",
       "\n",
       "               ID  \n",
       "26521  tt21032966  \n",
       "26522  tt22864480  \n",
       "26523  tt25444726  \n",
       "26524  tt29080343  \n",
       "26525  tt29763659  "
      ]
     },
     "execution_count": 3,
     "metadata": {},
     "output_type": "execute_result"
    }
   ],
   "source": [
    "rotten.tail()"
   ]
  },
  {
   "cell_type": "code",
   "execution_count": 4,
   "metadata": {},
   "outputs": [],
   "source": [
    "lista_titulos= rotten[\"Titulo\"].to_list()"
   ]
  },
  {
   "cell_type": "code",
   "execution_count": 5,
   "metadata": {},
   "outputs": [],
   "source": [
    "lista_años= rotten[\"Año de estreno\"].to_list()"
   ]
  },
  {
   "cell_type": "code",
   "execution_count": 6,
   "metadata": {},
   "outputs": [],
   "source": [
    "list_busqueda_rotten = []\n",
    "for titulo,año in zip(lista_titulos,lista_años):\n",
    "    list_busqueda_rotten.append({titulo:año})"
   ]
  },
  {
   "cell_type": "code",
   "execution_count": 7,
   "metadata": {},
   "outputs": [],
   "source": [
    "## Extraccion datos Rotten Tomatoes\n",
    "\n",
    "url= \"https://www.google.es/\"\n",
    "\n",
    "\n",
    "options = webdriver.ChromeOptions()\n",
    "options.page_load_strategy = \"eager\"\n",
    "driver = webdriver.Chrome(options)\n",
    "\n",
    "driver.get(url)\n",
    "\n",
    "driver.maximize_window()\n",
    "\n",
    "# Aceptar las cookies de GOOGLE\n",
    "driver.find_element(\"css selector\", \"#L2AGLb > div\").click()\n",
    "sleep(3)\n",
    "\n",
    "puntuacion_tomatoes = {}\n",
    "contador = 23541\n",
    "maximo = 24123\n",
    "\n",
    "for peli in list_busqueda_rotten[contador:maximo]:\n",
    "    for titulo,año in peli.items():\n",
    "         \n",
    "        busqueda = f\"TOMATOMETER title: {titulo} - year: {año}\"\n",
    "        # print(busqueda)\n",
    "        \n",
    "        try:\n",
    "                       \n",
    "            buscador = driver.find_element(\"css selector\",'#APjFqb')\n",
    "            buscador.clear()\n",
    "            buscador.send_keys(busqueda, Keys.ENTER)\n",
    "            sleep(random.randint(4,8))\n",
    "\n",
    "            try:\n",
    "                puntuacion_tomatoes[titulo]=driver.find_element(\"css selector\",\"#rso > div:first-child > div > div > div > div:nth-child(3) > div > span:nth-child(2)\").text\n",
    "                                \n",
    "            except:\n",
    "                puntuacion_completa= driver.find_element(\"css selector\",'#rso > div:nth-child(1) > div > div > div:nth-child(3) > div').text\n",
    "                puntuacion = re.search(r'\\b(\\d+)%', puntuacion_completa)\n",
    "                puntuacion_tomatoes[titulo]=puntuacion.group()\n",
    "        \n",
    "        except:\n",
    "            puntuacion_tomatoes[titulo]=\"No existe puntuacion\"\n",
    "\n",
    "\n",
    "\n",
    "df_tomatoes = pd.Series(puntuacion_tomatoes,name=\"puntuacion\")\n",
    "df_tomatoes.index.name=\"titulo\"\n",
    "df_tomatoes.reset_index()\n",
    "df_tomatoes.to_csv(f\"{contador}_{maximo}_puntuacion_tomates_laura.csv\")"
   ]
  }
 ],
 "metadata": {
  "kernelspec": {
   "display_name": "Python 3",
   "language": "python",
   "name": "python3"
  },
  "language_info": {
   "codemirror_mode": {
    "name": "ipython",
    "version": 3
   },
   "file_extension": ".py",
   "mimetype": "text/x-python",
   "name": "python",
   "nbconvert_exporter": "python",
   "pygments_lexer": "ipython3",
   "version": "3.11.8"
  }
 },
 "nbformat": 4,
 "nbformat_minor": 2
}
