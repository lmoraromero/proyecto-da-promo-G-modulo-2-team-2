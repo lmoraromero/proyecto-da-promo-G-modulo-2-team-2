{
 "cells": [
  {
   "cell_type": "code",
   "execution_count": 2,
   "metadata": {},
   "outputs": [],
   "source": [
    "# Importar librerías para tratamiento de datos\n",
    "import pandas as pd  \n",
    "\n",
    "# Importar librerías para web scraping y manipulación de datos\n",
    "from bs4 import BeautifulSoup\n",
    "import requests\n",
    "import re\n",
    "\n",
    "# # Importar librerías para automatización de navegadores web con Selenium\n",
    "# from selenium import webdriver  \n",
    "# from selenium.webdriver.common.by import By\n",
    "# from webdriver_manager.chrome import ChromeDriverManager  \n",
    "# from selenium.webdriver.common.keys import Keys  \n",
    "# from selenium.webdriver.support.ui import Select  \n",
    "# # Importar librerías para pausar la ejecución\n",
    "\n",
    "from time import sleep  \n",
    "\n",
    "# Configuraciones\n",
    "pd.set_option('display.max_columns', None)  # Establece una opción de Pandas para mostrar todas las columnas de un DataFrame.\n",
    "\n",
    "import warnings\n",
    "warnings.filterwarnings('ignore')"
   ]
  },
  {
   "cell_type": "code",
   "execution_count": 5,
   "metadata": {},
   "outputs": [
    {
     "ename": "NameError",
     "evalue": "name 'json' is not defined",
     "output_type": "error",
     "traceback": [
      "\u001b[1;31m---------------------------------------------------------------------------\u001b[0m",
      "\u001b[1;31mNameError\u001b[0m                                 Traceback (most recent call last)",
      "Cell \u001b[1;32mIn[5], line 2\u001b[0m\n\u001b[0;32m      1\u001b[0m \u001b[38;5;28;01mwith\u001b[39;00m \u001b[38;5;28mopen\u001b[39m(\u001b[38;5;124m'\u001b[39m\u001b[38;5;124mlista_pelis_2000_2006.json\u001b[39m\u001b[38;5;124m'\u001b[39m, \u001b[38;5;124m'\u001b[39m\u001b[38;5;124mw\u001b[39m\u001b[38;5;124m'\u001b[39m) \u001b[38;5;28;01mas\u001b[39;00m archivo:\n\u001b[1;32m----> 2\u001b[0m     json\u001b[38;5;241m.\u001b[39mdump(lista_pelis, archivo)\n",
      "\u001b[1;31mNameError\u001b[0m: name 'json' is not defined"
     ]
    }
   ],
   "source": [
    "with open('lista_pelis_2000_2006.json', 'w') as archivo:\n",
    "    json.dump(lista_pelis, archivo)"
   ]
  },
  {
   "cell_type": "code",
   "execution_count": null,
   "metadata": {},
   "outputs": [],
   "source": [
    "df_pelis = pd.DataFrame(lista_pelis, columns=['Tipo', 'Título', 'Año de estreno', 'Mes de estreno', 'ID'])"
   ]
  },
  {
   "cell_type": "code",
   "execution_count": 2,
   "metadata": {},
   "outputs": [
    {
     "ename": "NoSuchWindowException",
     "evalue": "Message: no such window: target window already closed\nfrom unknown error: web view not found\n  (Session info: chrome=122.0.6261.57)\nStacktrace:\n\tGetHandleVerifier [0x00007FF6260D4C52+3505186]\n\t(No symbol) [0x00007FF625D00812]\n\t(No symbol) [0x00007FF625BB4145]\n\t(No symbol) [0x00007FF625B91D4C]\n\t(No symbol) [0x00007FF625C225F7]\n\t(No symbol) [0x00007FF625C37A61]\n\t(No symbol) [0x00007FF625C1BC33]\n\t(No symbol) [0x00007FF625BED618]\n\t(No symbol) [0x00007FF625BEE6B1]\n\tGetHandleVerifier [0x00007FF6261067AD+3708797]\n\tGetHandleVerifier [0x00007FF62615FC2D+4074493]\n\tGetHandleVerifier [0x00007FF626157DAF+4042111]\n\tGetHandleVerifier [0x00007FF625E2A0F6+708806]\n\t(No symbol) [0x00007FF625D0CACF]\n\t(No symbol) [0x00007FF625D07CD4]\n\t(No symbol) [0x00007FF625D07E2C]\n\t(No symbol) [0x00007FF625CF7964]\n\tBaseThreadInitThunk [0x00007FFBCA91257D+29]\n\tRtlUserThreadStart [0x00007FFBCC3AAA58+40]\n",
     "output_type": "error",
     "traceback": [
      "\u001b[1;31m---------------------------------------------------------------------------\u001b[0m",
      "\u001b[1;31mNoSuchWindowException\u001b[0m                     Traceback (most recent call last)",
      "Cell \u001b[1;32mIn[2], line 13\u001b[0m\n\u001b[0;32m     10\u001b[0m sleep(\u001b[38;5;241m5\u001b[39m)\n\u001b[0;32m     12\u001b[0m \u001b[38;5;66;03m# Aceptar las cookies PAG IMDB\u001b[39;00m\n\u001b[1;32m---> 13\u001b[0m driver\u001b[38;5;241m.\u001b[39mfind_element(\u001b[38;5;124m\"\u001b[39m\u001b[38;5;124mcss selector\u001b[39m\u001b[38;5;124m\"\u001b[39m, \u001b[38;5;124m\"\u001b[39m\u001b[38;5;124m#__next > div > div > div.sc-jrcTuL.bPmWiM > div > button.icb-btn.sc-bcXHqe.sc-dkrFOg.sc-iBYQkv.dcvrLS.ddtuHe.dRCGjd\u001b[39m\u001b[38;5;124m\"\u001b[39m)\u001b[38;5;241m.\u001b[39mclick()\n\u001b[0;32m     15\u001b[0m sleep(\u001b[38;5;241m5\u001b[39m)\n\u001b[0;32m     17\u001b[0m \u001b[38;5;66;03m#Preguntar al usuario el producto a buscar \u001b[39;00m\n",
      "File \u001b[1;32m~\\AppData\\Roaming\\Python\\Python311\\site-packages\\selenium\\webdriver\\remote\\webdriver.py:741\u001b[0m, in \u001b[0;36mWebDriver.find_element\u001b[1;34m(self, by, value)\u001b[0m\n\u001b[0;32m    738\u001b[0m     by \u001b[38;5;241m=\u001b[39m By\u001b[38;5;241m.\u001b[39mCSS_SELECTOR\n\u001b[0;32m    739\u001b[0m     value \u001b[38;5;241m=\u001b[39m \u001b[38;5;124mf\u001b[39m\u001b[38;5;124m'\u001b[39m\u001b[38;5;124m[name=\u001b[39m\u001b[38;5;124m\"\u001b[39m\u001b[38;5;132;01m{\u001b[39;00mvalue\u001b[38;5;132;01m}\u001b[39;00m\u001b[38;5;124m\"\u001b[39m\u001b[38;5;124m]\u001b[39m\u001b[38;5;124m'\u001b[39m\n\u001b[1;32m--> 741\u001b[0m \u001b[38;5;28;01mreturn\u001b[39;00m \u001b[38;5;28mself\u001b[39m\u001b[38;5;241m.\u001b[39mexecute(Command\u001b[38;5;241m.\u001b[39mFIND_ELEMENT, {\u001b[38;5;124m\"\u001b[39m\u001b[38;5;124musing\u001b[39m\u001b[38;5;124m\"\u001b[39m: by, \u001b[38;5;124m\"\u001b[39m\u001b[38;5;124mvalue\u001b[39m\u001b[38;5;124m\"\u001b[39m: value})[\u001b[38;5;124m\"\u001b[39m\u001b[38;5;124mvalue\u001b[39m\u001b[38;5;124m\"\u001b[39m]\n",
      "File \u001b[1;32m~\\AppData\\Roaming\\Python\\Python311\\site-packages\\selenium\\webdriver\\remote\\webdriver.py:347\u001b[0m, in \u001b[0;36mWebDriver.execute\u001b[1;34m(self, driver_command, params)\u001b[0m\n\u001b[0;32m    345\u001b[0m response \u001b[38;5;241m=\u001b[39m \u001b[38;5;28mself\u001b[39m\u001b[38;5;241m.\u001b[39mcommand_executor\u001b[38;5;241m.\u001b[39mexecute(driver_command, params)\n\u001b[0;32m    346\u001b[0m \u001b[38;5;28;01mif\u001b[39;00m response:\n\u001b[1;32m--> 347\u001b[0m     \u001b[38;5;28mself\u001b[39m\u001b[38;5;241m.\u001b[39merror_handler\u001b[38;5;241m.\u001b[39mcheck_response(response)\n\u001b[0;32m    348\u001b[0m     response[\u001b[38;5;124m\"\u001b[39m\u001b[38;5;124mvalue\u001b[39m\u001b[38;5;124m\"\u001b[39m] \u001b[38;5;241m=\u001b[39m \u001b[38;5;28mself\u001b[39m\u001b[38;5;241m.\u001b[39m_unwrap_value(response\u001b[38;5;241m.\u001b[39mget(\u001b[38;5;124m\"\u001b[39m\u001b[38;5;124mvalue\u001b[39m\u001b[38;5;124m\"\u001b[39m, \u001b[38;5;28;01mNone\u001b[39;00m))\n\u001b[0;32m    349\u001b[0m     \u001b[38;5;28;01mreturn\u001b[39;00m response\n",
      "File \u001b[1;32m~\\AppData\\Roaming\\Python\\Python311\\site-packages\\selenium\\webdriver\\remote\\errorhandler.py:229\u001b[0m, in \u001b[0;36mErrorHandler.check_response\u001b[1;34m(self, response)\u001b[0m\n\u001b[0;32m    227\u001b[0m         alert_text \u001b[38;5;241m=\u001b[39m value[\u001b[38;5;124m\"\u001b[39m\u001b[38;5;124malert\u001b[39m\u001b[38;5;124m\"\u001b[39m]\u001b[38;5;241m.\u001b[39mget(\u001b[38;5;124m\"\u001b[39m\u001b[38;5;124mtext\u001b[39m\u001b[38;5;124m\"\u001b[39m)\n\u001b[0;32m    228\u001b[0m     \u001b[38;5;28;01mraise\u001b[39;00m exception_class(message, screen, stacktrace, alert_text)  \u001b[38;5;66;03m# type: ignore[call-arg]  # mypy is not smart enough here\u001b[39;00m\n\u001b[1;32m--> 229\u001b[0m \u001b[38;5;28;01mraise\u001b[39;00m exception_class(message, screen, stacktrace)\n",
      "\u001b[1;31mNoSuchWindowException\u001b[0m: Message: no such window: target window already closed\nfrom unknown error: web view not found\n  (Session info: chrome=122.0.6261.57)\nStacktrace:\n\tGetHandleVerifier [0x00007FF6260D4C52+3505186]\n\t(No symbol) [0x00007FF625D00812]\n\t(No symbol) [0x00007FF625BB4145]\n\t(No symbol) [0x00007FF625B91D4C]\n\t(No symbol) [0x00007FF625C225F7]\n\t(No symbol) [0x00007FF625C37A61]\n\t(No symbol) [0x00007FF625C1BC33]\n\t(No symbol) [0x00007FF625BED618]\n\t(No symbol) [0x00007FF625BEE6B1]\n\tGetHandleVerifier [0x00007FF6261067AD+3708797]\n\tGetHandleVerifier [0x00007FF62615FC2D+4074493]\n\tGetHandleVerifier [0x00007FF626157DAF+4042111]\n\tGetHandleVerifier [0x00007FF625E2A0F6+708806]\n\t(No symbol) [0x00007FF625D0CACF]\n\t(No symbol) [0x00007FF625D07CD4]\n\t(No symbol) [0x00007FF625D07E2C]\n\t(No symbol) [0x00007FF625CF7964]\n\tBaseThreadInitThunk [0x00007FFBCA91257D+29]\n\tRtlUserThreadStart [0x00007FFBCC3AAA58+40]\n"
     ]
    }
   ],
   "source": [
    "driver = webdriver.Chrome()\n",
    "\n",
    "url = \"https://www.imdb.com/?ref_=nv_home\"\n",
    "\n",
    "\n",
    "driver.get(url)\n",
    "\n",
    "driver.maximize_window()\n",
    "\n",
    "sleep(5)\n",
    "\n",
    "# Aceptar las cookies PAG IMDB\n",
    "driver.find_element(\"css selector\", \"#__next > div > div > div.sc-jrcTuL.bPmWiM > div > button.icb-btn.sc-bcXHqe.sc-dkrFOg.sc-iBYQkv.dcvrLS.ddtuHe.dRCGjd\").click()\n",
    "\n",
    "sleep(5)\n",
    "\n",
    "#Preguntar al usuario el producto a buscar \n",
    "pelicula = input(\"De que pelicula quieres los datos?\")\n",
    "\n",
    "## MODIFICAR, tiene que ser una lista de tuplas\n",
    "diccionario_peliculas = {\"Puntuacion_IMDB\":[], \"Dirección\": [],\"Gionistas\":[], \"Argumento\":[], \"Duración\":[], \"Nombre de la película\": []}\n",
    "\n",
    "#Accedemos al buscador e introduccimos la peli para buscar PAG IMDB\n",
    "driver.find_element(\"css selector\",'#suggestion-search').send_keys(pelicula, Keys.ENTER)\n",
    "\n",
    "\n",
    "sleep(5)\n",
    "\n",
    "# Entramos a la pagina de la peli\n",
    "driver.find_element(\"css selector\", \"#__next > main > div.ipc-page-content-container.ipc-page-content-container--full.sc-a8b15070-0.iMRIeM > div.ipc-page-content-container.ipc-page-content-container--center > section > div > div.ipc-page-grid__item.ipc-page-grid__item--span-2 > section:nth-child(3) > div.sc-17bafbdb-2.iUyFfD > ul > li:nth-child(1) > div.ipc-metadata-list-summary-item__c > div > a\").click()\n",
    "\n",
    "sleep(5)\n",
    "\n",
    "print(driver.find_elements(\"xpath\", \"//div[contains(@data-testid,'storyline-plot-summary')]\"))\n",
    "\n",
    "diccionario_peliculas[\"Nombre de la película\"].append(pelicula)\n",
    "diccionario_peliculas[\"Puntuacion_IMDB\"].append(driver.find_element(\"xpath\",'//*[@id=\"__next\"]/main/div/section[1]/section/div[3]/section/section/div[2]/div[2]/div/div[1]/a/span/div/div[2]/div[1]/span[1]').text)\n",
    "diccionario_peliculas[\"Dirección\"].append(driver.find_element(\"css selector\",\"#__next > main > div > section.ipc-page-background.ipc-page-background--base.sc-304f99f6-0.fSJiHR > div > section > div > div.sc-978e9339-1.ihWZgK.ipc-page-grid__item.ipc-page-grid__item--span-2 > section.ipc-page-section.ipc-page-section--base.sc-bfec09a1-0.jgUBLM.title-cast.title-cast--movie.celwidget > ul > li:nth-child(1) > div > ul > li > a\").text)\n",
    "diccionario_peliculas[\"Gionistas\"].append(driver.find_element(\"css selector\",\"#__next > main > div > section.ipc-page-background.ipc-page-background--base.sc-304f99f6-0.fSJiHR > div > section > div > div.sc-978e9339-1.ihWZgK.ipc-page-grid__item.ipc-page-grid__item--span-2 > section.ipc-page-section.ipc-page-section--base.sc-bfec09a1-0.jgUBLM.title-cast.title-cast--movie.celwidget > ul > li:nth-child(2) > div > ul > li > a\").text)\n",
    "diccionario_peliculas[\"Argumento\"].append(driver.find_element(\"xpath\", \"//*[@id='__next']/main/div/section[1]/div/section/div/div[1]/section[5]/div[2]/div[1]/div/div/div\").text)\n",
    "diccionario_peliculas[\"Duración\"].append(driver.find_element(\"css selector\",\"#__next > main > div > section.ipc-page-background.ipc-page-background--base.sc-304f99f6-0.fSJiHR > section > div:nth-child(4) > section > section > div.sc-491663c0-3.bdjVSf > div.sc-69e49b85-0.jqlHBQ > ul\").text)\n",
    "\n"
   ]
  },
  {
   "cell_type": "code",
   "execution_count": 55,
   "metadata": {},
   "outputs": [
    {
     "data": {
      "text/plain": [
       "{'Puntuacion_IMDB': ['3,7'],\n",
       " 'Dirección': ['Ciro Ippolito'],\n",
       " 'Gionistas': ['Ciro Ippolito'],\n",
       " 'Argumento': [],\n",
       " 'Duración': [],\n",
       " 'Nombre de la película': ['alien 2']}"
      ]
     },
     "execution_count": 55,
     "metadata": {},
     "output_type": "execute_result"
    }
   ],
   "source": [
    "diccionario_peliculas"
   ]
  },
  {
   "cell_type": "code",
   "execution_count": 63,
   "metadata": {},
   "outputs": [
    {
     "ename": "NoSuchElementException",
     "evalue": "Message: no such element: Unable to locate element: {\"method\":\"css selector\",\"selector\":\"#rso > div:nth-child(1) > div > div > div:nth-child(3) > div\"}\n  (Session info: chrome=121.0.6167.185); For documentation on this error, please visit: https://www.selenium.dev/documentation/webdriver/troubleshooting/errors#no-such-element-exception\nStacktrace:\n\tGetHandleVerifier [0x00007FF63BFD7012+3522402]\n\t(No symbol) [0x00007FF63BBF8352]\n\t(No symbol) [0x00007FF63BAA5ABB]\n\t(No symbol) [0x00007FF63BAEBF0E]\n\t(No symbol) [0x00007FF63BAEC08C]\n\t(No symbol) [0x00007FF63BB2E437]\n\t(No symbol) [0x00007FF63BB0F09F]\n\t(No symbol) [0x00007FF63BB2BDA3]\n\t(No symbol) [0x00007FF63BB0EE03]\n\t(No symbol) [0x00007FF63BADF4D4]\n\t(No symbol) [0x00007FF63BAE05F1]\n\tGetHandleVerifier [0x00007FF63C009B9D+3730157]\n\tGetHandleVerifier [0x00007FF63C05F02D+4079485]\n\tGetHandleVerifier [0x00007FF63C0575D3+4048163]\n\tGetHandleVerifier [0x00007FF63BD2A649+718233]\n\t(No symbol) [0x00007FF63BC04A3F]\n\t(No symbol) [0x00007FF63BBFFA94]\n\t(No symbol) [0x00007FF63BBFFBC2]\n\t(No symbol) [0x00007FF63BBEF2E4]\n\tBaseThreadInitThunk [0x00007FFBCA91257D+29]\n\tRtlUserThreadStart [0x00007FFBCC3AAA58+40]\n",
     "output_type": "error",
     "traceback": [
      "\u001b[1;31m---------------------------------------------------------------------------\u001b[0m",
      "\u001b[1;31mNoSuchElementException\u001b[0m                    Traceback (most recent call last)",
      "Cell \u001b[1;32mIn[63], line 32\u001b[0m\n\u001b[0;32m     31\u001b[0m \u001b[38;5;28;01mtry\u001b[39;00m:\n\u001b[1;32m---> 32\u001b[0m     diccionario_peliculas[\u001b[38;5;124m\"\u001b[39m\u001b[38;5;124mRotten Tomatoes\u001b[39m\u001b[38;5;124m\"\u001b[39m]\u001b[38;5;241m.\u001b[39mappend(driver\u001b[38;5;241m.\u001b[39mfind_element(\u001b[38;5;124m\"\u001b[39m\u001b[38;5;124mcss selector\u001b[39m\u001b[38;5;124m\"\u001b[39m,\u001b[38;5;124m\"\u001b[39m\u001b[38;5;124m#rso > div:nth-child(3) > div > div > div > div:nth-child(3) > div > span:nth-child(2)\u001b[39m\u001b[38;5;124m\"\u001b[39m)\u001b[38;5;241m.\u001b[39mtext)\n\u001b[0;32m     33\u001b[0m \u001b[38;5;28;01mexcept\u001b[39;00m:\n",
      "File \u001b[1;32m~\\AppData\\Roaming\\Python\\Python311\\site-packages\\selenium\\webdriver\\remote\\webdriver.py:741\u001b[0m, in \u001b[0;36mWebDriver.find_element\u001b[1;34m(self, by, value)\u001b[0m\n\u001b[0;32m    739\u001b[0m     value \u001b[38;5;241m=\u001b[39m \u001b[38;5;124mf\u001b[39m\u001b[38;5;124m'\u001b[39m\u001b[38;5;124m[name=\u001b[39m\u001b[38;5;124m\"\u001b[39m\u001b[38;5;132;01m{\u001b[39;00mvalue\u001b[38;5;132;01m}\u001b[39;00m\u001b[38;5;124m\"\u001b[39m\u001b[38;5;124m]\u001b[39m\u001b[38;5;124m'\u001b[39m\n\u001b[1;32m--> 741\u001b[0m \u001b[38;5;28;01mreturn\u001b[39;00m \u001b[38;5;28mself\u001b[39m\u001b[38;5;241m.\u001b[39mexecute(Command\u001b[38;5;241m.\u001b[39mFIND_ELEMENT, {\u001b[38;5;124m\"\u001b[39m\u001b[38;5;124musing\u001b[39m\u001b[38;5;124m\"\u001b[39m: by, \u001b[38;5;124m\"\u001b[39m\u001b[38;5;124mvalue\u001b[39m\u001b[38;5;124m\"\u001b[39m: value})[\u001b[38;5;124m\"\u001b[39m\u001b[38;5;124mvalue\u001b[39m\u001b[38;5;124m\"\u001b[39m]\n",
      "File \u001b[1;32m~\\AppData\\Roaming\\Python\\Python311\\site-packages\\selenium\\webdriver\\remote\\webdriver.py:347\u001b[0m, in \u001b[0;36mWebDriver.execute\u001b[1;34m(self, driver_command, params)\u001b[0m\n\u001b[0;32m    346\u001b[0m \u001b[38;5;28;01mif\u001b[39;00m response:\n\u001b[1;32m--> 347\u001b[0m     \u001b[38;5;28mself\u001b[39m\u001b[38;5;241m.\u001b[39merror_handler\u001b[38;5;241m.\u001b[39mcheck_response(response)\n\u001b[0;32m    348\u001b[0m     response[\u001b[38;5;124m\"\u001b[39m\u001b[38;5;124mvalue\u001b[39m\u001b[38;5;124m\"\u001b[39m] \u001b[38;5;241m=\u001b[39m \u001b[38;5;28mself\u001b[39m\u001b[38;5;241m.\u001b[39m_unwrap_value(response\u001b[38;5;241m.\u001b[39mget(\u001b[38;5;124m\"\u001b[39m\u001b[38;5;124mvalue\u001b[39m\u001b[38;5;124m\"\u001b[39m, \u001b[38;5;28;01mNone\u001b[39;00m))\n",
      "File \u001b[1;32m~\\AppData\\Roaming\\Python\\Python311\\site-packages\\selenium\\webdriver\\remote\\errorhandler.py:229\u001b[0m, in \u001b[0;36mErrorHandler.check_response\u001b[1;34m(self, response)\u001b[0m\n\u001b[0;32m    228\u001b[0m     \u001b[38;5;28;01mraise\u001b[39;00m exception_class(message, screen, stacktrace, alert_text)  \u001b[38;5;66;03m# type: ignore[call-arg]  # mypy is not smart enough here\u001b[39;00m\n\u001b[1;32m--> 229\u001b[0m \u001b[38;5;28;01mraise\u001b[39;00m exception_class(message, screen, stacktrace)\n",
      "\u001b[1;31mNoSuchElementException\u001b[0m: Message: no such element: Unable to locate element: {\"method\":\"css selector\",\"selector\":\"#rso > div:nth-child(3) > div > div > div > div:nth-child(3) > div > span:nth-child(2)\"}\n  (Session info: chrome=121.0.6167.185); For documentation on this error, please visit: https://www.selenium.dev/documentation/webdriver/troubleshooting/errors#no-such-element-exception\nStacktrace:\n\tGetHandleVerifier [0x00007FF63BFD7012+3522402]\n\t(No symbol) [0x00007FF63BBF8352]\n\t(No symbol) [0x00007FF63BAA5ABB]\n\t(No symbol) [0x00007FF63BAEBF0E]\n\t(No symbol) [0x00007FF63BAEC08C]\n\t(No symbol) [0x00007FF63BB2E437]\n\t(No symbol) [0x00007FF63BB0F09F]\n\t(No symbol) [0x00007FF63BB2BDA3]\n\t(No symbol) [0x00007FF63BB0EE03]\n\t(No symbol) [0x00007FF63BADF4D4]\n\t(No symbol) [0x00007FF63BAE05F1]\n\tGetHandleVerifier [0x00007FF63C009B9D+3730157]\n\tGetHandleVerifier [0x00007FF63C05F02D+4079485]\n\tGetHandleVerifier [0x00007FF63C0575D3+4048163]\n\tGetHandleVerifier [0x00007FF63BD2A649+718233]\n\t(No symbol) [0x00007FF63BC04A3F]\n\t(No symbol) [0x00007FF63BBFFA94]\n\t(No symbol) [0x00007FF63BBFFBC2]\n\t(No symbol) [0x00007FF63BBEF2E4]\n\tBaseThreadInitThunk [0x00007FFBCA91257D+29]\n\tRtlUserThreadStart [0x00007FFBCC3AAA58+40]\n",
      "\nDuring handling of the above exception, another exception occurred:\n",
      "\u001b[1;31mNoSuchElementException\u001b[0m                    Traceback (most recent call last)",
      "Cell \u001b[1;32mIn[63], line 34\u001b[0m\n\u001b[0;32m     32\u001b[0m     diccionario_peliculas[\u001b[38;5;124m\"\u001b[39m\u001b[38;5;124mRotten Tomatoes\u001b[39m\u001b[38;5;124m\"\u001b[39m]\u001b[38;5;241m.\u001b[39mappend(driver\u001b[38;5;241m.\u001b[39mfind_element(\u001b[38;5;124m\"\u001b[39m\u001b[38;5;124mcss selector\u001b[39m\u001b[38;5;124m\"\u001b[39m,\u001b[38;5;124m\"\u001b[39m\u001b[38;5;124m#rso > div:nth-child(3) > div > div > div > div:nth-child(3) > div > span:nth-child(2)\u001b[39m\u001b[38;5;124m\"\u001b[39m)\u001b[38;5;241m.\u001b[39mtext)\n\u001b[0;32m     33\u001b[0m \u001b[38;5;28;01mexcept\u001b[39;00m:\n\u001b[1;32m---> 34\u001b[0m     puntuacion_completa\u001b[38;5;241m=\u001b[39m (driver\u001b[38;5;241m.\u001b[39mfind_element(\u001b[38;5;124m\"\u001b[39m\u001b[38;5;124mcss selector\u001b[39m\u001b[38;5;124m\"\u001b[39m,\u001b[38;5;124m'\u001b[39m\u001b[38;5;124m#rso > div:nth-child(1) > div > div > div:nth-child(3) > div\u001b[39m\u001b[38;5;124m'\u001b[39m)\u001b[38;5;241m.\u001b[39mtext)\n\u001b[0;32m     35\u001b[0m     puntuacion \u001b[38;5;241m=\u001b[39m re\u001b[38;5;241m.\u001b[39msearch(\u001b[38;5;124mr\u001b[39m\u001b[38;5;124m'\u001b[39m\u001b[38;5;124m\\\u001b[39m\u001b[38;5;124mb(\u001b[39m\u001b[38;5;124m\\\u001b[39m\u001b[38;5;124md+)\u001b[39m\u001b[38;5;124m%\u001b[39m\u001b[38;5;124m'\u001b[39m, puntuacion_completa)\n\u001b[0;32m     36\u001b[0m     diccionario_peliculas[\u001b[38;5;124m\"\u001b[39m\u001b[38;5;124mRotten Tomatoes\u001b[39m\u001b[38;5;124m\"\u001b[39m]\u001b[38;5;241m.\u001b[39mappend(puntuacion\u001b[38;5;241m.\u001b[39mgroup())\n",
      "File \u001b[1;32m~\\AppData\\Roaming\\Python\\Python311\\site-packages\\selenium\\webdriver\\remote\\webdriver.py:741\u001b[0m, in \u001b[0;36mWebDriver.find_element\u001b[1;34m(self, by, value)\u001b[0m\n\u001b[0;32m    738\u001b[0m     by \u001b[38;5;241m=\u001b[39m By\u001b[38;5;241m.\u001b[39mCSS_SELECTOR\n\u001b[0;32m    739\u001b[0m     value \u001b[38;5;241m=\u001b[39m \u001b[38;5;124mf\u001b[39m\u001b[38;5;124m'\u001b[39m\u001b[38;5;124m[name=\u001b[39m\u001b[38;5;124m\"\u001b[39m\u001b[38;5;132;01m{\u001b[39;00mvalue\u001b[38;5;132;01m}\u001b[39;00m\u001b[38;5;124m\"\u001b[39m\u001b[38;5;124m]\u001b[39m\u001b[38;5;124m'\u001b[39m\n\u001b[1;32m--> 741\u001b[0m \u001b[38;5;28;01mreturn\u001b[39;00m \u001b[38;5;28mself\u001b[39m\u001b[38;5;241m.\u001b[39mexecute(Command\u001b[38;5;241m.\u001b[39mFIND_ELEMENT, {\u001b[38;5;124m\"\u001b[39m\u001b[38;5;124musing\u001b[39m\u001b[38;5;124m\"\u001b[39m: by, \u001b[38;5;124m\"\u001b[39m\u001b[38;5;124mvalue\u001b[39m\u001b[38;5;124m\"\u001b[39m: value})[\u001b[38;5;124m\"\u001b[39m\u001b[38;5;124mvalue\u001b[39m\u001b[38;5;124m\"\u001b[39m]\n",
      "File \u001b[1;32m~\\AppData\\Roaming\\Python\\Python311\\site-packages\\selenium\\webdriver\\remote\\webdriver.py:347\u001b[0m, in \u001b[0;36mWebDriver.execute\u001b[1;34m(self, driver_command, params)\u001b[0m\n\u001b[0;32m    345\u001b[0m response \u001b[38;5;241m=\u001b[39m \u001b[38;5;28mself\u001b[39m\u001b[38;5;241m.\u001b[39mcommand_executor\u001b[38;5;241m.\u001b[39mexecute(driver_command, params)\n\u001b[0;32m    346\u001b[0m \u001b[38;5;28;01mif\u001b[39;00m response:\n\u001b[1;32m--> 347\u001b[0m     \u001b[38;5;28mself\u001b[39m\u001b[38;5;241m.\u001b[39merror_handler\u001b[38;5;241m.\u001b[39mcheck_response(response)\n\u001b[0;32m    348\u001b[0m     response[\u001b[38;5;124m\"\u001b[39m\u001b[38;5;124mvalue\u001b[39m\u001b[38;5;124m\"\u001b[39m] \u001b[38;5;241m=\u001b[39m \u001b[38;5;28mself\u001b[39m\u001b[38;5;241m.\u001b[39m_unwrap_value(response\u001b[38;5;241m.\u001b[39mget(\u001b[38;5;124m\"\u001b[39m\u001b[38;5;124mvalue\u001b[39m\u001b[38;5;124m\"\u001b[39m, \u001b[38;5;28;01mNone\u001b[39;00m))\n\u001b[0;32m    349\u001b[0m     \u001b[38;5;28;01mreturn\u001b[39;00m response\n",
      "File \u001b[1;32m~\\AppData\\Roaming\\Python\\Python311\\site-packages\\selenium\\webdriver\\remote\\errorhandler.py:229\u001b[0m, in \u001b[0;36mErrorHandler.check_response\u001b[1;34m(self, response)\u001b[0m\n\u001b[0;32m    227\u001b[0m         alert_text \u001b[38;5;241m=\u001b[39m value[\u001b[38;5;124m\"\u001b[39m\u001b[38;5;124malert\u001b[39m\u001b[38;5;124m\"\u001b[39m]\u001b[38;5;241m.\u001b[39mget(\u001b[38;5;124m\"\u001b[39m\u001b[38;5;124mtext\u001b[39m\u001b[38;5;124m\"\u001b[39m)\n\u001b[0;32m    228\u001b[0m     \u001b[38;5;28;01mraise\u001b[39;00m exception_class(message, screen, stacktrace, alert_text)  \u001b[38;5;66;03m# type: ignore[call-arg]  # mypy is not smart enough here\u001b[39;00m\n\u001b[1;32m--> 229\u001b[0m \u001b[38;5;28;01mraise\u001b[39;00m exception_class(message, screen, stacktrace)\n",
      "\u001b[1;31mNoSuchElementException\u001b[0m: Message: no such element: Unable to locate element: {\"method\":\"css selector\",\"selector\":\"#rso > div:nth-child(1) > div > div > div:nth-child(3) > div\"}\n  (Session info: chrome=121.0.6167.185); For documentation on this error, please visit: https://www.selenium.dev/documentation/webdriver/troubleshooting/errors#no-such-element-exception\nStacktrace:\n\tGetHandleVerifier [0x00007FF63BFD7012+3522402]\n\t(No symbol) [0x00007FF63BBF8352]\n\t(No symbol) [0x00007FF63BAA5ABB]\n\t(No symbol) [0x00007FF63BAEBF0E]\n\t(No symbol) [0x00007FF63BAEC08C]\n\t(No symbol) [0x00007FF63BB2E437]\n\t(No symbol) [0x00007FF63BB0F09F]\n\t(No symbol) [0x00007FF63BB2BDA3]\n\t(No symbol) [0x00007FF63BB0EE03]\n\t(No symbol) [0x00007FF63BADF4D4]\n\t(No symbol) [0x00007FF63BAE05F1]\n\tGetHandleVerifier [0x00007FF63C009B9D+3730157]\n\tGetHandleVerifier [0x00007FF63C05F02D+4079485]\n\tGetHandleVerifier [0x00007FF63C0575D3+4048163]\n\tGetHandleVerifier [0x00007FF63BD2A649+718233]\n\t(No symbol) [0x00007FF63BC04A3F]\n\t(No symbol) [0x00007FF63BBFFA94]\n\t(No symbol) [0x00007FF63BBFFBC2]\n\t(No symbol) [0x00007FF63BBEF2E4]\n\tBaseThreadInitThunk [0x00007FFBCA91257D+29]\n\tRtlUserThreadStart [0x00007FFBCC3AAA58+40]\n"
     ]
    }
   ],
   "source": [
    "driver = webdriver.Chrome()\n",
    "\n",
    "url= \"https://www.google.es/\"\n",
    "\n",
    "driver.get(url)\n",
    "\n",
    "driver.maximize_window()\n",
    "\n",
    "# Aceptar las cookies de GOOGLE\n",
    "driver.find_element(\"css selector\", \"#L2AGLb > div\").click()\n",
    "\n",
    "\n",
    "sleep(5)\n",
    "\n",
    "\n",
    "##CAMBIAR POR UN BUBLE QUE RECORRA UN DF\n",
    "pelicula = input(\"De que pelicula quieres los datos?\")\n",
    "\n",
    "\n",
    "## MODIFICAR, tiene que ser una lista de tuplas\n",
    "diccionario_peliculas = {\"Rotten Tomatoes\":[]}\n",
    "busqueda = f\"puntuacion Rotten Tomatoes de la {pelicula}\"\n",
    "\n",
    "\n",
    "\n",
    "#Accedemos al buscador e introduccimos la peli para buscar PAG IMDB\n",
    "driver.find_element(\"css selector\",'#APjFqb').send_keys(busqueda, Keys.ENTER)\n",
    "\n",
    "\n",
    "sleep(5)\n",
    "try:\n",
    "    diccionario_peliculas[\"Rotten Tomatoes\"].append(driver.find_element(\"css selector\",\"#rso > div:nth-child(3) > div > div > div > div:nth-child(3) > div > span:nth-child(2)\").text)\n",
    "except:\n",
    "    puntuacion_completa= (driver.find_element(\"css selector\",'#rso > div:nth-child(1) > div > div > div:nth-child(3) > div').text)\n",
    "    puntuacion = re.search(r'\\b(\\d+)%', puntuacion_completa)\n",
    "    diccionario_peliculas[\"Rotten Tomatoes\"].append(puntuacion.group())\n",
    "\n",
    "\n"
   ]
  },
  {
   "cell_type": "code",
   "execution_count": 62,
   "metadata": {},
   "outputs": [
    {
     "name": "stdout",
     "output_type": "stream",
     "text": [
      "{'Rotten Tomatoes': ['80%']}\n"
     ]
    }
   ],
   "source": [
    "print(diccionario_peliculas)"
   ]
  }
 ],
 "metadata": {
  "kernelspec": {
   "display_name": "base",
   "language": "python",
   "name": "python3"
  },
  "language_info": {
   "codemirror_mode": {
    "name": "ipython",
    "version": 3
   },
   "file_extension": ".py",
   "mimetype": "text/x-python",
   "name": "python",
   "nbconvert_exporter": "python",
   "pygments_lexer": "ipython3",
   "version": "3.9.7"
  }
 },
 "nbformat": 4,
 "nbformat_minor": 2
}
