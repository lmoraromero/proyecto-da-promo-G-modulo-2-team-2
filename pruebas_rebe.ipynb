{
 "cells": [
  {
   "cell_type": "code",
   "execution_count": 5,
   "metadata": {},
   "outputs": [],
   "source": [
    "# Importar librerías para tratamiento de datos\n",
    "import pandas as pd  \n",
    "\n",
    "# Importar librerías para web scraping y manipulación de datos\n",
    "from bs4 import BeautifulSoup\n",
    "import requests\n",
    "import re\n",
    "\n",
    "# Importar librerías para automatización de navegadores web con Selenium\n",
    "from selenium import webdriver  \n",
    "from selenium.webdriver.common.by import By\n",
    "from webdriver_manager.chrome import ChromeDriverManager  \n",
    "from selenium.webdriver.common.keys import Keys  \n",
    "from selenium.webdriver.support.ui import Select  \n",
    "# Importar librerías para pausar la ejecución\n",
    "\n",
    "from time import sleep  \n",
    "\n",
    "# Configuraciones\n",
    "pd.set_option('display.max_columns', None)  # Establece una opción de Pandas para mostrar todas las columnas de un DataFrame.\n",
    "\n",
    "import warnings\n",
    "warnings.filterwarnings('ignore')"
   ]
  },
  {
   "cell_type": "code",
   "execution_count": 6,
   "metadata": {},
   "outputs": [],
   "source": [
    "df_pelis = pd.read_csv(\"COPIA SEGURIDAD/union_peliculas.csv\")"
   ]
  },
  {
   "cell_type": "code",
   "execution_count": 7,
   "metadata": {},
   "outputs": [
    {
     "data": {
      "text/html": [
       "<div>\n",
       "<style scoped>\n",
       "    .dataframe tbody tr th:only-of-type {\n",
       "        vertical-align: middle;\n",
       "    }\n",
       "\n",
       "    .dataframe tbody tr th {\n",
       "        vertical-align: top;\n",
       "    }\n",
       "\n",
       "    .dataframe thead th {\n",
       "        text-align: right;\n",
       "    }\n",
       "</style>\n",
       "<table border=\"1\" class=\"dataframe\">\n",
       "  <thead>\n",
       "    <tr style=\"text-align: right;\">\n",
       "      <th></th>\n",
       "      <th>Unnamed: 0</th>\n",
       "      <th>Tipo</th>\n",
       "      <th>Título</th>\n",
       "      <th>Año de estreno</th>\n",
       "      <th>Mes de estreno</th>\n",
       "      <th>ID</th>\n",
       "    </tr>\n",
       "  </thead>\n",
       "  <tbody>\n",
       "    <tr>\n",
       "      <th>0</th>\n",
       "      <td>0</td>\n",
       "      <td>Movie</td>\n",
       "      <td>Istota</td>\n",
       "      <td>2000</td>\n",
       "      <td>NaN</td>\n",
       "      <td>tt0102362</td>\n",
       "    </tr>\n",
       "    <tr>\n",
       "      <th>1</th>\n",
       "      <td>1</td>\n",
       "      <td>Movie</td>\n",
       "      <td>For the Cause</td>\n",
       "      <td>2000</td>\n",
       "      <td>5.0</td>\n",
       "      <td>tt0113092</td>\n",
       "    </tr>\n",
       "    <tr>\n",
       "      <th>2</th>\n",
       "      <td>2</td>\n",
       "      <td>Movie</td>\n",
       "      <td>Florentino y el diablo</td>\n",
       "      <td>2000</td>\n",
       "      <td>4.0</td>\n",
       "      <td>tt0113086</td>\n",
       "    </tr>\n",
       "    <tr>\n",
       "      <th>3</th>\n",
       "      <td>3</td>\n",
       "      <td>Movie</td>\n",
       "      <td>Karobaar: The Business of Love</td>\n",
       "      <td>2000</td>\n",
       "      <td>9.0</td>\n",
       "      <td>tt0116748</td>\n",
       "    </tr>\n",
       "    <tr>\n",
       "      <th>4</th>\n",
       "      <td>4</td>\n",
       "      <td>Movie</td>\n",
       "      <td>Gang</td>\n",
       "      <td>2000</td>\n",
       "      <td>4.0</td>\n",
       "      <td>tt0116391</td>\n",
       "    </tr>\n",
       "  </tbody>\n",
       "</table>\n",
       "</div>"
      ],
      "text/plain": [
       "   Unnamed: 0   Tipo                          Título  Año de estreno  \\\n",
       "0           0  Movie                          Istota            2000   \n",
       "1           1  Movie                   For the Cause            2000   \n",
       "2           2  Movie          Florentino y el diablo            2000   \n",
       "3           3  Movie  Karobaar: The Business of Love            2000   \n",
       "4           4  Movie                            Gang            2000   \n",
       "\n",
       "   Mes de estreno         ID  \n",
       "0             NaN  tt0102362  \n",
       "1             5.0  tt0113092  \n",
       "2             4.0  tt0113086  \n",
       "3             9.0  tt0116748  \n",
       "4             4.0  tt0116391  "
      ]
     },
     "execution_count": 7,
     "metadata": {},
     "output_type": "execute_result"
    }
   ],
   "source": [
    "df_pelis.head()"
   ]
  },
  {
   "cell_type": "code",
   "execution_count": 8,
   "metadata": {},
   "outputs": [],
   "source": [
    "lista_ID = df_pelis[\"ID\"].to_list()"
   ]
  },
  {
   "cell_type": "code",
   "execution_count": 9,
   "metadata": {},
   "outputs": [
    {
     "ename": "ElementNotInteractableException",
     "evalue": "Message: element not interactable\n  (Session info: chrome=122.0.6261.57)\nStacktrace:\n\tGetHandleVerifier [0x00007FF65E1D4C82+3505170]\n\t(No symbol) [0x00007FF65DE00852]\n\t(No symbol) [0x00007FF65DCB3FFD]\n\t(No symbol) [0x00007FF65DCF4BC7]\n\t(No symbol) [0x00007FF65DCF3842]\n\t(No symbol) [0x00007FF65DD1BE8A]\n\t(No symbol) [0x00007FF65DCEF27A]\n\t(No symbol) [0x00007FF65DD1C0A0]\n\t(No symbol) [0x00007FF65DD383B2]\n\t(No symbol) [0x00007FF65DD1BC33]\n\t(No symbol) [0x00007FF65DCED618]\n\t(No symbol) [0x00007FF65DCEE6B1]\n\tGetHandleVerifier [0x00007FF65E2067DD+3708781]\n\tGetHandleVerifier [0x00007FF65E25FC5D+4074477]\n\tGetHandleVerifier [0x00007FF65E257DDF+4042095]\n\tGetHandleVerifier [0x00007FF65DF2A136+708806]\n\t(No symbol) [0x00007FF65DE0CB0F]\n\t(No symbol) [0x00007FF65DE07D14]\n\t(No symbol) [0x00007FF65DE07E6C]\n\t(No symbol) [0x00007FF65DDF79A4]\n\tBaseThreadInitThunk [0x00007FF9DFB4257D+29]\n\tRtlUserThreadStart [0x00007FF9E1D0AA58+40]\n",
     "output_type": "error",
     "traceback": [
      "\u001b[1;31m---------------------------------------------------------------------------\u001b[0m",
      "\u001b[1;31mElementNotInteractableException\u001b[0m           Traceback (most recent call last)",
      "Cell \u001b[1;32mIn[9], line 25\u001b[0m\n\u001b[0;32m     20\u001b[0m lista_ID\n\u001b[0;32m     22\u001b[0m \u001b[38;5;28;01mfor\u001b[39;00m pelicula \u001b[38;5;129;01min\u001b[39;00m lista_ID[\u001b[38;5;241m9\u001b[39m:\u001b[38;5;241m12\u001b[39m]:\n\u001b[0;32m     23\u001b[0m     \n\u001b[0;32m     24\u001b[0m     \u001b[38;5;66;03m#Accedemos al buscador e introduccimos la peli para buscar PAG IMDB\u001b[39;00m\n\u001b[1;32m---> 25\u001b[0m     driver\u001b[38;5;241m.\u001b[39mfind_element(\u001b[38;5;124m\"\u001b[39m\u001b[38;5;124mcss selector\u001b[39m\u001b[38;5;124m\"\u001b[39m,\u001b[38;5;124m'\u001b[39m\u001b[38;5;124m#suggestion-search\u001b[39m\u001b[38;5;124m'\u001b[39m)\u001b[38;5;241m.\u001b[39msend_keys(pelicula, Keys\u001b[38;5;241m.\u001b[39mENTER)\n\u001b[0;32m     27\u001b[0m     sleep(\u001b[38;5;241m5\u001b[39m)\n\u001b[0;32m     29\u001b[0m     \u001b[38;5;66;03m# Entramos a la pagina de la peli\u001b[39;00m\n\u001b[0;32m     30\u001b[0m     \u001b[38;5;66;03m# driver.find_element(\"css selector\", \"#__next > main > div.ipc-page-content-container.ipc-page-content-container--full.sc-a8b15070-0.iMRIeM > div.ipc-page-content-container.ipc-page-content-container--center > section > div > div.ipc-page-grid__item.ipc-page-grid__item--span-2 > section:nth-child(3) > div.sc-17bafbdb-2.iUyFfD > ul > li:nth-child(1) > div.ipc-metadata-list-summary-item__c > div > a\").click()\u001b[39;00m\n\u001b[0;32m     31\u001b[0m \n\u001b[0;32m     32\u001b[0m     \u001b[38;5;66;03m# sleep(5)\u001b[39;00m\n\u001b[0;32m     33\u001b[0m \n\u001b[0;32m     34\u001b[0m \u001b[38;5;66;03m# Seleccionar nombre de la pelicula\u001b[39;00m\n",
      "File \u001b[1;32m~\\AppData\\Roaming\\Python\\Python311\\site-packages\\selenium\\webdriver\\remote\\webelement.py:231\u001b[0m, in \u001b[0;36mWebElement.send_keys\u001b[1;34m(self, *value)\u001b[0m\n\u001b[0;32m    228\u001b[0m             remote_files\u001b[38;5;241m.\u001b[39mappend(\u001b[38;5;28mself\u001b[39m\u001b[38;5;241m.\u001b[39m_upload(file))\n\u001b[0;32m    229\u001b[0m         value \u001b[38;5;241m=\u001b[39m \u001b[38;5;124m\"\u001b[39m\u001b[38;5;130;01m\\n\u001b[39;00m\u001b[38;5;124m\"\u001b[39m\u001b[38;5;241m.\u001b[39mjoin(remote_files)\n\u001b[1;32m--> 231\u001b[0m \u001b[38;5;28mself\u001b[39m\u001b[38;5;241m.\u001b[39m_execute(\n\u001b[0;32m    232\u001b[0m     Command\u001b[38;5;241m.\u001b[39mSEND_KEYS_TO_ELEMENT, {\u001b[38;5;124m\"\u001b[39m\u001b[38;5;124mtext\u001b[39m\u001b[38;5;124m\"\u001b[39m: \u001b[38;5;124m\"\u001b[39m\u001b[38;5;124m\"\u001b[39m\u001b[38;5;241m.\u001b[39mjoin(keys_to_typing(value)), \u001b[38;5;124m\"\u001b[39m\u001b[38;5;124mvalue\u001b[39m\u001b[38;5;124m\"\u001b[39m: keys_to_typing(value)}\n\u001b[0;32m    233\u001b[0m )\n",
      "File \u001b[1;32m~\\AppData\\Roaming\\Python\\Python311\\site-packages\\selenium\\webdriver\\remote\\webelement.py:395\u001b[0m, in \u001b[0;36mWebElement._execute\u001b[1;34m(self, command, params)\u001b[0m\n\u001b[0;32m    393\u001b[0m     params \u001b[38;5;241m=\u001b[39m {}\n\u001b[0;32m    394\u001b[0m params[\u001b[38;5;124m\"\u001b[39m\u001b[38;5;124mid\u001b[39m\u001b[38;5;124m\"\u001b[39m] \u001b[38;5;241m=\u001b[39m \u001b[38;5;28mself\u001b[39m\u001b[38;5;241m.\u001b[39m_id\n\u001b[1;32m--> 395\u001b[0m \u001b[38;5;28;01mreturn\u001b[39;00m \u001b[38;5;28mself\u001b[39m\u001b[38;5;241m.\u001b[39m_parent\u001b[38;5;241m.\u001b[39mexecute(command, params)\n",
      "File \u001b[1;32m~\\AppData\\Roaming\\Python\\Python311\\site-packages\\selenium\\webdriver\\remote\\webdriver.py:347\u001b[0m, in \u001b[0;36mWebDriver.execute\u001b[1;34m(self, driver_command, params)\u001b[0m\n\u001b[0;32m    345\u001b[0m response \u001b[38;5;241m=\u001b[39m \u001b[38;5;28mself\u001b[39m\u001b[38;5;241m.\u001b[39mcommand_executor\u001b[38;5;241m.\u001b[39mexecute(driver_command, params)\n\u001b[0;32m    346\u001b[0m \u001b[38;5;28;01mif\u001b[39;00m response:\n\u001b[1;32m--> 347\u001b[0m     \u001b[38;5;28mself\u001b[39m\u001b[38;5;241m.\u001b[39merror_handler\u001b[38;5;241m.\u001b[39mcheck_response(response)\n\u001b[0;32m    348\u001b[0m     response[\u001b[38;5;124m\"\u001b[39m\u001b[38;5;124mvalue\u001b[39m\u001b[38;5;124m\"\u001b[39m] \u001b[38;5;241m=\u001b[39m \u001b[38;5;28mself\u001b[39m\u001b[38;5;241m.\u001b[39m_unwrap_value(response\u001b[38;5;241m.\u001b[39mget(\u001b[38;5;124m\"\u001b[39m\u001b[38;5;124mvalue\u001b[39m\u001b[38;5;124m\"\u001b[39m, \u001b[38;5;28;01mNone\u001b[39;00m))\n\u001b[0;32m    349\u001b[0m     \u001b[38;5;28;01mreturn\u001b[39;00m response\n",
      "File \u001b[1;32m~\\AppData\\Roaming\\Python\\Python311\\site-packages\\selenium\\webdriver\\remote\\errorhandler.py:229\u001b[0m, in \u001b[0;36mErrorHandler.check_response\u001b[1;34m(self, response)\u001b[0m\n\u001b[0;32m    227\u001b[0m         alert_text \u001b[38;5;241m=\u001b[39m value[\u001b[38;5;124m\"\u001b[39m\u001b[38;5;124malert\u001b[39m\u001b[38;5;124m\"\u001b[39m]\u001b[38;5;241m.\u001b[39mget(\u001b[38;5;124m\"\u001b[39m\u001b[38;5;124mtext\u001b[39m\u001b[38;5;124m\"\u001b[39m)\n\u001b[0;32m    228\u001b[0m     \u001b[38;5;28;01mraise\u001b[39;00m exception_class(message, screen, stacktrace, alert_text)  \u001b[38;5;66;03m# type: ignore[call-arg]  # mypy is not smart enough here\u001b[39;00m\n\u001b[1;32m--> 229\u001b[0m \u001b[38;5;28;01mraise\u001b[39;00m exception_class(message, screen, stacktrace)\n",
      "\u001b[1;31mElementNotInteractableException\u001b[0m: Message: element not interactable\n  (Session info: chrome=122.0.6261.57)\nStacktrace:\n\tGetHandleVerifier [0x00007FF65E1D4C82+3505170]\n\t(No symbol) [0x00007FF65DE00852]\n\t(No symbol) [0x00007FF65DCB3FFD]\n\t(No symbol) [0x00007FF65DCF4BC7]\n\t(No symbol) [0x00007FF65DCF3842]\n\t(No symbol) [0x00007FF65DD1BE8A]\n\t(No symbol) [0x00007FF65DCEF27A]\n\t(No symbol) [0x00007FF65DD1C0A0]\n\t(No symbol) [0x00007FF65DD383B2]\n\t(No symbol) [0x00007FF65DD1BC33]\n\t(No symbol) [0x00007FF65DCED618]\n\t(No symbol) [0x00007FF65DCEE6B1]\n\tGetHandleVerifier [0x00007FF65E2067DD+3708781]\n\tGetHandleVerifier [0x00007FF65E25FC5D+4074477]\n\tGetHandleVerifier [0x00007FF65E257DDF+4042095]\n\tGetHandleVerifier [0x00007FF65DF2A136+708806]\n\t(No symbol) [0x00007FF65DE0CB0F]\n\t(No symbol) [0x00007FF65DE07D14]\n\t(No symbol) [0x00007FF65DE07E6C]\n\t(No symbol) [0x00007FF65DDF79A4]\n\tBaseThreadInitThunk [0x00007FF9DFB4257D+29]\n\tRtlUserThreadStart [0x00007FF9E1D0AA58+40]\n"
     ]
    }
   ],
   "source": [
    "driver = webdriver.Chrome()\n",
    "\n",
    "url = \"https://www.imdb.com/?ref_=nv_home\"\n",
    "\n",
    "driver.get(url)\n",
    "\n",
    "driver.maximize_window()\n",
    "\n",
    "sleep(5)\n",
    "\n",
    "# Aceptar las cookies PAG IMDB\n",
    "driver.find_element(\"css selector\", \"#__next > div > div > div.sc-jrcTuL.bPmWiM > div > button.icb-btn.sc-bcXHqe.sc-dkrFOg.sc-iBYQkv.dcvrLS.ddtuHe.dRCGjd\").click()\n",
    "\n",
    "sleep(5)\n",
    "\n",
    "\n",
    "## MODIFICAR, tiene que ser una lista de tuplas\n",
    "diccionario_peliculas = {\"Puntuacion_IMDB\":[], \"Dirección\": [],\"Guionistas\":[], \"Argumento\":[], \"Duración\":[], \"Nombre de la película\": []}\n",
    "\n",
    "lista_ID\n",
    "\n",
    "for pelicula in lista_ID[9:12]:\n",
    "    \n",
    "    #Accedemos al buscador e introduccimos la peli para buscar PAG IMDB\n",
    "    driver.find_element(\"css selector\",'#suggestion-search').send_keys(pelicula, Keys.ENTER)\n",
    "\n",
    "    sleep(5)\n",
    "\n",
    "    # Entramos a la pagina de la peli\n",
    "    # driver.find_element(\"css selector\", \"#__next > main > div.ipc-page-content-container.ipc-page-content-container--full.sc-a8b15070-0.iMRIeM > div.ipc-page-content-container.ipc-page-content-container--center > section > div > div.ipc-page-grid__item.ipc-page-grid__item--span-2 > section:nth-child(3) > div.sc-17bafbdb-2.iUyFfD > ul > li:nth-child(1) > div.ipc-metadata-list-summary-item__c > div > a\").click()\n",
    "\n",
    "    # sleep(5)\n",
    "\n",
    "# Seleccionar nombre de la pelicula\n",
    "    try:\n",
    "        diccionario_peliculas[\"Nombre de la película\"].append(driver.find_element(\"css selector\", \"#__next > main > div > section.ipc-page-background.ipc-page-background--base.sc-304f99f6-0.fSJiHR > section > div:nth-child(4) > section > section > div.sc-491663c0-3.bdjVSf > div.sc-69e49b85-0.jqlHBQ > h1 > span\").text)\n",
    "    except:\n",
    "        print(\"error nombre peli\")\n",
    "# Seleccionar puntuacion \n",
    "    try: \n",
    "        diccionario_peliculas[\"Puntuacion_IMDB\"].append(driver.find_element(\"xpath\",'//*[@id=\"__next\"]/main/div/section[1]/section/div[3]/section/section/div[2]/div[2]/div/div[1]/a/span/div/div[2]/div[1]/span[1]').text)\n",
    "    except:  \n",
    "        print(\"error PUNTUACION\")\n",
    "\n",
    "# Seleccionar director\n",
    "    try:  \n",
    "        diccionario_peliculas[\"Dirección\"].append(driver.find_element(\"css selector\",\"#__next > main > div > section.ipc-page-background.ipc-page-background--base.sc-304f99f6-0.fSJiHR > div > section > div > div.sc-978e9339-1.ihWZgK.ipc-page-grid__item.ipc-page-grid__item--span-2 > section.ipc-page-section.ipc-page-section--base.sc-bfec09a1-0.jgUBLM.title-cast.title-cast--movie.celwidget > ul > li:nth-child(1) > div > ul > li > a\").text)\n",
    "    except:\n",
    "        print(\"error DIRECTOR\")  \n",
    "\n",
    "# Seleccionar guionistas        \n",
    "    try:\n",
    "        diccionario_peliculas[\"Guionistas\"].append(driver.find_element(\"css selector\",\"#__next > main > div > section.ipc-page-background.ipc-page-background--base.sc-304f99f6-0.fSJiHR > div > section > div > div.sc-978e9339-1.ihWZgK.ipc-page-grid__item.ipc-page-grid__item--span-2 > section.ipc-page-section.ipc-page-section--base.sc-bfec09a1-0.jgUBLM.title-cast.title-cast--movie.celwidget > ul > li:nth-child(2) > div > ul > li > a\").text)\n",
    "    except:\n",
    "        diccionario_peliculas[\"Guionistas\"].append(\"Desconocido\")\n",
    "    \n",
    "    sleep(5)\n",
    "# Seleccionar ARGUMENTO\n",
    "    try:     \n",
    "        driver.find_element(\"css selector\", \"#__next > main > div > section.ipc-page-background.ipc-page-background--base.sc-304f99f6-0.fSJiHR > section > div:nth-child(4) > section > section > div.sc-66ec1b32-0.kbbKze > div > div:nth-child(2) > button\").click()\n",
    "        driver.find_element(\"css selector\", \"body > div.ipc-promptable-base.ipc-promptable-dialog.sc-5356e79c-1.fpIaNP.all-topics-prompt.enter-done > div.ipc-promptable-base__panel.all-topics-prompt__panel > div > div.ipc-promptable-base__auto-focus > div > div.ipc-promptable-base__content > div > div.sc-26f539cf-0.hEkldg > div:nth-child(1) > div > div:nth-child(2) > a\").click()\n",
    "        diccionario_peliculas[\"Argumento\"].append(driver.find_element(\"css selector\", \"#po1590418 > div > div > div\").text)\n",
    "        driver.back() \n",
    "    \n",
    "    except:\n",
    "        try:\n",
    "            diccionario_peliculas[\"Argumento\"].append(driver.find_element(\"css selector\", \"#__next > main > div > section.ipc-page-background.ipc-page-background--base.sc-304f99f6-0.fSJiHR > section > div:nth-child(4) > section > section > div.sc-491663c0-4.yjUiO > div.sc-491663c0-6.lnlBxO > div.sc-491663c0-10.rbXFE > section > p\").text)\n",
    "   \n",
    "        except:\n",
    "            diccionario_peliculas[\"Argumento\"].append(\"Desconocido\")\n",
    "\n",
    "# Seleccionar DURACION        \n",
    "    try:   \n",
    "        diccionario_peliculas[\"Duración\"].append(driver.find_element(\"css selector\",\"#__next > main > div > section.ipc-page-background.ipc-page-background--base.sc-304f99f6-0.fSJiHR > section > div:nth-child(4) > section > section > div.sc-491663c0-3.bdjVSf > div.sc-69e49b85-0.jqlHBQ > ul\").text)\n",
    "    except:\n",
    "            print(\"error Duracion\") \n",
    "\n"
   ]
  },
  {
   "cell_type": "code",
   "execution_count": 35,
   "metadata": {},
   "outputs": [
    {
     "data": {
      "text/plain": [
       "{'Puntuacion_IMDB': ['5,4', '5,0', '6,6'],\n",
       " 'Dirección': ['Bruno Nuytten', 'Adrian Fulle', 'Dorian Ramírez'],\n",
       " 'Guionistas': ['Bruno Nuytten', 'Adrian Fulle', 'Dorian Ramírez'],\n",
       " 'Argumento': ['Desconocido', 'Desconocido', 'Desconocido'],\n",
       " 'Duración': ['2000\\n1h 44min', '2000\\nR\\n1h 26min', '2000\\n1h 15min'],\n",
       " 'Nombre de la película': ['Passionnément',\n",
       "  'Love 101',\n",
       "  'Pushing the Envelope']}"
      ]
     },
     "execution_count": 35,
     "metadata": {},
     "output_type": "execute_result"
    }
   ],
   "source": [
    "diccionario_peliculas"
   ]
  },
  {
   "cell_type": "code",
   "execution_count": 63,
   "metadata": {},
   "outputs": [
    {
     "ename": "NoSuchElementException",
     "evalue": "Message: no such element: Unable to locate element: {\"method\":\"css selector\",\"selector\":\"#rso > div:nth-child(1) > div > div > div:nth-child(3) > div\"}\n  (Session info: chrome=121.0.6167.185); For documentation on this error, please visit: https://www.selenium.dev/documentation/webdriver/troubleshooting/errors#no-such-element-exception\nStacktrace:\n\tGetHandleVerifier [0x00007FF63BFD7012+3522402]\n\t(No symbol) [0x00007FF63BBF8352]\n\t(No symbol) [0x00007FF63BAA5ABB]\n\t(No symbol) [0x00007FF63BAEBF0E]\n\t(No symbol) [0x00007FF63BAEC08C]\n\t(No symbol) [0x00007FF63BB2E437]\n\t(No symbol) [0x00007FF63BB0F09F]\n\t(No symbol) [0x00007FF63BB2BDA3]\n\t(No symbol) [0x00007FF63BB0EE03]\n\t(No symbol) [0x00007FF63BADF4D4]\n\t(No symbol) [0x00007FF63BAE05F1]\n\tGetHandleVerifier [0x00007FF63C009B9D+3730157]\n\tGetHandleVerifier [0x00007FF63C05F02D+4079485]\n\tGetHandleVerifier [0x00007FF63C0575D3+4048163]\n\tGetHandleVerifier [0x00007FF63BD2A649+718233]\n\t(No symbol) [0x00007FF63BC04A3F]\n\t(No symbol) [0x00007FF63BBFFA94]\n\t(No symbol) [0x00007FF63BBFFBC2]\n\t(No symbol) [0x00007FF63BBEF2E4]\n\tBaseThreadInitThunk [0x00007FFBCA91257D+29]\n\tRtlUserThreadStart [0x00007FFBCC3AAA58+40]\n",
     "output_type": "error",
     "traceback": [
      "\u001b[1;31m---------------------------------------------------------------------------\u001b[0m",
      "\u001b[1;31mNoSuchElementException\u001b[0m                    Traceback (most recent call last)",
      "Cell \u001b[1;32mIn[63], line 32\u001b[0m\n\u001b[0;32m     31\u001b[0m \u001b[38;5;28;01mtry\u001b[39;00m:\n\u001b[1;32m---> 32\u001b[0m     diccionario_peliculas[\u001b[38;5;124m\"\u001b[39m\u001b[38;5;124mRotten Tomatoes\u001b[39m\u001b[38;5;124m\"\u001b[39m]\u001b[38;5;241m.\u001b[39mappend(driver\u001b[38;5;241m.\u001b[39mfind_element(\u001b[38;5;124m\"\u001b[39m\u001b[38;5;124mcss selector\u001b[39m\u001b[38;5;124m\"\u001b[39m,\u001b[38;5;124m\"\u001b[39m\u001b[38;5;124m#rso > div:nth-child(3) > div > div > div > div:nth-child(3) > div > span:nth-child(2)\u001b[39m\u001b[38;5;124m\"\u001b[39m)\u001b[38;5;241m.\u001b[39mtext)\n\u001b[0;32m     33\u001b[0m \u001b[38;5;28;01mexcept\u001b[39;00m:\n",
      "File \u001b[1;32m~\\AppData\\Roaming\\Python\\Python311\\site-packages\\selenium\\webdriver\\remote\\webdriver.py:741\u001b[0m, in \u001b[0;36mWebDriver.find_element\u001b[1;34m(self, by, value)\u001b[0m\n\u001b[0;32m    739\u001b[0m     value \u001b[38;5;241m=\u001b[39m \u001b[38;5;124mf\u001b[39m\u001b[38;5;124m'\u001b[39m\u001b[38;5;124m[name=\u001b[39m\u001b[38;5;124m\"\u001b[39m\u001b[38;5;132;01m{\u001b[39;00mvalue\u001b[38;5;132;01m}\u001b[39;00m\u001b[38;5;124m\"\u001b[39m\u001b[38;5;124m]\u001b[39m\u001b[38;5;124m'\u001b[39m\n\u001b[1;32m--> 741\u001b[0m \u001b[38;5;28;01mreturn\u001b[39;00m \u001b[38;5;28mself\u001b[39m\u001b[38;5;241m.\u001b[39mexecute(Command\u001b[38;5;241m.\u001b[39mFIND_ELEMENT, {\u001b[38;5;124m\"\u001b[39m\u001b[38;5;124musing\u001b[39m\u001b[38;5;124m\"\u001b[39m: by, \u001b[38;5;124m\"\u001b[39m\u001b[38;5;124mvalue\u001b[39m\u001b[38;5;124m\"\u001b[39m: value})[\u001b[38;5;124m\"\u001b[39m\u001b[38;5;124mvalue\u001b[39m\u001b[38;5;124m\"\u001b[39m]\n",
      "File \u001b[1;32m~\\AppData\\Roaming\\Python\\Python311\\site-packages\\selenium\\webdriver\\remote\\webdriver.py:347\u001b[0m, in \u001b[0;36mWebDriver.execute\u001b[1;34m(self, driver_command, params)\u001b[0m\n\u001b[0;32m    346\u001b[0m \u001b[38;5;28;01mif\u001b[39;00m response:\n\u001b[1;32m--> 347\u001b[0m     \u001b[38;5;28mself\u001b[39m\u001b[38;5;241m.\u001b[39merror_handler\u001b[38;5;241m.\u001b[39mcheck_response(response)\n\u001b[0;32m    348\u001b[0m     response[\u001b[38;5;124m\"\u001b[39m\u001b[38;5;124mvalue\u001b[39m\u001b[38;5;124m\"\u001b[39m] \u001b[38;5;241m=\u001b[39m \u001b[38;5;28mself\u001b[39m\u001b[38;5;241m.\u001b[39m_unwrap_value(response\u001b[38;5;241m.\u001b[39mget(\u001b[38;5;124m\"\u001b[39m\u001b[38;5;124mvalue\u001b[39m\u001b[38;5;124m\"\u001b[39m, \u001b[38;5;28;01mNone\u001b[39;00m))\n",
      "File \u001b[1;32m~\\AppData\\Roaming\\Python\\Python311\\site-packages\\selenium\\webdriver\\remote\\errorhandler.py:229\u001b[0m, in \u001b[0;36mErrorHandler.check_response\u001b[1;34m(self, response)\u001b[0m\n\u001b[0;32m    228\u001b[0m     \u001b[38;5;28;01mraise\u001b[39;00m exception_class(message, screen, stacktrace, alert_text)  \u001b[38;5;66;03m# type: ignore[call-arg]  # mypy is not smart enough here\u001b[39;00m\n\u001b[1;32m--> 229\u001b[0m \u001b[38;5;28;01mraise\u001b[39;00m exception_class(message, screen, stacktrace)\n",
      "\u001b[1;31mNoSuchElementException\u001b[0m: Message: no such element: Unable to locate element: {\"method\":\"css selector\",\"selector\":\"#rso > div:nth-child(3) > div > div > div > div:nth-child(3) > div > span:nth-child(2)\"}\n  (Session info: chrome=121.0.6167.185); For documentation on this error, please visit: https://www.selenium.dev/documentation/webdriver/troubleshooting/errors#no-such-element-exception\nStacktrace:\n\tGetHandleVerifier [0x00007FF63BFD7012+3522402]\n\t(No symbol) [0x00007FF63BBF8352]\n\t(No symbol) [0x00007FF63BAA5ABB]\n\t(No symbol) [0x00007FF63BAEBF0E]\n\t(No symbol) [0x00007FF63BAEC08C]\n\t(No symbol) [0x00007FF63BB2E437]\n\t(No symbol) [0x00007FF63BB0F09F]\n\t(No symbol) [0x00007FF63BB2BDA3]\n\t(No symbol) [0x00007FF63BB0EE03]\n\t(No symbol) [0x00007FF63BADF4D4]\n\t(No symbol) [0x00007FF63BAE05F1]\n\tGetHandleVerifier [0x00007FF63C009B9D+3730157]\n\tGetHandleVerifier [0x00007FF63C05F02D+4079485]\n\tGetHandleVerifier [0x00007FF63C0575D3+4048163]\n\tGetHandleVerifier [0x00007FF63BD2A649+718233]\n\t(No symbol) [0x00007FF63BC04A3F]\n\t(No symbol) [0x00007FF63BBFFA94]\n\t(No symbol) [0x00007FF63BBFFBC2]\n\t(No symbol) [0x00007FF63BBEF2E4]\n\tBaseThreadInitThunk [0x00007FFBCA91257D+29]\n\tRtlUserThreadStart [0x00007FFBCC3AAA58+40]\n",
      "\nDuring handling of the above exception, another exception occurred:\n",
      "\u001b[1;31mNoSuchElementException\u001b[0m                    Traceback (most recent call last)",
      "Cell \u001b[1;32mIn[63], line 34\u001b[0m\n\u001b[0;32m     32\u001b[0m     diccionario_peliculas[\u001b[38;5;124m\"\u001b[39m\u001b[38;5;124mRotten Tomatoes\u001b[39m\u001b[38;5;124m\"\u001b[39m]\u001b[38;5;241m.\u001b[39mappend(driver\u001b[38;5;241m.\u001b[39mfind_element(\u001b[38;5;124m\"\u001b[39m\u001b[38;5;124mcss selector\u001b[39m\u001b[38;5;124m\"\u001b[39m,\u001b[38;5;124m\"\u001b[39m\u001b[38;5;124m#rso > div:nth-child(3) > div > div > div > div:nth-child(3) > div > span:nth-child(2)\u001b[39m\u001b[38;5;124m\"\u001b[39m)\u001b[38;5;241m.\u001b[39mtext)\n\u001b[0;32m     33\u001b[0m \u001b[38;5;28;01mexcept\u001b[39;00m:\n\u001b[1;32m---> 34\u001b[0m     puntuacion_completa\u001b[38;5;241m=\u001b[39m (driver\u001b[38;5;241m.\u001b[39mfind_element(\u001b[38;5;124m\"\u001b[39m\u001b[38;5;124mcss selector\u001b[39m\u001b[38;5;124m\"\u001b[39m,\u001b[38;5;124m'\u001b[39m\u001b[38;5;124m#rso > div:nth-child(1) > div > div > div:nth-child(3) > div\u001b[39m\u001b[38;5;124m'\u001b[39m)\u001b[38;5;241m.\u001b[39mtext)\n\u001b[0;32m     35\u001b[0m     puntuacion \u001b[38;5;241m=\u001b[39m re\u001b[38;5;241m.\u001b[39msearch(\u001b[38;5;124mr\u001b[39m\u001b[38;5;124m'\u001b[39m\u001b[38;5;124m\\\u001b[39m\u001b[38;5;124mb(\u001b[39m\u001b[38;5;124m\\\u001b[39m\u001b[38;5;124md+)\u001b[39m\u001b[38;5;124m%\u001b[39m\u001b[38;5;124m'\u001b[39m, puntuacion_completa)\n\u001b[0;32m     36\u001b[0m     diccionario_peliculas[\u001b[38;5;124m\"\u001b[39m\u001b[38;5;124mRotten Tomatoes\u001b[39m\u001b[38;5;124m\"\u001b[39m]\u001b[38;5;241m.\u001b[39mappend(puntuacion\u001b[38;5;241m.\u001b[39mgroup())\n",
      "File \u001b[1;32m~\\AppData\\Roaming\\Python\\Python311\\site-packages\\selenium\\webdriver\\remote\\webdriver.py:741\u001b[0m, in \u001b[0;36mWebDriver.find_element\u001b[1;34m(self, by, value)\u001b[0m\n\u001b[0;32m    738\u001b[0m     by \u001b[38;5;241m=\u001b[39m By\u001b[38;5;241m.\u001b[39mCSS_SELECTOR\n\u001b[0;32m    739\u001b[0m     value \u001b[38;5;241m=\u001b[39m \u001b[38;5;124mf\u001b[39m\u001b[38;5;124m'\u001b[39m\u001b[38;5;124m[name=\u001b[39m\u001b[38;5;124m\"\u001b[39m\u001b[38;5;132;01m{\u001b[39;00mvalue\u001b[38;5;132;01m}\u001b[39;00m\u001b[38;5;124m\"\u001b[39m\u001b[38;5;124m]\u001b[39m\u001b[38;5;124m'\u001b[39m\n\u001b[1;32m--> 741\u001b[0m \u001b[38;5;28;01mreturn\u001b[39;00m \u001b[38;5;28mself\u001b[39m\u001b[38;5;241m.\u001b[39mexecute(Command\u001b[38;5;241m.\u001b[39mFIND_ELEMENT, {\u001b[38;5;124m\"\u001b[39m\u001b[38;5;124musing\u001b[39m\u001b[38;5;124m\"\u001b[39m: by, \u001b[38;5;124m\"\u001b[39m\u001b[38;5;124mvalue\u001b[39m\u001b[38;5;124m\"\u001b[39m: value})[\u001b[38;5;124m\"\u001b[39m\u001b[38;5;124mvalue\u001b[39m\u001b[38;5;124m\"\u001b[39m]\n",
      "File \u001b[1;32m~\\AppData\\Roaming\\Python\\Python311\\site-packages\\selenium\\webdriver\\remote\\webdriver.py:347\u001b[0m, in \u001b[0;36mWebDriver.execute\u001b[1;34m(self, driver_command, params)\u001b[0m\n\u001b[0;32m    345\u001b[0m response \u001b[38;5;241m=\u001b[39m \u001b[38;5;28mself\u001b[39m\u001b[38;5;241m.\u001b[39mcommand_executor\u001b[38;5;241m.\u001b[39mexecute(driver_command, params)\n\u001b[0;32m    346\u001b[0m \u001b[38;5;28;01mif\u001b[39;00m response:\n\u001b[1;32m--> 347\u001b[0m     \u001b[38;5;28mself\u001b[39m\u001b[38;5;241m.\u001b[39merror_handler\u001b[38;5;241m.\u001b[39mcheck_response(response)\n\u001b[0;32m    348\u001b[0m     response[\u001b[38;5;124m\"\u001b[39m\u001b[38;5;124mvalue\u001b[39m\u001b[38;5;124m\"\u001b[39m] \u001b[38;5;241m=\u001b[39m \u001b[38;5;28mself\u001b[39m\u001b[38;5;241m.\u001b[39m_unwrap_value(response\u001b[38;5;241m.\u001b[39mget(\u001b[38;5;124m\"\u001b[39m\u001b[38;5;124mvalue\u001b[39m\u001b[38;5;124m\"\u001b[39m, \u001b[38;5;28;01mNone\u001b[39;00m))\n\u001b[0;32m    349\u001b[0m     \u001b[38;5;28;01mreturn\u001b[39;00m response\n",
      "File \u001b[1;32m~\\AppData\\Roaming\\Python\\Python311\\site-packages\\selenium\\webdriver\\remote\\errorhandler.py:229\u001b[0m, in \u001b[0;36mErrorHandler.check_response\u001b[1;34m(self, response)\u001b[0m\n\u001b[0;32m    227\u001b[0m         alert_text \u001b[38;5;241m=\u001b[39m value[\u001b[38;5;124m\"\u001b[39m\u001b[38;5;124malert\u001b[39m\u001b[38;5;124m\"\u001b[39m]\u001b[38;5;241m.\u001b[39mget(\u001b[38;5;124m\"\u001b[39m\u001b[38;5;124mtext\u001b[39m\u001b[38;5;124m\"\u001b[39m)\n\u001b[0;32m    228\u001b[0m     \u001b[38;5;28;01mraise\u001b[39;00m exception_class(message, screen, stacktrace, alert_text)  \u001b[38;5;66;03m# type: ignore[call-arg]  # mypy is not smart enough here\u001b[39;00m\n\u001b[1;32m--> 229\u001b[0m \u001b[38;5;28;01mraise\u001b[39;00m exception_class(message, screen, stacktrace)\n",
      "\u001b[1;31mNoSuchElementException\u001b[0m: Message: no such element: Unable to locate element: {\"method\":\"css selector\",\"selector\":\"#rso > div:nth-child(1) > div > div > div:nth-child(3) > div\"}\n  (Session info: chrome=121.0.6167.185); For documentation on this error, please visit: https://www.selenium.dev/documentation/webdriver/troubleshooting/errors#no-such-element-exception\nStacktrace:\n\tGetHandleVerifier [0x00007FF63BFD7012+3522402]\n\t(No symbol) [0x00007FF63BBF8352]\n\t(No symbol) [0x00007FF63BAA5ABB]\n\t(No symbol) [0x00007FF63BAEBF0E]\n\t(No symbol) [0x00007FF63BAEC08C]\n\t(No symbol) [0x00007FF63BB2E437]\n\t(No symbol) [0x00007FF63BB0F09F]\n\t(No symbol) [0x00007FF63BB2BDA3]\n\t(No symbol) [0x00007FF63BB0EE03]\n\t(No symbol) [0x00007FF63BADF4D4]\n\t(No symbol) [0x00007FF63BAE05F1]\n\tGetHandleVerifier [0x00007FF63C009B9D+3730157]\n\tGetHandleVerifier [0x00007FF63C05F02D+4079485]\n\tGetHandleVerifier [0x00007FF63C0575D3+4048163]\n\tGetHandleVerifier [0x00007FF63BD2A649+718233]\n\t(No symbol) [0x00007FF63BC04A3F]\n\t(No symbol) [0x00007FF63BBFFA94]\n\t(No symbol) [0x00007FF63BBFFBC2]\n\t(No symbol) [0x00007FF63BBEF2E4]\n\tBaseThreadInitThunk [0x00007FFBCA91257D+29]\n\tRtlUserThreadStart [0x00007FFBCC3AAA58+40]\n"
     ]
    }
   ],
   "source": [
    "driver = webdriver.Chrome()\n",
    "\n",
    "url= \"https://www.google.es/\"\n",
    "\n",
    "driver.get(url)\n",
    "\n",
    "driver.maximize_window()\n",
    "\n",
    "# Aceptar las cookies de GOOGLE\n",
    "driver.find_element(\"css selector\", \"#L2AGLb > div\").click()\n",
    "\n",
    "\n",
    "sleep(5)\n",
    "\n",
    "## MODIFICAR, tiene que ser una lista de tuplas\n",
    "diccionario_peliculas = {\"Rotten Tomatoes\":[]}\n",
    "\n",
    "lista_titulos\n",
    "\n",
    "for pelicula in lista_titulos[:10]:\n",
    "    \n",
    "    busqueda = f\"puntuacion Rotten Tomatoes de la {pelicula}\"\n",
    "\n",
    "\n",
    "    sleep(5)\n",
    "\n",
    "\n",
    "    #Accedemos al buscador e introduccimos la peli para buscar PAG IMDB\n",
    "    driver.find_element(\"css selector\",'#APjFqb').send_keys(busqueda, Keys.ENTER)\n",
    "\n",
    "\n",
    "    sleep(5)\n",
    "    try:\n",
    "        diccionario_peliculas[\"Rotten Tomatoes\"].append(driver.find_element(\"css selector\",\"#rso > div:nth-child(3) > div > div > div > div:nth-child(3) > div > span:nth-child(2)\").text)\n",
    "    except:\n",
    "        puntuacion_completa= (driver.find_element(\"css selector\",'#rso > div:nth-child(1) > div > div > div:nth-child(3) > div').text)\n",
    "        puntuacion = re.search(r'\\b(\\d+)%', puntuacion_completa)\n",
    "        diccionario_peliculas[\"Rotten Tomatoes\"].append(puntuacion.group())\n",
    "\n",
    "\n"
   ]
  },
  {
   "cell_type": "code",
   "execution_count": 62,
   "metadata": {},
   "outputs": [
    {
     "name": "stdout",
     "output_type": "stream",
     "text": [
      "{'Rotten Tomatoes': ['80%']}\n"
     ]
    }
   ],
   "source": [
    "print(diccionario_peliculas)"
   ]
  }
 ],
 "metadata": {
  "kernelspec": {
   "display_name": "base",
   "language": "python",
   "name": "python3"
  },
  "language_info": {
   "codemirror_mode": {
    "name": "ipython",
    "version": 3
   },
   "file_extension": ".py",
   "mimetype": "text/x-python",
   "name": "python",
   "nbconvert_exporter": "python",
   "pygments_lexer": "ipython3",
   "version": "3.9.7"
  }
 },
 "nbformat": 4,
 "nbformat_minor": 2
}
