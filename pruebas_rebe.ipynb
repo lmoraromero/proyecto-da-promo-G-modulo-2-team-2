{
 "cells": [
  {
   "cell_type": "code",
   "execution_count": 1,
   "metadata": {},
   "outputs": [],
   "source": [
    "# Importar librerías para tratamiento de datos\n",
    "import pandas as pd  \n",
    "\n",
    "# Importar librerías para web scraping y manipulación de datos\n",
    "from bs4 import BeautifulSoup\n",
    "import requests\n",
    "import re\n",
    "\n",
    "# Importar librerías para automatización de navegadores web con Selenium\n",
    "from selenium import webdriver  \n",
    "from selenium.webdriver.common.by import By\n",
    "from webdriver_manager.chrome import ChromeDriverManager  \n",
    "from selenium.webdriver.common.keys import Keys  \n",
    "from selenium.webdriver.support.ui import Select  \n",
    "\n",
    "# Importar librerías para pausar la ejecución\n",
    "from time import sleep  \n",
    "\n",
    "# Configuraciones\n",
    "pd.set_option('display.max_columns', None)  # Establece una opción de Pandas para mostrar todas las columnas de un DataFrame.\n",
    "\n",
    "import warnings\n",
    "warnings.filterwarnings('ignore')"
   ]
  },
  {
   "cell_type": "code",
   "execution_count": 29,
   "metadata": {},
   "outputs": [],
   "source": [
    "df_1 = pd.read_csv(\"INFO_PELIS/cortos_2000_2006.csv\", index_col = 0)\n",
    "df_2 = pd.read_csv(\"INFO_PELIS/cortos_2021.csv\", index_col = 0)\n",
    "df_3 = pd.read_csv(\"INFO_PELIS/cortos_2022.csv\", index_col = 0)\n",
    "df_4 = pd.read_csv(\"INFO_PELIS/cortos_2023.csv\", index_col = 0)\n",
    "df_5 = pd.read_csv(\"INFO_PELIS/peliculas_2021_2023.csv\", index_col = 0)\n",
    "df_6 = pd.read_csv(\"INFO_PELIS/pelis_2000_2006.csv\", index_col = 0)\n",
    "df_7 = pd.read_csv(\"INFO_PELIS/pelis_2007_2010.csv\", index_col = 0)\n",
    "df_8 = pd.read_csv(\"INFO_PELIS/pelis_2011_2013.csv\", index_col = 0)\n",
    "df_9 = pd.read_csv(\"INFO_PELIS/cortos_2007_2008.csv\", index_col = 0)\n",
    "df_10 = pd.read_csv(\"INFO_PELIS/cortos_2009_2010.csv\", index_col = 0)\n",
    "df_11 = pd.read_csv(\"INFO_PELIS/cortos_2011.csv\", index_col = 0)\n",
    "df_12 = pd.read_csv(\"INFO_PELIS/cortos_2012.csv\", index_col = 0)\n",
    "df_13 = pd.read_csv(\"INFO_PELIS/cortos_2013.csv\", index_col = 0)\n",
    "\n"
   ]
  },
  {
   "cell_type": "code",
   "execution_count": 31,
   "metadata": {},
   "outputs": [],
   "source": [
    "df_peliculas = pd.concat([df_1,df_2,df_3,df_4,df_5,df_6,df_7,df_8,df_9,df_10,df_11,df_12,df_13], axis=0)"
   ]
  },
  {
   "cell_type": "code",
   "execution_count": 32,
   "metadata": {},
   "outputs": [],
   "source": [
    "df_peliculas.to_csv('union_peliculas.csv')"
   ]
  },
  {
   "cell_type": "code",
   "execution_count": 33,
   "metadata": {},
   "outputs": [
    {
     "data": {
      "text/html": [
       "<div>\n",
       "<style scoped>\n",
       "    .dataframe tbody tr th:only-of-type {\n",
       "        vertical-align: middle;\n",
       "    }\n",
       "\n",
       "    .dataframe tbody tr th {\n",
       "        vertical-align: top;\n",
       "    }\n",
       "\n",
       "    .dataframe thead th {\n",
       "        text-align: right;\n",
       "    }\n",
       "</style>\n",
       "<table border=\"1\" class=\"dataframe\">\n",
       "  <thead>\n",
       "    <tr style=\"text-align: right;\">\n",
       "      <th></th>\n",
       "      <th>Genero</th>\n",
       "      <th>Tipo</th>\n",
       "      <th>Título</th>\n",
       "      <th>Año de estreno</th>\n",
       "      <th>Mes de estreno</th>\n",
       "      <th>ID</th>\n",
       "      <th>Género</th>\n",
       "    </tr>\n",
       "  </thead>\n",
       "  <tbody>\n",
       "    <tr>\n",
       "      <th>0</th>\n",
       "      <td>Drama</td>\n",
       "      <td>Short</td>\n",
       "      <td>Chateaubriand - Cabeça de Paraíba</td>\n",
       "      <td>2000</td>\n",
       "      <td>12.0</td>\n",
       "      <td>tt0115874</td>\n",
       "      <td>NaN</td>\n",
       "    </tr>\n",
       "    <tr>\n",
       "      <th>1</th>\n",
       "      <td>Drama</td>\n",
       "      <td>Short</td>\n",
       "      <td>Nights</td>\n",
       "      <td>2000</td>\n",
       "      <td>3.0</td>\n",
       "      <td>tt0138655</td>\n",
       "      <td>NaN</td>\n",
       "    </tr>\n",
       "    <tr>\n",
       "      <th>2</th>\n",
       "      <td>Drama</td>\n",
       "      <td>Short</td>\n",
       "      <td>Caught</td>\n",
       "      <td>2000</td>\n",
       "      <td>8.0</td>\n",
       "      <td>tt0142155</td>\n",
       "      <td>NaN</td>\n",
       "    </tr>\n",
       "    <tr>\n",
       "      <th>3</th>\n",
       "      <td>Drama</td>\n",
       "      <td>Short</td>\n",
       "      <td>Smog</td>\n",
       "      <td>2000</td>\n",
       "      <td>3.0</td>\n",
       "      <td>tt0144613</td>\n",
       "      <td>NaN</td>\n",
       "    </tr>\n",
       "    <tr>\n",
       "      <th>4</th>\n",
       "      <td>Drama</td>\n",
       "      <td>Short</td>\n",
       "      <td>Safe Journey</td>\n",
       "      <td>2000</td>\n",
       "      <td>NaN</td>\n",
       "      <td>tt0188189</td>\n",
       "      <td>NaN</td>\n",
       "    </tr>\n",
       "  </tbody>\n",
       "</table>\n",
       "</div>"
      ],
      "text/plain": [
       "  Genero   Tipo                             Título  Año de estreno  \\\n",
       "0  Drama  Short  Chateaubriand - Cabeça de Paraíba            2000   \n",
       "1  Drama  Short                             Nights            2000   \n",
       "2  Drama  Short                             Caught            2000   \n",
       "3  Drama  Short                               Smog            2000   \n",
       "4  Drama  Short                       Safe Journey            2000   \n",
       "\n",
       "   Mes de estreno         ID Género  \n",
       "0            12.0  tt0115874    NaN  \n",
       "1             3.0  tt0138655    NaN  \n",
       "2             8.0  tt0142155    NaN  \n",
       "3             3.0  tt0144613    NaN  \n",
       "4             NaN  tt0188189    NaN  "
      ]
     },
     "execution_count": 33,
     "metadata": {},
     "output_type": "execute_result"
    }
   ],
   "source": [
    "df_peliculas.head()"
   ]
  },
  {
   "cell_type": "code",
   "execution_count": 7,
   "metadata": {},
   "outputs": [],
   "source": [
    "lista_titulos= df_peliculas[\"Título\"].to_list()"
   ]
  },
  {
   "cell_type": "code",
   "execution_count": 8,
   "metadata": {},
   "outputs": [],
   "source": [
    "lista_ID = df_peliculas[\"ID\"].to_list()"
   ]
  },
  {
   "cell_type": "code",
   "execution_count": 26,
   "metadata": {},
   "outputs": [],
   "source": [
    "driver = webdriver.Chrome()\n",
    "\n",
    "url = \"https://www.imdb.com/?ref_=nv_home\"\n",
    "\n",
    "driver.get(url)\n",
    "\n",
    "driver.maximize_window()\n",
    "\n",
    "sleep(5)\n",
    "\n",
    "# Aceptar las cookies PAG IMDB\n",
    "driver.find_element(\"css selector\", \"#__next > div > div > div.sc-jrcTuL.bPmWiM > div > button.icb-btn.sc-bcXHqe.sc-dkrFOg.sc-iBYQkv.dcvrLS.ddtuHe.dRCGjd\").click()\n",
    "\n",
    "sleep(5)\n",
    "\n",
    "\n",
    "## MODIFICAR, tiene que ser una lista de tuplas\n",
    "diccionario_peliculas = {\"Puntuacion_IMDB\":[], \"Dirección\": [],\"Guionistas\":[], \"Argumento\":[], \"Duración\":[], \"Nombre de la película\": []}\n",
    "\n",
    "lista_ID\n",
    "\n",
    "for pelicula in lista_ID[9:12]:\n",
    "    \n",
    "    #Accedemos al buscador e introduccimos la peli para buscar PAG IMDB\n",
    "    driver.find_element(\"css selector\",'#suggestion-search').send_keys(pelicula, Keys.ENTER)\n",
    "\n",
    "    sleep(5)\n",
    "\n",
    "    # Entramos a la pagina de la peli\n",
    "    # driver.find_element(\"css selector\", \"#__next > main > div.ipc-page-content-container.ipc-page-content-container--full.sc-a8b15070-0.iMRIeM > div.ipc-page-content-container.ipc-page-content-container--center > section > div > div.ipc-page-grid__item.ipc-page-grid__item--span-2 > section:nth-child(3) > div.sc-17bafbdb-2.iUyFfD > ul > li:nth-child(1) > div.ipc-metadata-list-summary-item__c > div > a\").click()\n",
    "\n",
    "    # sleep(5)\n",
    "\n",
    "# Seleccionar nombre de la pelicula\n",
    "    try:\n",
    "        diccionario_peliculas[\"Nombre de la película\"].append(driver.find_element(\"css selector\", \"#__next > main > div > section.ipc-page-background.ipc-page-background--base.sc-304f99f6-0.fSJiHR > section > div:nth-child(4) > section > section > div.sc-491663c0-3.bdjVSf > div.sc-69e49b85-0.jqlHBQ > h1 > span\").text)\n",
    "    except:\n",
    "        print(\"error nombre peli\")\n",
    "# Seleccionar puntuacion \n",
    "    try: \n",
    "        diccionario_peliculas[\"Puntuacion_IMDB\"].append(driver.find_element(\"xpath\",'//*[@id=\"__next\"]/main/div/section[1]/section/div[3]/section/section/div[2]/div[2]/div/div[1]/a/span/div/div[2]/div[1]/span[1]').text)\n",
    "    except:  \n",
    "        print(\"error PUNTUACION\")\n",
    "\n",
    "# Seleccionar director\n",
    "    try:  \n",
    "        diccionario_peliculas[\"Dirección\"].append(driver.find_element(\"css selector\",\"#__next > main > div > section.ipc-page-background.ipc-page-background--base.sc-304f99f6-0.fSJiHR > div > section > div > div.sc-978e9339-1.ihWZgK.ipc-page-grid__item.ipc-page-grid__item--span-2 > section.ipc-page-section.ipc-page-section--base.sc-bfec09a1-0.jgUBLM.title-cast.title-cast--movie.celwidget > ul > li:nth-child(1) > div > ul > li > a\").text)\n",
    "    except:\n",
    "        print(\"error DIRECTOR\")  \n",
    "\n",
    "# Seleccionar guionistas        \n",
    "    try:\n",
    "        diccionario_peliculas[\"Guionistas\"].append(driver.find_element(\"css selector\",\"#__next > main > div > section.ipc-page-background.ipc-page-background--base.sc-304f99f6-0.fSJiHR > div > section > div > div.sc-978e9339-1.ihWZgK.ipc-page-grid__item.ipc-page-grid__item--span-2 > section.ipc-page-section.ipc-page-section--base.sc-bfec09a1-0.jgUBLM.title-cast.title-cast--movie.celwidget > ul > li:nth-child(2) > div > ul > li > a\").text)\n",
    "    except:\n",
    "        diccionario_peliculas[\"Guionistas\"].append(\"Desconocido\")\n",
    "    \n",
    "    sleep(5)\n",
    "# Seleccionar ARGUMENTO\n",
    "    \n",
    "    try:     \n",
    "        \n",
    "        diccionario_peliculas[\"Argumento\"].append(driver.find_element(\"css selector\", 'span[data-testid=\"plot-xl\"]').text)\n",
    "            \n",
    "    except:\n",
    "     \n",
    "        diccionario_peliculas[\"Argumento\"].append(\"Desconocido\")\n",
    "\n",
    "# Seleccionar DURACION        \n",
    "    try:   \n",
    "        diccionario_peliculas[\"Duración\"].append(driver.find_element(\"css selector\",\"#__next > main > div > section.ipc-page-background.ipc-page-background--base.sc-304f99f6-0.fSJiHR > section > div:nth-child(4) > section > section > div.sc-491663c0-3.bdjVSf > div.sc-69e49b85-0.jqlHBQ > ul > li:last-child\").text)\n",
    "    except:\n",
    "            print(\"error Duracion\") \n",
    "\n"
   ]
  },
  {
   "cell_type": "code",
   "execution_count": 28,
   "metadata": {},
   "outputs": [
    {
     "data": {
      "text/plain": [
       "{'Puntuacion_IMDB': ['7,0', '6,6', '6,8'],\n",
       " 'Dirección': ['Mitch Levine', 'Imogen Murphy', 'Kenneth Orkin'],\n",
       " 'Guionistas': ['Arthur Lorenz', 'Imogen Murphy', 'Kenneth Orkin'],\n",
       " 'Argumento': ['Joshua and his father are among the Jewish prisoners in a concentration camp. When the assistant leader of their work crew is gunned down by mistake, the sadistic leader offers Joshua his place. He takes it, but at what price to his heritage and family?',\n",
       "  \"Marty is very short; but he's neither nasty nor brutish, he's a genuinely nice guy, rich in friends but solitary in the game of love. Women, as he says, are over his head; he's out of their picture. Then, he meets Alison, and on a hike up a fairly steep mountain, he shows his down-to-earth courtesy, and she notices his eyes. Life, like Marty, is short. Has he met his ... Leer todo\",\n",
       "  '\"The Good Doctor\" is a fictional short film inspired by Dr. Jack Kevorkian, the media savvy American advocate of assisted suicide. The main character is Dr. Samuel Roberts, who shares many of Kevorkian\\'s beliefs and passions. \"The Good Doctor\" tells the story of an unusual relationship, which develops between Dr. Roberts and the daughter of one of his patients.'],\n",
       " 'Duración': ['24min', '10min', '30min'],\n",
       " 'Nombre de la película': ['Shadows', 'Short', 'The Good Doctor']}"
      ]
     },
     "execution_count": 28,
     "metadata": {},
     "output_type": "execute_result"
    }
   ],
   "source": [
    "diccionario_peliculas"
   ]
  },
  {
   "cell_type": "code",
   "execution_count": 63,
   "metadata": {},
   "outputs": [
    {
     "ename": "NoSuchElementException",
     "evalue": "Message: no such element: Unable to locate element: {\"method\":\"css selector\",\"selector\":\"#rso > div:nth-child(1) > div > div > div:nth-child(3) > div\"}\n  (Session info: chrome=121.0.6167.185); For documentation on this error, please visit: https://www.selenium.dev/documentation/webdriver/troubleshooting/errors#no-such-element-exception\nStacktrace:\n\tGetHandleVerifier [0x00007FF63BFD7012+3522402]\n\t(No symbol) [0x00007FF63BBF8352]\n\t(No symbol) [0x00007FF63BAA5ABB]\n\t(No symbol) [0x00007FF63BAEBF0E]\n\t(No symbol) [0x00007FF63BAEC08C]\n\t(No symbol) [0x00007FF63BB2E437]\n\t(No symbol) [0x00007FF63BB0F09F]\n\t(No symbol) [0x00007FF63BB2BDA3]\n\t(No symbol) [0x00007FF63BB0EE03]\n\t(No symbol) [0x00007FF63BADF4D4]\n\t(No symbol) [0x00007FF63BAE05F1]\n\tGetHandleVerifier [0x00007FF63C009B9D+3730157]\n\tGetHandleVerifier [0x00007FF63C05F02D+4079485]\n\tGetHandleVerifier [0x00007FF63C0575D3+4048163]\n\tGetHandleVerifier [0x00007FF63BD2A649+718233]\n\t(No symbol) [0x00007FF63BC04A3F]\n\t(No symbol) [0x00007FF63BBFFA94]\n\t(No symbol) [0x00007FF63BBFFBC2]\n\t(No symbol) [0x00007FF63BBEF2E4]\n\tBaseThreadInitThunk [0x00007FFBCA91257D+29]\n\tRtlUserThreadStart [0x00007FFBCC3AAA58+40]\n",
     "output_type": "error",
     "traceback": [
      "\u001b[1;31m---------------------------------------------------------------------------\u001b[0m",
      "\u001b[1;31mNoSuchElementException\u001b[0m                    Traceback (most recent call last)",
      "Cell \u001b[1;32mIn[63], line 32\u001b[0m\n\u001b[0;32m     31\u001b[0m \u001b[38;5;28;01mtry\u001b[39;00m:\n\u001b[1;32m---> 32\u001b[0m     diccionario_peliculas[\u001b[38;5;124m\"\u001b[39m\u001b[38;5;124mRotten Tomatoes\u001b[39m\u001b[38;5;124m\"\u001b[39m]\u001b[38;5;241m.\u001b[39mappend(driver\u001b[38;5;241m.\u001b[39mfind_element(\u001b[38;5;124m\"\u001b[39m\u001b[38;5;124mcss selector\u001b[39m\u001b[38;5;124m\"\u001b[39m,\u001b[38;5;124m\"\u001b[39m\u001b[38;5;124m#rso > div:nth-child(3) > div > div > div > div:nth-child(3) > div > span:nth-child(2)\u001b[39m\u001b[38;5;124m\"\u001b[39m)\u001b[38;5;241m.\u001b[39mtext)\n\u001b[0;32m     33\u001b[0m \u001b[38;5;28;01mexcept\u001b[39;00m:\n",
      "File \u001b[1;32m~\\AppData\\Roaming\\Python\\Python311\\site-packages\\selenium\\webdriver\\remote\\webdriver.py:741\u001b[0m, in \u001b[0;36mWebDriver.find_element\u001b[1;34m(self, by, value)\u001b[0m\n\u001b[0;32m    739\u001b[0m     value \u001b[38;5;241m=\u001b[39m \u001b[38;5;124mf\u001b[39m\u001b[38;5;124m'\u001b[39m\u001b[38;5;124m[name=\u001b[39m\u001b[38;5;124m\"\u001b[39m\u001b[38;5;132;01m{\u001b[39;00mvalue\u001b[38;5;132;01m}\u001b[39;00m\u001b[38;5;124m\"\u001b[39m\u001b[38;5;124m]\u001b[39m\u001b[38;5;124m'\u001b[39m\n\u001b[1;32m--> 741\u001b[0m \u001b[38;5;28;01mreturn\u001b[39;00m \u001b[38;5;28mself\u001b[39m\u001b[38;5;241m.\u001b[39mexecute(Command\u001b[38;5;241m.\u001b[39mFIND_ELEMENT, {\u001b[38;5;124m\"\u001b[39m\u001b[38;5;124musing\u001b[39m\u001b[38;5;124m\"\u001b[39m: by, \u001b[38;5;124m\"\u001b[39m\u001b[38;5;124mvalue\u001b[39m\u001b[38;5;124m\"\u001b[39m: value})[\u001b[38;5;124m\"\u001b[39m\u001b[38;5;124mvalue\u001b[39m\u001b[38;5;124m\"\u001b[39m]\n",
      "File \u001b[1;32m~\\AppData\\Roaming\\Python\\Python311\\site-packages\\selenium\\webdriver\\remote\\webdriver.py:347\u001b[0m, in \u001b[0;36mWebDriver.execute\u001b[1;34m(self, driver_command, params)\u001b[0m\n\u001b[0;32m    346\u001b[0m \u001b[38;5;28;01mif\u001b[39;00m response:\n\u001b[1;32m--> 347\u001b[0m     \u001b[38;5;28mself\u001b[39m\u001b[38;5;241m.\u001b[39merror_handler\u001b[38;5;241m.\u001b[39mcheck_response(response)\n\u001b[0;32m    348\u001b[0m     response[\u001b[38;5;124m\"\u001b[39m\u001b[38;5;124mvalue\u001b[39m\u001b[38;5;124m\"\u001b[39m] \u001b[38;5;241m=\u001b[39m \u001b[38;5;28mself\u001b[39m\u001b[38;5;241m.\u001b[39m_unwrap_value(response\u001b[38;5;241m.\u001b[39mget(\u001b[38;5;124m\"\u001b[39m\u001b[38;5;124mvalue\u001b[39m\u001b[38;5;124m\"\u001b[39m, \u001b[38;5;28;01mNone\u001b[39;00m))\n",
      "File \u001b[1;32m~\\AppData\\Roaming\\Python\\Python311\\site-packages\\selenium\\webdriver\\remote\\errorhandler.py:229\u001b[0m, in \u001b[0;36mErrorHandler.check_response\u001b[1;34m(self, response)\u001b[0m\n\u001b[0;32m    228\u001b[0m     \u001b[38;5;28;01mraise\u001b[39;00m exception_class(message, screen, stacktrace, alert_text)  \u001b[38;5;66;03m# type: ignore[call-arg]  # mypy is not smart enough here\u001b[39;00m\n\u001b[1;32m--> 229\u001b[0m \u001b[38;5;28;01mraise\u001b[39;00m exception_class(message, screen, stacktrace)\n",
      "\u001b[1;31mNoSuchElementException\u001b[0m: Message: no such element: Unable to locate element: {\"method\":\"css selector\",\"selector\":\"#rso > div:nth-child(3) > div > div > div > div:nth-child(3) > div > span:nth-child(2)\"}\n  (Session info: chrome=121.0.6167.185); For documentation on this error, please visit: https://www.selenium.dev/documentation/webdriver/troubleshooting/errors#no-such-element-exception\nStacktrace:\n\tGetHandleVerifier [0x00007FF63BFD7012+3522402]\n\t(No symbol) [0x00007FF63BBF8352]\n\t(No symbol) [0x00007FF63BAA5ABB]\n\t(No symbol) [0x00007FF63BAEBF0E]\n\t(No symbol) [0x00007FF63BAEC08C]\n\t(No symbol) [0x00007FF63BB2E437]\n\t(No symbol) [0x00007FF63BB0F09F]\n\t(No symbol) [0x00007FF63BB2BDA3]\n\t(No symbol) [0x00007FF63BB0EE03]\n\t(No symbol) [0x00007FF63BADF4D4]\n\t(No symbol) [0x00007FF63BAE05F1]\n\tGetHandleVerifier [0x00007FF63C009B9D+3730157]\n\tGetHandleVerifier [0x00007FF63C05F02D+4079485]\n\tGetHandleVerifier [0x00007FF63C0575D3+4048163]\n\tGetHandleVerifier [0x00007FF63BD2A649+718233]\n\t(No symbol) [0x00007FF63BC04A3F]\n\t(No symbol) [0x00007FF63BBFFA94]\n\t(No symbol) [0x00007FF63BBFFBC2]\n\t(No symbol) [0x00007FF63BBEF2E4]\n\tBaseThreadInitThunk [0x00007FFBCA91257D+29]\n\tRtlUserThreadStart [0x00007FFBCC3AAA58+40]\n",
      "\nDuring handling of the above exception, another exception occurred:\n",
      "\u001b[1;31mNoSuchElementException\u001b[0m                    Traceback (most recent call last)",
      "Cell \u001b[1;32mIn[63], line 34\u001b[0m\n\u001b[0;32m     32\u001b[0m     diccionario_peliculas[\u001b[38;5;124m\"\u001b[39m\u001b[38;5;124mRotten Tomatoes\u001b[39m\u001b[38;5;124m\"\u001b[39m]\u001b[38;5;241m.\u001b[39mappend(driver\u001b[38;5;241m.\u001b[39mfind_element(\u001b[38;5;124m\"\u001b[39m\u001b[38;5;124mcss selector\u001b[39m\u001b[38;5;124m\"\u001b[39m,\u001b[38;5;124m\"\u001b[39m\u001b[38;5;124m#rso > div:nth-child(3) > div > div > div > div:nth-child(3) > div > span:nth-child(2)\u001b[39m\u001b[38;5;124m\"\u001b[39m)\u001b[38;5;241m.\u001b[39mtext)\n\u001b[0;32m     33\u001b[0m \u001b[38;5;28;01mexcept\u001b[39;00m:\n\u001b[1;32m---> 34\u001b[0m     puntuacion_completa\u001b[38;5;241m=\u001b[39m (driver\u001b[38;5;241m.\u001b[39mfind_element(\u001b[38;5;124m\"\u001b[39m\u001b[38;5;124mcss selector\u001b[39m\u001b[38;5;124m\"\u001b[39m,\u001b[38;5;124m'\u001b[39m\u001b[38;5;124m#rso > div:nth-child(1) > div > div > div:nth-child(3) > div\u001b[39m\u001b[38;5;124m'\u001b[39m)\u001b[38;5;241m.\u001b[39mtext)\n\u001b[0;32m     35\u001b[0m     puntuacion \u001b[38;5;241m=\u001b[39m re\u001b[38;5;241m.\u001b[39msearch(\u001b[38;5;124mr\u001b[39m\u001b[38;5;124m'\u001b[39m\u001b[38;5;124m\\\u001b[39m\u001b[38;5;124mb(\u001b[39m\u001b[38;5;124m\\\u001b[39m\u001b[38;5;124md+)\u001b[39m\u001b[38;5;124m%\u001b[39m\u001b[38;5;124m'\u001b[39m, puntuacion_completa)\n\u001b[0;32m     36\u001b[0m     diccionario_peliculas[\u001b[38;5;124m\"\u001b[39m\u001b[38;5;124mRotten Tomatoes\u001b[39m\u001b[38;5;124m\"\u001b[39m]\u001b[38;5;241m.\u001b[39mappend(puntuacion\u001b[38;5;241m.\u001b[39mgroup())\n",
      "File \u001b[1;32m~\\AppData\\Roaming\\Python\\Python311\\site-packages\\selenium\\webdriver\\remote\\webdriver.py:741\u001b[0m, in \u001b[0;36mWebDriver.find_element\u001b[1;34m(self, by, value)\u001b[0m\n\u001b[0;32m    738\u001b[0m     by \u001b[38;5;241m=\u001b[39m By\u001b[38;5;241m.\u001b[39mCSS_SELECTOR\n\u001b[0;32m    739\u001b[0m     value \u001b[38;5;241m=\u001b[39m \u001b[38;5;124mf\u001b[39m\u001b[38;5;124m'\u001b[39m\u001b[38;5;124m[name=\u001b[39m\u001b[38;5;124m\"\u001b[39m\u001b[38;5;132;01m{\u001b[39;00mvalue\u001b[38;5;132;01m}\u001b[39;00m\u001b[38;5;124m\"\u001b[39m\u001b[38;5;124m]\u001b[39m\u001b[38;5;124m'\u001b[39m\n\u001b[1;32m--> 741\u001b[0m \u001b[38;5;28;01mreturn\u001b[39;00m \u001b[38;5;28mself\u001b[39m\u001b[38;5;241m.\u001b[39mexecute(Command\u001b[38;5;241m.\u001b[39mFIND_ELEMENT, {\u001b[38;5;124m\"\u001b[39m\u001b[38;5;124musing\u001b[39m\u001b[38;5;124m\"\u001b[39m: by, \u001b[38;5;124m\"\u001b[39m\u001b[38;5;124mvalue\u001b[39m\u001b[38;5;124m\"\u001b[39m: value})[\u001b[38;5;124m\"\u001b[39m\u001b[38;5;124mvalue\u001b[39m\u001b[38;5;124m\"\u001b[39m]\n",
      "File \u001b[1;32m~\\AppData\\Roaming\\Python\\Python311\\site-packages\\selenium\\webdriver\\remote\\webdriver.py:347\u001b[0m, in \u001b[0;36mWebDriver.execute\u001b[1;34m(self, driver_command, params)\u001b[0m\n\u001b[0;32m    345\u001b[0m response \u001b[38;5;241m=\u001b[39m \u001b[38;5;28mself\u001b[39m\u001b[38;5;241m.\u001b[39mcommand_executor\u001b[38;5;241m.\u001b[39mexecute(driver_command, params)\n\u001b[0;32m    346\u001b[0m \u001b[38;5;28;01mif\u001b[39;00m response:\n\u001b[1;32m--> 347\u001b[0m     \u001b[38;5;28mself\u001b[39m\u001b[38;5;241m.\u001b[39merror_handler\u001b[38;5;241m.\u001b[39mcheck_response(response)\n\u001b[0;32m    348\u001b[0m     response[\u001b[38;5;124m\"\u001b[39m\u001b[38;5;124mvalue\u001b[39m\u001b[38;5;124m\"\u001b[39m] \u001b[38;5;241m=\u001b[39m \u001b[38;5;28mself\u001b[39m\u001b[38;5;241m.\u001b[39m_unwrap_value(response\u001b[38;5;241m.\u001b[39mget(\u001b[38;5;124m\"\u001b[39m\u001b[38;5;124mvalue\u001b[39m\u001b[38;5;124m\"\u001b[39m, \u001b[38;5;28;01mNone\u001b[39;00m))\n\u001b[0;32m    349\u001b[0m     \u001b[38;5;28;01mreturn\u001b[39;00m response\n",
      "File \u001b[1;32m~\\AppData\\Roaming\\Python\\Python311\\site-packages\\selenium\\webdriver\\remote\\errorhandler.py:229\u001b[0m, in \u001b[0;36mErrorHandler.check_response\u001b[1;34m(self, response)\u001b[0m\n\u001b[0;32m    227\u001b[0m         alert_text \u001b[38;5;241m=\u001b[39m value[\u001b[38;5;124m\"\u001b[39m\u001b[38;5;124malert\u001b[39m\u001b[38;5;124m\"\u001b[39m]\u001b[38;5;241m.\u001b[39mget(\u001b[38;5;124m\"\u001b[39m\u001b[38;5;124mtext\u001b[39m\u001b[38;5;124m\"\u001b[39m)\n\u001b[0;32m    228\u001b[0m     \u001b[38;5;28;01mraise\u001b[39;00m exception_class(message, screen, stacktrace, alert_text)  \u001b[38;5;66;03m# type: ignore[call-arg]  # mypy is not smart enough here\u001b[39;00m\n\u001b[1;32m--> 229\u001b[0m \u001b[38;5;28;01mraise\u001b[39;00m exception_class(message, screen, stacktrace)\n",
      "\u001b[1;31mNoSuchElementException\u001b[0m: Message: no such element: Unable to locate element: {\"method\":\"css selector\",\"selector\":\"#rso > div:nth-child(1) > div > div > div:nth-child(3) > div\"}\n  (Session info: chrome=121.0.6167.185); For documentation on this error, please visit: https://www.selenium.dev/documentation/webdriver/troubleshooting/errors#no-such-element-exception\nStacktrace:\n\tGetHandleVerifier [0x00007FF63BFD7012+3522402]\n\t(No symbol) [0x00007FF63BBF8352]\n\t(No symbol) [0x00007FF63BAA5ABB]\n\t(No symbol) [0x00007FF63BAEBF0E]\n\t(No symbol) [0x00007FF63BAEC08C]\n\t(No symbol) [0x00007FF63BB2E437]\n\t(No symbol) [0x00007FF63BB0F09F]\n\t(No symbol) [0x00007FF63BB2BDA3]\n\t(No symbol) [0x00007FF63BB0EE03]\n\t(No symbol) [0x00007FF63BADF4D4]\n\t(No symbol) [0x00007FF63BAE05F1]\n\tGetHandleVerifier [0x00007FF63C009B9D+3730157]\n\tGetHandleVerifier [0x00007FF63C05F02D+4079485]\n\tGetHandleVerifier [0x00007FF63C0575D3+4048163]\n\tGetHandleVerifier [0x00007FF63BD2A649+718233]\n\t(No symbol) [0x00007FF63BC04A3F]\n\t(No symbol) [0x00007FF63BBFFA94]\n\t(No symbol) [0x00007FF63BBFFBC2]\n\t(No symbol) [0x00007FF63BBEF2E4]\n\tBaseThreadInitThunk [0x00007FFBCA91257D+29]\n\tRtlUserThreadStart [0x00007FFBCC3AAA58+40]\n"
     ]
    }
   ],
   "source": [
    "driver = webdriver.Chrome()\n",
    "\n",
    "url= \"https://www.google.es/\"\n",
    "\n",
    "driver.get(url)\n",
    "\n",
    "driver.maximize_window()\n",
    "\n",
    "# Aceptar las cookies de GOOGLE\n",
    "driver.find_element(\"css selector\", \"#L2AGLb > div\").click()\n",
    "\n",
    "\n",
    "sleep(5)\n",
    "\n",
    "## MODIFICAR, tiene que ser una lista de tuplas\n",
    "diccionario_peliculas = {\"Rotten Tomatoes\":[]}\n",
    "\n",
    "lista_titulos\n",
    "\n",
    "for pelicula in lista_titulos[:10]:\n",
    "    \n",
    "    busqueda = f\"puntuacion Rotten Tomatoes de la {pelicula}\"\n",
    "\n",
    "\n",
    "    sleep(5)\n",
    "\n",
    "\n",
    "    #Accedemos al buscador e introduccimos la peli para buscar PAG IMDB\n",
    "    driver.find_element(\"css selector\",'#APjFqb').send_keys(busqueda, Keys.ENTER)\n",
    "\n",
    "\n",
    "    sleep(5)\n",
    "    try:\n",
    "        diccionario_peliculas[\"Rotten Tomatoes\"].append(driver.find_element(\"css selector\",\"#rso > div:nth-child(3) > div > div > div > div:nth-child(3) > div > span:nth-child(2)\").text)\n",
    "    except:\n",
    "        puntuacion_completa= (driver.find_element(\"css selector\",'#rso > div:nth-child(1) > div > div > div:nth-child(3) > div').text)\n",
    "        puntuacion = re.search(r'\\b(\\d+)%', puntuacion_completa)\n",
    "        diccionario_peliculas[\"Rotten Tomatoes\"].append(puntuacion.group())\n",
    "\n",
    "\n"
   ]
  },
  {
   "cell_type": "code",
   "execution_count": 62,
   "metadata": {},
   "outputs": [
    {
     "name": "stdout",
     "output_type": "stream",
     "text": [
      "{'Rotten Tomatoes': ['80%']}\n"
     ]
    }
   ],
   "source": [
    "print(diccionario_peliculas)"
   ]
  }
 ],
 "metadata": {
  "kernelspec": {
   "display_name": "base",
   "language": "python",
   "name": "python3"
  },
  "language_info": {
   "codemirror_mode": {
    "name": "ipython",
    "version": 3
   },
   "file_extension": ".py",
   "mimetype": "text/x-python",
   "name": "python",
   "nbconvert_exporter": "python",
   "pygments_lexer": "ipython3",
   "version": "3.11.5"
  }
 },
 "nbformat": 4,
 "nbformat_minor": 2
}
